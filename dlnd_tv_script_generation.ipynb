{
 "cells": [
  {
   "cell_type": "markdown",
   "metadata": {},
   "source": [
    "# TV Script Generation\n",
    "In this project, you'll generate your own [Simpsons](https://en.wikipedia.org/wiki/The_Simpsons) TV scripts using RNNs.  You'll be using part of the [Simpsons dataset](https://www.kaggle.com/wcukierski/the-simpsons-by-the-data) of scripts from 27 seasons.  The Neural Network you'll build will generate a new TV script for a scene at [Moe's Tavern](https://simpsonswiki.com/wiki/Moe's_Tavern).\n",
    "## Get the Data\n",
    "The data is already provided for you.  You'll be using a subset of the original dataset.  It consists of only the scenes in Moe's Tavern.  This doesn't include other versions of the tavern, like \"Moe's Cavern\", \"Flaming Moe's\", \"Uncle Moe's Family Feed-Bag\", etc.."
   ]
  },
  {
   "cell_type": "code",
   "execution_count": null,
   "metadata": {
    "collapsed": true
   },
   "outputs": [],
   "source": [
    "\"\"\"\n",
    "DON'T MODIFY ANYTHING IN THIS CELL\n",
    "\"\"\"\n",
    "import helper\n",
    "\n",
    "data_dir = './data/simpsons/moes_tavern_lines.txt'\n",
    "text = helper.load_data(data_dir)\n",
    "# Ignore notice, since we don't use it for analysing the data\n",
    "text = text[81:]"
   ]
  },
  {
   "cell_type": "markdown",
   "metadata": {},
   "source": [
    "## Explore the Data\n",
    "Play around with `view_sentence_range` to view different parts of the data."
   ]
  },
  {
   "cell_type": "code",
   "execution_count": null,
   "metadata": {
    "collapsed": true
   },
   "outputs": [],
   "source": [
    "view_sentence_range = (0, 10)\n",
    "\n",
    "\"\"\"\n",
    "DON'T MODIFY ANYTHING IN THIS CELL\n",
    "\"\"\"\n",
    "import numpy as np\n",
    "\n",
    "print('Dataset Stats')\n",
    "print('Roughly the number of unique words: {}'.format(len({word: None for word in text.split()})))\n",
    "scenes = text.split('\\n\\n')\n",
    "print('Number of scenes: {}'.format(len(scenes)))\n",
    "sentence_count_scene = [scene.count('\\n') for scene in scenes]\n",
    "print('Average number of sentences in each scene: {}'.format(np.average(sentence_count_scene)))\n",
    "\n",
    "sentences = [sentence for scene in scenes for sentence in scene.split('\\n')]\n",
    "print('Number of lines: {}'.format(len(sentences)))\n",
    "word_count_sentence = [len(sentence.split()) for sentence in sentences]\n",
    "print('Average number of words in each line: {}'.format(np.average(word_count_sentence)))\n",
    "\n",
    "print()\n",
    "print('The sentences {} to {}:'.format(*view_sentence_range))\n",
    "print('\\n'.join(text.split('\\n')[view_sentence_range[0]:view_sentence_range[1]]))"
   ]
  },
  {
   "cell_type": "markdown",
   "metadata": {},
   "source": [
    "## Implement Preprocessing Functions\n",
    "The first thing to do to any dataset is preprocessing.  Implement the following preprocessing functions below:\n",
    "- Lookup Table\n",
    "- Tokenize Punctuation\n",
    "\n",
    "### Lookup Table\n",
    "To create a word embedding, you first need to transform the words to ids.  In this function, create two dictionaries:\n",
    "- Dictionary to go from the words to an id, we'll call `vocab_to_int`\n",
    "- Dictionary to go from the id to word, we'll call `int_to_vocab`\n",
    "\n",
    "Return these dictionaries in the following tuple `(vocab_to_int, int_to_vocab)`"
   ]
  },
  {
   "cell_type": "code",
   "execution_count": 19,
   "metadata": {},
   "outputs": [
    {
     "name": "stdout",
     "output_type": "stream",
     "text": [
      "{0: 'your', 1: 'with', 2: 'has', 3: 'these', 4: 'on', 5: 'hello', 6: 'whats', 7: 'not', 8: 'the', 9: 'problems', 10: 'gonna', 11: 'hey', 12: 'to', 13: 'rotch', 14: \"i'm\", 15: 'of', 16: 'little', 17: 'days', 18: \"moe's\", 19: 'one', 20: 'homer_simpson', 21: 'ice', 22: 'carve', 23: 'give', 24: 'enhance', 25: 'effervescent', 26: 'back', 27: 'another', 28: 'normal', 29: 'only', 30: 'catch', 31: 'homer', 32: 'self', 33: 'and', 34: 'mike', 35: 'bart_simpson', 36: 'me', 37: 'hold', 38: 'is', 39: 'there', 40: 'pick', 41: 'listen', 42: 'puke', 43: 'drink', 44: 'got', 45: 'social', 46: 'barney_gumble', 47: 'seen', 48: \"i'll\", 49: 'elite', 50: 'should', 51: 'yeah', 52: 'where', 53: 'an', 54: 'moe_szyslak', 55: 'you', 56: \"you're\", 57: 'name', 58: 'last', 59: 'meet', 60: 'check', 61: 'moe', 62: 'forget', 63: 'my', 64: 'matter', 65: 'i', 66: 'lately', 67: 'anybody', 68: 'tavern', 69: 'skills', 70: 'eh'}\n",
      "Tests Passed\n"
     ]
    }
   ],
   "source": [
    "import numpy as np\n",
    "import problem_unittests as tests\n",
    "from collections import Counter\n",
    "\n",
    "def create_lookup_tables(text):\n",
    "    \"\"\"\n",
    "    Create lookup tables for vocabulary\n",
    "    :param text: The text of tv scripts split into words\n",
    "    :return: A tuple of dicts (vocab_to_int, int_to_vocab)\n",
    "    \"\"\"\n",
    "    # TODO: Implement Function\n",
    "      \n",
    "    counter = Counter(text)\n",
    "    #print(counter)\n",
    "    vocab_to_int = {word:id for id, word in enumerate(counter.keys())}\n",
    "    #print(vocab_to_int)\n",
    "    int_to_vocab = {id:word for word, id in vocab_to_int.items()}\n",
    "    #print(int_to_vocab)\n",
    "    return vocab_to_int, int_to_vocab    \n",
    " \n",
    "\n",
    "\n",
    "\"\"\"\n",
    "DON'T MODIFY ANYTHING IN THIS CELL THAT IS BELOW THIS LINE\n",
    "\"\"\"\n",
    "tests.test_create_lookup_tables(create_lookup_tables)"
   ]
  },
  {
   "cell_type": "markdown",
   "metadata": {},
   "source": [
    "### Tokenize Punctuation\n",
    "We'll be splitting the script into a word array using spaces as delimiters.  However, punctuations like periods and exclamation marks make it hard for the neural network to distinguish between the word \"bye\" and \"bye!\".\n",
    "\n",
    "Implement the function `token_lookup` to return a dict that will be used to tokenize symbols like \"!\" into \"||Exclamation_Mark||\".  Create a dictionary for the following symbols where the symbol is the key and value is the token:\n",
    "- Period ( . )\n",
    "- Comma ( , )\n",
    "- Quotation Mark ( \" )\n",
    "- Semicolon ( ; )\n",
    "- Exclamation mark ( ! )\n",
    "- Question mark ( ? )\n",
    "- Left Parentheses ( ( )\n",
    "- Right Parentheses ( ) )\n",
    "- Dash ( -- )\n",
    "- Return ( \\n )\n",
    "\n",
    "This dictionary will be used to token the symbols and add the delimiter (space) around it.  This separates the symbols as it's own word, making it easier for the neural network to predict on the next word. Make sure you don't use a token that could be confused as a word. Instead of using the token \"dash\", try using something like \"||dash||\"."
   ]
  },
  {
   "cell_type": "code",
   "execution_count": 21,
   "metadata": {},
   "outputs": [
    {
     "name": "stdout",
     "output_type": "stream",
     "text": [
      "Tests Passed\n"
     ]
    }
   ],
   "source": [
    "def token_lookup():\n",
    "    \"\"\"\n",
    "    Generate a dict to turn punctuation into a token.\n",
    "    :return: Tokenize dictionary where the key is the punctuation and the value is the token\n",
    "    \"\"\"\n",
    "    # TODO: Implement Function\n",
    "    token_lookup = dict({'.' : '||Period||',\n",
    "                         ',' : '||Comma||',\n",
    "                         '\"' : '||QuotationMark||',\n",
    "                         ';' : '||Semicolon||',\n",
    "                         '!' : '||Exclamationmark||',\n",
    "                         '?' : '||Questionmark||',\n",
    "                         '(' : '||LeftParentheses||',\n",
    "                         ')' : '||RightParentheses||',\n",
    "                        '--' : '||Dash||',\n",
    "                         '\\n' : '||Return||',           \n",
    "                        \n",
    "                        \n",
    "                        })\n",
    "    \n",
    "    return token_lookup\n",
    "\n",
    "\"\"\"\n",
    "DON'T MODIFY ANYTHING IN THIS CELL THAT IS BELOW THIS LINE\n",
    "\"\"\"\n",
    "tests.test_tokenize(token_lookup)"
   ]
  },
  {
   "cell_type": "markdown",
   "metadata": {},
   "source": [
    "## Preprocess all the data and save it\n",
    "Running the code cell below will preprocess all the data and save it to file."
   ]
  },
  {
   "cell_type": "code",
   "execution_count": 22,
   "metadata": {},
   "outputs": [
    {
     "name": "stdout",
     "output_type": "stream",
     "text": [
      "{0: 'code', 1: 'mistake', 2: 'crowd:', 3: 'found', 4: 'helping', 5: 'united', 6: 'station', 7: '||comma||', 8: 'backwards', 9: 'were', 10: 'fl', 11: 'danish', 12: 'libido', 13: 'delicately', 14: '||return||', 15: 'rub-a-dub', 16: 'buddies', 17: 'all-star', 18: 'pas', 19: 'dizzy', 20: 'groin', 21: 'contemporary', 22: 'woo', 23: 'mild', 24: 'trying', 25: 'beauty', 26: 'nein', 27: 'true', 28: 'cell', 29: 'bubble', 30: 'advice', 31: 'olive', 32: 'he', 33: 'reaches', 34: 'du', 35: 'physical', 36: 'santeria', 37: 'mathis', 38: 'glum', 39: 'flustered', 40: 'disapproving', 41: 'ocean', 42: 'burps', 43: 'shakespeare', 44: 'life:', 45: 'ever', 46: 'began', 47: 'eyesore', 48: 'radioactive', 49: 'represent', 50: 'causes', 51: 'jogging', 52: 'weirder', 53: 'tire', 54: 'wooooo', 55: 'juke', 56: 'rap', 57: \"how's\", 58: \"sat's\", 59: \"i've\", 60: 'playing', 61: 'poke', 62: 'forced', 63: 'agent_miller:', 64: 'official', 65: 'diving', 66: 'apply', 67: 'reminded', 68: 'clean', 69: 'fustigation', 70: 'highball', 71: 'including', 72: 'appalled', 73: 'gasps', 74: 'bolting', 75: 'obvious', 76: 'lurleen_lumpkin:', 77: 'interrupting', 78: 'extended', 79: 'blind', 80: 'compressions', 81: 'unbelievable', 82: 'seconds', 83: 'criminal', 84: 'dynamite', 85: 'vampire', 86: 'book', 87: 'choking', 88: 'dumb-asses', 89: 'lobster', 90: 'stories', 91: 'fatso', 92: 'buddy', 93: 'innocence', 94: 'squadron', 95: 'wondered', 96: 'spreads', 97: 'pit', 98: 'tow-talitarian', 99: 'op', 100: 'feminine', 101: 'notice', 102: 'rope', 103: 'barflies:', 104: \"now's\", 105: 'bowled', 106: 'ton', 107: 'nbc', 108: 'homer_', 109: 'fanciest', 110: 'kay', 111: 'roller', 112: 'karaoke', 113: \"waitin'\", 114: 'understanding', 115: 'pointed', 116: 'clench', 117: 'wha', 118: 'beached', 119: 'einstein', 120: 'man_with_crazy_beard:', 121: \"pickin'\", 122: 'seamstress', 123: \"what'll\", 124: 'turns', 125: 'so-ng', 126: 'dispenser', 127: 'friend:', 128: 'clubs', 129: 'dull', 130: 'yes', 131: 'such', 132: 'heals', 133: 'ordered', 134: 'quick-like', 135: 'porn', 136: 'hers', 137: 'whirlybird', 138: 'supervising', 139: 'amber_dempsey:', 140: 'er', 141: 'computer', 142: 'de', 143: 'buffalo', 144: 'mister', 145: 'kirk', 146: 'cocktail', 147: \"shan't\", 148: 'intruding', 149: 'machine', 150: 'represents', 151: 'form', 152: 'astrid', 153: 'alter', 154: 'generosity', 155: 'purse', 156: 'duh', 157: 'accept', 158: 'march', 159: 'tang', 160: 'shrieks', 161: 'zinged', 162: 'enjoyed', 163: 'strolled', 164: 'mistresses', 165: 'tank', 166: 'hide', 167: 'boxing', 168: 'hidden', 169: 'sweetest', 170: 'too', 171: 'excited', 172: 'entering', 173: 'bar:', 174: 'car', 175: 'smoothly', 176: \"who'll\", 177: 'maya', 178: 'additional-seating-capacity', 179: \"he's\", 180: 'cuz', 181: 'distract', 182: 'chum', 183: 'prettied', 184: 'groveling', 185: 'treasure', 186: 'splattered', 187: 'traditions', 188: 'occasional', 189: 'a-b-', 190: 'state', 191: 'nos', 192: 'jernt', 193: 'sixty', 194: 'lush', 195: \"tv's\", 196: 'stocking', 197: 'chub', 198: 'barter', 199: 'tuna', 200: 'minus', 201: 'congoleum', 202: \"doin'\", 203: 'cruiser', 204: \"bart'd\", 205: 'pond', 206: 'sandwich', 207: 'annual', 208: 'insightful', 209: 'things', 210: 'shelbyville', 211: 'sisters', 212: 'smurfs', 213: 'nerve', 214: \"mother's\", 215: '4x4', 216: 'decency', 217: 's', 218: 'publish', 219: 'shaking', 220: 'sweden', 221: 'service', 222: 'yoo', 223: 'chauffeur:', 224: 'customer', 225: 'stop', 226: 'sign', 227: 'adrift', 228: 'unavailable', 229: 'dashes', 230: 'multi-national', 231: 'lumpa', 232: 'hey', 233: \"hole'\", 234: 'to', 235: 'walther', 236: 'discussing', 237: 'neither', 238: 'doll', 239: 'distributor', 240: 'intoxicated', 241: 'straining', 242: 'fella', 243: 'apology', 244: 'party', 245: 'myself', 246: 'wrapped', 247: 'coaster', 248: 'skinner', 249: 'dearest', 250: 'twelve', 251: 'aghast', 252: 'jacques', 253: 'gold', 254: 'warm_female_voice:', 255: 'whaaaa', 256: 'haikus', 257: 'hemorrhage-amundo', 258: 'blown', 259: 'exception:', 260: 'scarf', 261: 'drank', 262: 'corn', 263: 'means', 264: 'statues', 265: 'tv_father:', 266: 'jeff_gordon:', 267: 'cheated', 268: 'swill', 269: 'quit', 270: 'happily', 271: 'rainbows', 272: 'meaningful', 273: 'young_barfly:', 274: 'sobo', 275: 'edelbrock', 276: 'rekindle', 277: 'lurks', 278: 'sympathizer', 279: 'selective', 280: 'whaddaya', 281: 'billiard', 282: 'nickel', 283: 'caholic', 284: 'attempting', 285: 'retired', 286: 'lily-pond', 287: 'borrow', 288: 'voice', 289: 'opportunity', 290: 'rome', 291: 'stevie', 292: 'never', 293: 'dipping', 294: 'roy', 295: 'trucks', 296: 'wash', 297: 'seems', 298: 'pissed', 299: 'writer:', 300: 'socratic', 301: 'fever', 302: 'agree', 303: 'four-drink', 304: 'praise', 305: 'kinda', 306: 'insults', 307: 'stab', 308: 'krusty', 309: \"wouldn't-a\", 310: 'is', 311: 'row', 312: 'scared', 313: 'barney-guarding', 314: 'hospital', 315: 'unsafe', 316: 'octa-', 317: 'omit', 318: 'milks', 319: 'ground', 320: 'fund', 321: 'loneliness', 322: 'synthesize', 323: 'publishers', 324: 'schnapps', 325: 'crawl', 326: 'brain', 327: 'courthouse', 328: 'stay', 329: 'twice', 330: 'rabbits', 331: 'hideous', 332: 'vote', 333: 'principal', 334: 'thorn', 335: 'sing-song', 336: 'common', 337: 'booth', 338: 'leg', 339: 'interesting', 340: 'shipment', 341: 'trash', 342: 'peppy', 343: 'inside', 344: 'device', 345: 'wayne', 346: \"maggie's\", 347: 'presently', 348: 'pursue', 349: 'norway', 350: 'studied', 351: 'anderson', 352: 'wasting', 353: 'elocution', 354: 'ads', 355: 'officials', 356: 'kids', 357: 'workers', 358: 'fbi', 359: 'superpower', 360: 'majesty', 361: 'riding', 362: 'children', 363: 'waylon_smithers:', 364: 'anniversary', 365: 'bag', 366: 'homie', 367: \"'ceptin'\", 368: 'prove', 369: 'bad-mouth', 370: 'heather', 371: 'life-extension', 372: 'alone', 373: 'plastic', 374: 'contemptuous', 375: 'fireball', 376: 'stretch', 377: 'creature', 378: 'granted', 379: 'four-star', 380: 'room', 381: 'fastest', 382: 'suburban', 383: 'sacajawea', 384: 'incognito', 385: 'miss', 386: 'tremendous', 387: 'mumble', 388: 'obese', 389: 'great', 390: 'sidelines', 391: 'these', 392: 'richard', 393: 'marry', 394: 'freely', 395: 'experiments', 396: 'earlier', 397: 'wantcha', 398: 'whup', 399: \"g'ahead\", 400: \"marge's\", 401: 'koholic', 402: 'chumbawamba', 403: 'meteor', 404: 'punching', 405: 'hmm', 406: 'avec', 407: 'ruuuule', 408: 'wounds', 409: 'takeaway', 410: 'leaving', 411: 'omigod', 412: 'teach', 413: \"i'd'a\", 414: 'witches', 415: 'always', 416: 'she', 417: 'throws', 418: 'ice', 419: 'soon', 420: 'broom', 421: 'listens', 422: 'straight', 423: 'astronaut', 424: 'weekend', 425: 'refresh', 426: 'ferry', 427: 'philosophic', 428: 'pointy', 429: 'winks', 430: 'ummmmmmmmm', 431: 'demand', 432: 'hangout', 433: 'amends', 434: 'cola', 435: 'walking', 436: 'dough', 437: 'hearse', 438: 'heroism', 439: 'sesame', 440: 'wrestle', 441: 'has', 442: 'stuck', 443: 'bidet', 444: 'born', 445: '&', 446: 'all-all-all', 447: 'freaking', 448: 'concentrate', 449: 'guttural', 450: 'sports_announcer:', 451: 'stole', 452: \"kids'\", 453: 'tyson/secretariat', 454: 'fill', 455: 'old_jewish_man:', 456: 'skin', 457: 'cadillac', 458: 'accidents', 459: 'send', 460: 'scary', 461: 'colorado', 462: 'sickly', 463: \"stayin'\", 464: 'friend', 465: \"ya'\", 466: 'muscles', 467: 'incriminating', 468: 'wonder', 469: 'milk', 470: 'shoulda', 471: \"i'll\", 472: 'mount', 473: 'endorsed', 474: 'syndicate', 475: 'chug-a-lug', 476: 'hotenhoffer', 477: 'ya', 478: 'sub-monkeys', 479: 'appear', 480: 'committee', 481: 'duffed', 482: 'word', 483: 'triumphantly', 484: 'orders', 485: 'deeply', 486: 'ribbon', 487: \"life's\", 488: 'barstools', 489: '1895', 490: 'fact', 491: 'writing', 492: 'freak', 493: 'mona_simpson:', 494: 'biggest', 495: 'office', 496: 'quarry', 497: 'maman', 498: 'nuts', 499: 'gorgeous', 500: 'either', 501: 'temp', 502: 'scanning', 503: 'size', 504: 'attractive_woman_#1:', 505: 'van', 506: \"wasn't\", 507: 'tolerance', 508: 'belch', 509: 'part', 510: 'tries', 511: 'fall', 512: 'mall', 513: 'italian', 514: 'champion', 515: 'little_hibbert_girl:', 516: 'eggs', 517: 'souvenir', 518: 'whee', 519: 'mayan', 520: 'ehhhhhhhhh', 521: 'taken', 522: \"nixon's\", 523: 'grieving', 524: 'moe-lennium', 525: 'gimmick', 526: 'lenford', 527: 'lighten', 528: 'reluctantly', 529: 'underpants', 530: \"'pu\", 531: 'school', 532: 'fica', 533: 'social', 534: 'disappeared', 535: 'hardwood', 536: 'for', 537: 'kodos:', 538: 'sentimonies', 539: 'twenty-five', 540: 'gentlemen', 541: 'voters', 542: 'produce', 543: 'reactions', 544: 'relieved', 545: 'michael', 546: 'adjourned', 547: 'dictator', 548: 'pirate', 549: 'clapping', 550: 'let', 551: 'picnic', 552: 'troubles', 553: 'next', 554: 'self', 555: 'nudge', 556: 'kansas', 557: 'old', 558: 'irish', 559: 'circus', 560: 'leans', 561: 'reconsidering', 562: 'strictly', 563: 'testing', 564: 'steak', 565: 'bleak', 566: 'poetry', 567: 'barbed', 568: 'measure', 569: 'abusive', 570: 'if', 571: 'checking', 572: 'hanging', 573: 'celebrity', 574: 'snake', 575: 'tanked-up', 576: 'separator', 577: 'twin', 578: 'crooks', 579: 'othello', 580: \"lady's\", 581: 'chubby', 582: 'stored', 583: 'sickened', 584: 'napkins', 585: 'mini-dumpsters', 586: \"i'm-so-stupid\", 587: 'edna-lover-one-seventy-two', 588: 'away', 589: 'cannot', 590: 'squabbled', 591: 'shove', 592: 'jump', 593: 'tiger', 594: 'scully', 595: 'milhouses', 596: 'y-you', 597: 'signed', 598: 'prints', 599: 'selma_bouvier:', 600: 'indicates', 601: 'trick', 602: 'young_homer:', 603: 'eventually', 604: 'hair', 605: 'bender:', 606: 'moolah-stealing', 607: 'remembering', 608: 'doubt', 609: \"fun's\", 610: 'al', 611: 'cheaper', 612: 'tipsy', 613: \"speakin'\", 614: 'papa', 615: 'syrup', 616: '_burns_heads:', 617: 'tornado', 618: 'potato', 619: 'shocked', 620: \"'tis\", 621: 'fiiiiile', 622: 'presentable', 623: 'warmth', 624: 'dreams', 625: 'refiero', 626: 'dead', 627: 'chanting', 628: 'dumpster', 629: 'wheels', 630: 'kissingher', 631: 'desperate', 632: 'whoa', 633: 'senators', 634: 'unfair', 635: 'specializes', 636: 'ate', 637: 'column', 638: 'boxer', 639: \"tatum'll\", 640: 'blend', 641: 'pro', 642: 'lookalikes', 643: 'chic', 644: 'follow', 645: 'typed', 646: 'hockey-fight', 647: 'adult_bart:', 648: 'miracle', 649: \"playin'\", 650: 'worst', 651: \"askin'\", 652: 'carnival', 653: 'sperm', 654: 'wh', 655: 'partner', 656: \"enjoyin'\", 657: 'cheryl', 658: 'sturdy', 659: 'rid', 660: 'kills', 661: 'pouring', 662: 'plenty', 663: 'manjula_nahasapeemapetilon:', 664: 'windelle', 665: 'luckily', 666: 'manchego', 667: 'beats', 668: 'rainforest', 669: 'faded', 670: 'high-definition', 671: 'maitre', 672: 'celeste', 673: 'settlement', 674: 'we-we-we', 675: 'buying', 676: 'mine', 677: 'gags', 678: 'silence', 679: 'prompting', 680: 'clipped', 681: \"what'sa\", 682: 'frog', 683: 'tired', 684: 'literature', 685: 'regulars', 686: 'sniffing', 687: 'obama', 688: 'teddy', 689: 'closed', 690: 'sinkhole', 691: 'speak', 692: 'anymore', 693: 'heliotrope', 694: 'pepto-bismol', 695: 'pointing', 696: 'dennis_conroy:', 697: 'spotting', 698: 'cheerier', 699: 'ready', 700: 'bake', 701: 'pretend', 702: 'african', 703: 'brothers', 704: 'taught', 705: 'spare', 706: 'erasers', 707: 'winston', 708: 'slab', 709: 'orphan', 710: \"foolin'\", 711: 'kickoff', 712: 'loathe', 713: 'bluff', 714: 'suing', 715: 'payments', 716: 'capitol', 717: 'coincidentally', 718: \"s'pose\", 719: 'dana_scully:', 720: 'bet', 721: 'knock', 722: 'strokkur', 723: 'jobless', 724: 'grumbling', 725: 'danny', 726: 'money', 727: 'dr', 728: 'microbrew', 729: 'rockers', 730: 'movies', 731: 'fantastic', 732: 'annoying', 733: 'nice', 734: 'hmf', 735: 'furniture', 736: 'stained-glass', 737: 'crummy', 738: 'candy', 739: 'scream', 740: 'spooky', 741: 'option', 742: 'ugh', 743: 'they', 744: 'access', 745: 'nonchalantly', 746: 'flanders', 747: 'notably', 748: 'cake', 749: 'befriend', 750: 'nervous', 751: 'moe-ron', 752: 'nash', 753: 'while', 754: 'wanted', 755: 'f-l-a-n-r-d-s', 756: 'thirteen', 757: 'seymour', 758: 'gut', 759: 'sheepish', 760: 'begins', 761: 'chair', 762: 'argue', 763: 'alarm', 764: 'swell', 765: 'endorse', 766: 'larry:', 767: 'indifference', 768: 'everywhere', 769: \"handwriting's\", 770: 'flag', 771: 'vincent', 772: 'homers', 773: 'shades', 774: 'iranian', 775: 'woozy', 776: 'barber', 777: 'stooges', 778: 'maggie', 779: 'network', 780: 'though', 781: 'grampa_simpson:', 782: 'near', 783: 'older', 784: 'attractive', 785: 'ought', 786: 'logos', 787: 'patient', 788: 'considering', 789: 'forgiven', 790: 'majority', 791: 'guns', 792: 'sexy', 793: \"singin'\", 794: 'pope', 795: 'ling', 796: 'on', 797: 'cute', 798: 'evergreen', 799: 'touchdown', 800: 'chuckle', 801: 'darts', 802: 'clown-like', 803: 'easy-going', 804: 'chief_wiggum:', 805: 'stagy', 806: 'cheer', 807: 'bitter', 808: \"battin'\", 809: 'poor', 810: 'extract', 811: 'cleaning', 812: 'through', 813: 'rag', 814: 'snotball', 815: 'swatch', 816: 'department', 817: 'mixed', 818: 'glorious', 819: 'lying', 820: 'towed', 821: 'hiding', 822: 'payday', 823: 'bathtub', 824: 'costume', 825: 'figures', 826: 'eager', 827: 'card', 828: 'nachos', 829: 'tatum', 830: \"friend's\", 831: 'cheerleaders:', 832: 'aw', 833: 'blue', 834: 'backgammon', 835: 'yew', 836: 'following', 837: \"thing's\", 838: \"toot's\", 839: 'who', 840: 'boggs', 841: 'asleep', 842: 'maher', 843: 'fad', 844: 'runners', 845: 'sixteen', 846: 'stu', 847: 'recent', 848: 'buried', 849: 'befouled', 850: \"duelin'\", 851: 'las', 852: 'free', 853: 'light', 854: 'repairman', 855: 'genius', 856: 'freedom', 857: 'w-a-3-q-i-zed', 858: 'troll', 859: 'impeach', 860: 'evils', 861: 'between', 862: 'busy', 863: 'countryman', 864: 'kyoto', 865: 'bugs', 866: 'had', 867: 'the_edge:', 868: 'chief', 869: 'mug', 870: 'agent', 871: 'villanova', 872: 'product', 873: 'jacques:', 874: 'ho-ly', 875: '/mr', 876: '3', 877: \"'im\", 878: 'alcoholic', 879: 'losing', 880: 'here', 881: 'colonel:', 882: 'passion', 883: 'trouble', 884: 'reynolds', 885: 'mary', 886: 'noose', 887: 'clears', 888: \"aren't\", 889: 'coy', 890: 'bret:', 891: 'hootie', 892: 'repeating', 893: 'quarterback', 894: 'crimes', 895: \"barney's\", 896: 'whistles', 897: \"town's\", 898: 'drederick', 899: 'focused', 900: 'language', 901: 'a', 902: 'finance', 903: 'piano', 904: 'pre-game', 905: 'explain', 906: \"today's\", 907: 'corpses', 908: 'booking', 909: 'gin-slingers', 910: \"wife's\", 911: 'nahasapeemapetilon', 912: 'dumptruck', 913: \"tramp's\", 914: 'muertos', 915: 'habitrail', 916: 'gregor', 917: 'believer', 918: 'tall', 919: 'poorer', 920: 'blissful', 921: 'wakede', 922: 'hangs', 923: 'slit', 924: 'doof', 925: 'pipes', 926: 'boozer', 927: 'clearly', 928: 'yourself', 929: 'whatever', 930: 'sitcom', 931: 'awareness', 932: 'naturally', 933: 'voice_on_transmitter:', 934: 'chug-monkeys', 935: 'beer:', 936: 'know', 937: 'sanitary', 938: 'ow', 939: 'gayer', 940: 'i/you', 941: 'lou:', 942: 's-a-u-r-c-e', 943: 'shoulder', 944: 'another', 945: 'eyed', 946: 'recently', 947: 'quitcher', 948: 'laney', 949: 'ride', 950: 'situation', 951: 'ohh', 952: 'killjoy', 953: 'movie', 954: 'forty', 955: 'bridge', 956: 'w', 957: 'nelson_muntz:', 958: 'cow', 959: 'hour', 960: 'chips', 961: 'bide', 962: \"o'problem\", 963: 'realizing', 964: 'scooter', 965: \"beggin'\", 966: 'inspector', 967: 'cesss', 968: 'heading', 969: 'paying', 970: 'hero-phobia', 971: 'inclination', 972: 'tavern', 973: 'declan_desmond:', 974: 'coming', 975: 'william', 976: 'latin', 977: \"squeezin'\", 978: 'anonymous', 979: 'discriminate', 980: \"yesterday's\", 981: 'raises', 982: 'movement', 983: 'possessions', 984: 'deadly', 985: 'sensible', 986: 'boxing_announcer:', 987: 'lock', 988: 'bowling', 989: 'almond', 990: \"mo'\", 991: 'loser', 992: 'hygienically', 993: 'young_marge:', 994: 'amused', 995: 'weight', 996: 'cats', 997: 'malted', 998: 'chuckling', 999: 'gunter:', 1000: 'diaper', 1001: 'east', 1002: 'badge', 1003: 'source', 1004: 'wienerschnitzel', 1005: 'booger', 1006: 'ambrose', 1007: 'wobble', 1008: 'pardon', 1009: 'arab_man:', 1010: 'jailbird', 1011: 'along', 1012: 'gangrene', 1013: 'shark', 1014: 'grinch', 1015: 'group', 1016: 'aziz', 1017: '_timothy_lovejoy:', 1018: 'up', 1019: 'forehead', 1020: 'missing', 1021: 'delivery', 1022: 'smelling', 1023: 'con', 1024: 'shame', 1025: 'bump', 1026: 'prank', 1027: 'and', 1028: 'stagey', 1029: 'apu_nahasapeemapetilon:', 1030: 'design', 1031: 'tomorrow', 1032: 'noise', 1033: 'understood', 1034: 'indecipherable', 1035: 'figure', 1036: 'hairs', 1037: 'nibble', 1038: 'ne', 1039: 'calendars', 1040: 'football', 1041: 'cheery', 1042: 'mean', 1043: 'dad', 1044: 'cattle', 1045: 'unattended', 1046: 'poking', 1047: 'shoot', 1048: 'rolling', 1049: \"choosin'\", 1050: 'schemes', 1051: 'stock', 1052: 'marge_simpson:', 1053: 'o', 1054: 'pip', 1055: 'charming', 1056: 'win', 1057: 'trapped', 1058: 'alls', 1059: 'encores', 1060: 'basement', 1061: 'photos', 1062: 'monster', 1063: 'eww', 1064: 'craphole', 1065: 'test-lady', 1066: 'scrubbing', 1067: 'moe', 1068: 'delete', 1069: 'surgeonnn', 1070: 'hated', 1071: 'seminar', 1072: 'tomato', 1073: 'barf', 1074: 'consider', 1075: 'kl5-4796', 1076: 'heh-heh', 1077: 'warmly', 1078: 'fonzie', 1079: 'real', 1080: 'served', 1081: 'massachusetts', 1082: 'shells', 1083: 'every', 1084: 'whoa-ho', 1085: 'exploiter', 1086: 'mommy', 1087: 'woman:', 1088: 'owner', 1089: 'compare', 1090: 'fortune', 1091: 'deli', 1092: 'hundreds', 1093: \"where'd\", 1094: 'excellent', 1095: 'excuses', 1096: 'muhammad', 1097: 'len-ny', 1098: 'bellyaching', 1099: 'wells', 1100: 'firing', 1101: 'andalay', 1102: 'flaming', 1103: 'awake', 1104: 'play/', 1105: 'sucked', 1106: 'dateline:', 1107: 'tomatoes', 1108: 'smuggled', 1109: 'carlson', 1110: 'covering', 1111: 'carny:', 1112: '_montgomery_burns:', 1113: 'blur', 1114: 'suit', 1115: 'running', 1116: 'average', 1117: 'laughs', 1118: 'cranberry', 1119: 'street', 1120: 'add', 1121: 'aerosmith', 1122: 'bedbugs', 1123: \"time's\", 1124: 'fictional', 1125: 'mull', 1126: 'yells', 1127: 'theatah', 1128: 'micronesian', 1129: \"readin'\", 1130: 'knife', 1131: 'and-and', 1132: 'parents', 1133: 'priest', 1134: 'ahem', 1135: 'germans', 1136: 'gulps', 1137: 'afford', 1138: 'sarcastic', 1139: 'gimmicks', 1140: 'blob', 1141: 'lovers', 1142: 'lucinda', 1143: 'lungs', 1144: 'subscriptions', 1145: 'designated', 1146: 'bedridden', 1147: 'fortensky', 1148: 'hustle', 1149: 'poem', 1150: 'iran', 1151: 'stage', 1152: 'beer-jerks', 1153: 'chinese', 1154: \"bringin'\", 1155: 'beaumont', 1156: \"one's\", 1157: 'wishes', 1158: 'honest', 1159: 'jane', 1160: 'helped', 1161: 'stats', 1162: 'bumped', 1163: 'facebook', 1164: 'ghouls', 1165: 'law-abiding', 1166: 'queen', 1167: 'intimacy', 1168: 'undermine', 1169: 'break', 1170: \"seein'\", 1171: 'certified', 1172: 'man_at_bar:', 1173: 'ambrosia', 1174: 'baseball', 1175: 'ma', 1176: 'clown', 1177: 'filth', 1178: 'starting', 1179: 'nervously', 1180: 'changed', 1181: \"bladder's\", 1182: 'halvsies', 1183: 'fletcherism', 1184: 'boisterous', 1185: 'fears', 1186: 'fleabag', 1187: 'marguerite:', 1188: 'leprechaun', 1189: 'wolverines', 1190: 'beaumarchais', 1191: 'energy', 1192: 'lager', 1193: 'chicken', 1194: 'bite', 1195: 'violin', 1196: 'taxi', 1197: 'regulations', 1198: 'grrrreetings', 1199: 'freaky', 1200: 'eco-fraud', 1201: 'sad', 1202: 'carmichael', 1203: 'b-day', 1204: 'jar', 1205: 'unhook', 1206: 'half', 1207: 'pets', 1208: 'ago', 1209: 'squeeze', 1210: 'neanderthal', 1211: 'enlightened', 1212: 'valuable', 1213: 'bank', 1214: 'nah', 1215: 'radishes', 1216: 'boozy', 1217: 'newest', 1218: 'forgets', 1219: 'handshake', 1220: 'visas', 1221: 'dee-fense', 1222: 'churchill', 1223: 'cosmetics', 1224: 'quality', 1225: 'chest', 1226: 'thing', 1227: 'are', 1228: 'tabs', 1229: 'specific', 1230: 'sec', 1231: 'reserved', 1232: 'okay', 1233: 'practice', 1234: '||questionmark||', 1235: 'wowww', 1236: \"i'd\", 1237: 'fit', 1238: \"y'see\", 1239: 'witty', 1240: 'uncomfortable', 1241: 'sight-unseen', 1242: 'weirded-out', 1243: 'straighten', 1244: 'securities', 1245: 'cupid', 1246: 'waking-up', 1247: 'rosey', 1248: 'coupon', 1249: 'trainers', 1250: 'five', 1251: 'nasa', 1252: 'sadder', 1253: 'comment', 1254: 'confession', 1255: 'good', 1256: 'england', 1257: 'lobster-politans', 1258: 'feld', 1259: \"stabbin'\", 1260: 'shows', 1261: 'friendly', 1262: 'hero', 1263: 'mither', 1264: 'agnes_skinner:', 1265: \"it'll\", 1266: 'error', 1267: 'aging', 1268: 'answers', 1269: 'lights', 1270: 'whoo', 1271: 'holy', 1272: 'simon', 1273: 'knit', 1274: 'considering:', 1275: 'radio', 1276: 'unlucky', 1277: 'coffee', 1278: 'furry', 1279: 'creeps', 1280: 'theatrical', 1281: 'uh-huh', 1282: 'overhearing', 1283: 'valley', 1284: 'keys', 1285: 'gruesome', 1286: 'brockman', 1287: 'ends', 1288: 'prize', 1289: 'kermit', 1290: 'egg', 1291: \"everyone's\", 1292: 'air', 1293: 'widow', 1294: 'gonna', 1295: 'pillows', 1296: 'platinum', 1297: 'tanking', 1298: 'dumbbell', 1299: 'fringe', 1300: 'kirk_van_houten:', 1301: 'restless', 1302: 'ran', 1303: 'joe', 1304: 'surprising', 1305: \"hawkin'\", 1306: 'flash', 1307: \"o'clock\", 1308: 'tigers', 1309: 'goldarnit', 1310: 'blimp', 1311: 'classy', 1312: 'tin', 1313: \"department's\", 1314: 'dropping', 1315: 'owe', 1316: 'renovations', 1317: 'applesauce', 1318: 'gloop', 1319: 'icy', 1320: 'occasion', 1321: 'floated', 1322: 'wisconsin', 1323: \"he'll\", 1324: 'international', 1325: 'this:', 1326: 'chin', 1327: 'tempting', 1328: 'adequate', 1329: 'gal', 1330: 'aims', 1331: 'completing', 1332: 'crayon', 1333: 'harm', 1334: 'nigerian', 1335: 'competing', 1336: 'dangerous', 1337: 'process', 1338: 'burns', 1339: 'sister-in-law', 1340: 'media', 1341: 'etc', 1342: 'satisfaction', 1343: 'used', 1344: 'stunned', 1345: 'anyway', 1346: 'ireland', 1347: \"cleanin'\", 1348: 'treats', 1349: 'fired', 1350: 'known', 1351: \"we're\", 1352: 'territorial', 1353: 'unbelievably', 1354: 'tester', 1355: 'babies', 1356: 'modest', 1357: 'daaaaad', 1358: 'fast', 1359: 'time', 1360: 'starla:', 1361: \"bashir's\", 1362: 'developed', 1363: 'sex', 1364: 'kissed', 1365: 'pain', 1366: 'king', 1367: 'lame', 1368: 'rods', 1369: 'pudgy', 1370: 'tear', 1371: 'smells', 1372: 'pills', 1373: 'arise', 1374: 'appeals', 1375: 'mock-up', 1376: 'comfortable', 1377: 'homesick', 1378: 'pickled', 1379: '530', 1380: 'cans', 1381: 'sleeps', 1382: 'clothespins', 1383: 'men:', 1384: 'evasive', 1385: 'pajamas', 1386: 'greatly', 1387: 'gum', 1388: 'aerospace', 1389: 'flaking', 1390: 'embarrassing', 1391: 'alcohol', 1392: 'mcstagger', 1393: 'chapter', 1394: 'shaggy', 1395: 'life-threatening', 1396: 'jury', 1397: \"dolph's_dad:\", 1398: 'mike_mills:', 1399: 'emotional', 1400: 'son-of-a', 1401: 'eddie', 1402: 'windex', 1403: 'hit', 1404: 'successful', 1405: 'e-z', 1406: 'b', 1407: \"cashin'\", 1408: \"fendin'\", 1409: 'copy', 1410: 'casual', 1411: 'second', 1412: 'karaoke_machine:', 1413: 'slap', 1414: 'newsweek', 1415: 'quietly', 1416: 'intelligent', 1417: 'hugh:', 1418: 'awe', 1419: 'eighty-seven', 1420: 'hook', 1421: 'militia', 1422: 'acronyms', 1423: 'tv_announcer:', 1424: 'have', 1425: 'thirsty', 1426: 'top', 1427: 'large', 1428: \"games'd\", 1429: 'flatly', 1430: 'famous', 1431: 'thirty-nine', 1432: 'loss', 1433: 'incredulous', 1434: 'cut', 1435: 'flailing', 1436: 'toy', 1437: 'place', 1438: 'gargoyle', 1439: 'meaning', 1440: 'us', 1441: 'crisis', 1442: '||semicolon||', 1443: 'parasol', 1444: 'man:', 1445: 'recorded', 1446: 'wish-meat', 1447: \"he'd\", 1448: 'huh', 1449: 'johnny_carson:', 1450: 'boozehound', 1451: 'crowds', 1452: 'later', 1453: 'divorced', 1454: 'admiration', 1455: 'saw', 1456: 'sidekick', 1457: 'ashtray', 1458: 'making', 1459: 'utility', 1460: 'recorder', 1461: 'doll-baby', 1462: 'laney_fontaine:', 1463: 'against', 1464: 'honored', 1465: 'owned', 1466: 'doooown', 1467: 'drummer', 1468: 'guess', 1469: 'girls', 1470: 'first', 1471: 'computer_voice_2:', 1472: 'declared', 1473: 'sideshow_mel:', 1474: 'eddie:', 1475: 'letters', 1476: 'football_announcer:', 1477: 'cup', 1478: 'drawn', 1479: 'tee', 1480: 'said', 1481: \"she'd\", 1482: 'prayers', 1483: 'cannoli', 1484: 'image', 1485: 'bartenders', 1486: 'muslim', 1487: \"dog's\", 1488: 'sixty-five', 1489: 'smiled', 1490: 'jazz', 1491: 'wage', 1492: 'horses', 1493: 'awwww', 1494: 'credit', 1495: 'nectar', 1496: 'spoon', 1497: 'hm', 1498: 'loboto-moth', 1499: 'mrs', 1500: 'teacup', 1501: 'pad', 1502: 'regret', 1503: 'locklear', 1504: 'timbuk-tee', 1505: \"phone's\", 1506: 'casting', 1507: 'puts', 1508: 'beyond', 1509: 'weary', 1510: 'grandã©', 1511: 'cappuccino', 1512: 'dishonor', 1513: 'trenchant', 1514: 'warned', 1515: 'voicemail', 1516: \"leavin'\", 1517: 'lowest', 1518: 'boys', 1519: 'intense', 1520: 'dame', 1521: 'hell', 1522: 'indifferent', 1523: 'kitchen', 1524: 'gals', 1525: 'puzzle', 1526: '2', 1527: 'pitch', 1528: 'homer_simpson:', 1529: 'ah-ha', 1530: 'wise', 1531: 'church', 1532: 'off', 1533: \"england's\", 1534: 'glamour', 1535: 'gumbel', 1536: \"betsy'll\", 1537: 'ho-la', 1538: 'swooning', 1539: 'flames', 1540: 'raging', 1541: \"'s\", 1542: 'beach', 1543: 'pilsner-pusher', 1544: 'ronstadt', 1545: \"hasn't\", 1546: 'bastard', 1547: 'brown', 1548: 'musses', 1549: 'elder', 1550: 'abcs', 1551: 'diapers', 1552: 'rush', 1553: 'starving', 1554: 'rumor', 1555: 'mansions', 1556: 'rug', 1557: 'themselves', 1558: 'song', 1559: 'dammit', 1560: 'marvelous', 1561: \"yieldin'\", 1562: \"drinkin'\", 1563: 'hottest', 1564: 'hems', 1565: 'inserts', 1566: 'passed', 1567: 'aunt', 1568: 'items', 1569: 'hoped', 1570: 'rookie', 1571: 'loafers', 1572: 'pre-recorded', 1573: 'counting', 1574: 'gargoyles', 1575: 'curious', 1576: 'canyonero', 1577: 'fire_inspector:', 1578: 'awfully', 1579: 'offshoot', 1580: \"spiffin'\", 1581: 'fondest', 1582: 'scrape', 1583: 'bee', 1584: 'korea', 1585: 'spews', 1586: 'well-wisher', 1587: 'accepting', 1588: 'wistful', 1589: 'eternity', 1590: 'happiness', 1591: 'dark', 1592: \"starla's\", 1593: 'worried', 1594: 'kicked', 1595: 'rules', 1596: 'acquitted', 1597: \"brockman's\", 1598: 'live', 1599: 'damage', 1600: 'cheered', 1601: 'stamp', 1602: 'lose', 1603: 'crowned', 1604: 'agency', 1605: 'principles', 1606: 'lap', 1607: 'lisa', 1608: 'answering', 1609: 'tapping', 1610: 'hugh', 1611: 'suppose', 1612: 'fry', 1613: 'confidence', 1614: 'wikipedia', 1615: 'mt', 1616: 'county', 1617: 'lecture', 1618: 'november', 1619: 'cheering', 1620: 'pipe', 1621: 'slip', 1622: 'eighty-five', 1623: 'yap', 1624: 'belly-aching', 1625: 'funniest', 1626: 'broncos', 1627: 'city', 1628: 'buttocks', 1629: 'malabar', 1630: 'watched', 1631: 'novelty', 1632: 'memory', 1633: 'scornful', 1634: 'when-i-get-a-hold-of-you', 1635: 'moustache', 1636: 'then', 1637: 'bush', 1638: 'baritone', 1639: 'whispered', 1640: 'society', 1641: \"soundin'\", 1642: 'knocked', 1643: 'raising', 1644: 'lime', 1645: 'treehouse', 1646: 'busiest', 1647: 'heaven', 1648: \"smackin'\", 1649: 'certificate', 1650: 'bills', 1651: 'mmm', 1652: 'drollery', 1653: 'late', 1654: 'offa', 1655: \"people's\", 1656: 'bursts', 1657: 'murmur', 1658: 'single-mindedness', 1659: 'bed', 1660: 'elite', 1661: 'crowded', 1662: 'spent', 1663: 'brag', 1664: 'poplar', 1665: 'fistiana', 1666: 'easygoing', 1667: 'measurements', 1668: 'womb', 1669: 'happy', 1670: 'head', 1671: 'bathroom', 1672: 'bono', 1673: 'like', 1674: 'hmmmm', 1675: 'what', 1676: 'idioms', 1677: 'burt_reynolds:', 1678: 'fainted', 1679: 'warning', 1680: 'senators:', 1681: 'medieval', 1682: 'touches', 1683: 'afloat', 1684: 'rationalizing', 1685: 'blooded', 1686: 'muttering', 1687: 'crumble', 1688: 'rotch', 1689: 'polish', 1690: 'sports', 1691: 'mahatma', 1692: 'chunk', 1693: 'thrust', 1694: 'skirt', 1695: 'graves', 1696: 'shoulders', 1697: 'wraps', 1698: 'living', 1699: 'playhouse', 1700: 'bon-bons', 1701: \"money's\", 1702: 'rubbed', 1703: 'history', 1704: 'simultaneous', 1705: 'trunk', 1706: 'oh-so-sophisticated', 1707: 'invisible', 1708: 'return', 1709: 'days', 1710: 'lotta', 1711: 'stretches', 1712: 'calmly', 1713: 'telemarketing', 1714: 'releasing', 1715: 'offer', 1716: 'bottoms', 1717: 'stomach', 1718: \"can'tcha\", 1719: 'thanking', 1720: 'app', 1721: '10:15', 1722: 'polishing', 1723: 'watered-down', 1724: 'sotto', 1725: 'directions', 1726: 'teenage', 1727: 'tying', 1728: \"smokin'_joe_frazier:\", 1729: 'pulling', 1730: 'bowie', 1731: 'anxious', 1732: 'tinkle', 1733: 'picky', 1734: 'eminence', 1735: 'wholeheartedly', 1736: 'dozen', 1737: 'shaved', 1738: 'deserve', 1739: 'across', 1740: 'blamed', 1741: 'proud', 1742: 'having', 1743: 'sweaty', 1744: 'flynt', 1745: 'ned_flanders:', 1746: 'undated', 1747: 'creme', 1748: 'advertising', 1749: 'even', 1750: 'lemonade', 1751: 'french', 1752: 'flayvin', 1753: 'relax', 1754: 'above', 1755: 'dregs', 1756: 'knowingly', 1757: 'line', 1758: 'woo-hoo', 1759: 'prepared', 1760: 'coward', 1761: 'poison', 1762: 'arrange', 1763: 'strategy', 1764: 'letter', 1765: 'scene', 1766: 'stacey', 1767: 'ticket', 1768: 'brother', 1769: \"y'money's\", 1770: 'h', 1771: 'kidding', 1772: \"car's\", 1773: 'strangles', 1774: 'grab', 1775: 'vicious', 1776: 'monday', 1777: 'railroad', 1778: 'aer', 1779: 'enhance', 1780: 'spacey', 1781: 'adult', 1782: 'yeah', 1783: 'male_singers:', 1784: 'alfalfa', 1785: 'ye', 1786: 'moon-bounce', 1787: \"ragin'\", 1788: 'michelin', 1789: 'reading:', 1790: 'loves', 1791: 'floor', 1792: 'rivalry', 1793: 'patty', 1794: 'dinks', 1795: 'crowd', 1796: 'unfortunately', 1797: 'slot', 1798: 'changing', 1799: 'tree_hoper:', 1800: 'aged', 1801: 'peter_buck:', 1802: 'fair', 1803: 'feeling', 1804: 'teams', 1805: \"table's\", 1806: 'before', 1807: 'exhibit', 1808: \"scammin'\", 1809: 'kinderhook', 1810: 'composer', 1811: \"rustlin'\", 1812: \"that'll\", 1813: 'clothespins:', 1814: 'boxcar', 1815: 'sea', 1816: 'r', 1817: 'lifetime', 1818: 'cents', 1819: 'unkempt', 1820: 'coin', 1821: 'blobbo', 1822: 'seem', 1823: 'then:', 1824: 'anger', 1825: 'ladder', 1826: 'outstanding', 1827: 'trade', 1828: 'wayne:', 1829: 'hot', 1830: 'you', 1831: 'butterball', 1832: 'pleasant', 1833: 'cutie', 1834: 'boneheaded', 1835: 'mike', 1836: '1973', 1837: 'demo', 1838: 'selma', 1839: 'owns', 1840: \"startin'\", 1841: 'runs', 1842: 'milhouse_van_houten:', 1843: 'cab_driver:', 1844: 'glad', 1845: 'adopted', 1846: 'domestic', 1847: 'sunk', 1848: 'chase', 1849: 'sympathy', 1850: '3rd_voice:', 1851: 'tears', 1852: '70', 1853: \"tinklin'\", 1854: \"eatin'\", 1855: 'remote', 1856: 'errrrrrr', 1857: 'created', 1858: 'warranty', 1859: 'dazed', 1860: 'boo', 1861: 'impress', 1862: 'refill', 1863: 'kisser', 1864: 'brunch', 1865: 'camp', 1866: 'attention', 1867: 'delays', 1868: 'someone', 1869: 'less', 1870: 'municipal', 1871: 'clams', 1872: 'thrown', 1873: 'souped', 1874: 'ziff', 1875: 'wins', 1876: 'shoots', 1877: 'drinking:', 1878: 'spy', 1879: 'placed', 1880: 'presses', 1881: 'dress', 1882: 'belly', 1883: 'planet', 1884: 'comic', 1885: 'tsk', 1886: 'jerky', 1887: 'snorts', 1888: 'slaps', 1889: \"washin'\", 1890: 'reading', 1891: 'reopen', 1892: 'market', 1893: 'brainheaded', 1894: 'cigarettes', 1895: 'crank', 1896: 'surprise', 1897: 'tentative', 1898: 'diamond', 1899: 'position', 1900: 'tuborg', 1901: 'p-k', 1902: 'fight', 1903: 'experienced', 1904: 'cases', 1905: 'fan', 1906: 'caveman', 1907: 'newspaper', 1908: 'dollar', 1909: 'intriguing', 1910: 'manipulation', 1911: 'consulting', 1912: 'bloodball', 1913: 'so-called', 1914: 'haircuts', 1915: 'equal', 1916: 'story', 1917: 'mis-statement', 1918: 'nuked', 1919: 'sodas', 1920: 'samples', 1921: 'california', 1922: 'night-crawlers', 1923: 'practically', 1924: 'hope', 1925: 'introduce', 1926: 'gamble', 1927: 'jigger', 1928: 'museum', 1929: 'wigs', 1930: 'collapse', 1931: 'seemed', 1932: 'science', 1933: 'truck_driver:', 1934: 'wordloaf', 1935: 'rock', 1936: 'killed', 1937: \"linin'\", 1938: 'runt', 1939: 'peace', 1940: 'brings', 1941: 'seek', 1942: 'reasonable', 1943: 'trail', 1944: 'wine', 1945: 'washed', 1946: 'creates', 1947: 'remembers', 1948: 'lainie:', 1949: 'housing', 1950: 'unsanitary', 1951: 'butts', 1952: 'dexterous', 1953: 'dae', 1954: 'roz:', 1955: 'bartender', 1956: 'earpiece', 1957: 'patriotic', 1958: 'meal', 1959: 'coyly', 1960: 'meyerhof', 1961: 'relaxing', 1962: 'exited', 1963: 'gluten', 1964: 'dejected', 1965: \"writin'\", 1966: 'jams', 1967: 'actress', 1968: 'dungeon', 1969: 'snide', 1970: 'moonlight', 1971: 'spit-backs', 1972: \"game's\", 1973: 'different', 1974: 'michael_stipe:', 1975: 'lowers', 1976: 'xanders', 1977: 'sat-is-fac-tion', 1978: 'corkscrew', 1979: 'lots', 1980: 'glowers', 1981: 'slight', 1982: 'swear', 1983: \"mecca's\", 1984: 'rapidly', 1985: 'soaked', 1986: 'rotten', 1987: 'sky', 1988: 'small_boy:', 1989: 'liability', 1990: 'both', 1991: 'sinister', 1992: 'generally', 1993: 'without:', 1994: 'mad', 1995: 'tried', 1996: 'sorry', 1997: 'keeps', 1998: 'stiffening', 1999: 'ale', 2000: \"lenny's\", 2001: 'exultant', 2002: 'chipper', 2003: 'poured', 2004: 'brow', 2005: 'stripe', 2006: 'random', 2007: 'action', 2008: 'bits', 2009: \"sayin'\", 2010: 'cooking', 2011: 'imagine', 2012: 'cheese', 2013: 'mint', 2014: 'joint', 2015: 'tommy', 2016: 'god', 2017: 'luck', 2018: 'squeals', 2019: 'tail', 2020: 'formico', 2021: 'edgy', 2022: 'quimby', 2023: 'mexican', 2024: 'stores', 2025: 'ginger', 2026: 'wacky', 2027: 'stagehand:', 2028: 'hawking:', 2029: 'extinguishers', 2030: 'pinball', 2031: \"raggin'\", 2032: 'bottles', 2033: 'play', 2034: 'resigned', 2035: \"man's_voice:\", 2036: 'x', 2037: 'sponge:', 2038: 'scruffy_blogger:', 2039: 'glasses', 2040: 'sure', 2041: 'chorus:', 2042: 'conversion', 2043: 'rascals', 2044: 'sexual', 2045: 'charged', 2046: 'doppler', 2047: 'kazoo', 2048: 'decent', 2049: 'carey', 2050: 'reward', 2051: 'hampstead-on-cecil-cecil', 2052: 'stinger', 2053: 'depression', 2054: 'agreement', 2055: 'whim', 2056: 'thanks', 2057: 'nasty', 2058: 'drunkenly', 2059: 'kwik-e-mart', 2060: 'delts', 2061: 'pass', 2062: 'dollface', 2063: 'hank_williams_jr', 2064: 'hardhat', 2065: 'suspended', 2066: 'd', 2067: 'mugs', 2068: 'training', 2069: 'louse', 2070: 'au', 2071: 'blade', 2072: 'denver', 2073: 'wizard', 2074: 'built', 2075: 'string', 2076: 'flashing', 2077: 'tokens', 2078: 'slurred', 2079: 'rented', 2080: 'appearance-altering', 2081: 'sharity', 2082: 'sponsoring', 2083: 'hole', 2084: 'mckinley', 2085: 'bears', 2086: 'dishrag', 2087: 'mel', 2088: 'sound', 2089: 'solves', 2090: 'sponsor', 2091: 'female_inspector:', 2092: 'burp', 2093: 'mouse', 2094: 'bumpy-like', 2095: 'teen', 2096: 'fritz:', 2097: 'build', 2098: 'your', 2099: 'uh-oh', 2100: 'plastered', 2101: 'burning', 2102: 'defeated', 2103: 'chauffeur', 2104: 'wore', 2105: 'mustard', 2106: 'tow', 2107: 'viva', 2108: 'lenny', 2109: 'certain', 2110: 'sympathetic', 2111: 'springfield', 2112: 'sponge', 2113: 'sing', 2114: 'prolonged', 2115: 'therefore', 2116: 'forty-two', 2117: 'curse', 2118: 'technical', 2119: \"man's\", 2120: 'thought_bubble_lenny:', 2121: 'eyeballs', 2122: \"bo's\", 2123: 'marshmallow', 2124: 'princess', 2125: \"changin'\", 2126: 'wishing', 2127: 'suck', 2128: 'dropped', 2129: 'duke', 2130: 'tofu', 2131: 'magazine', 2132: 'pernt', 2133: 'legoland', 2134: 'k', 2135: 'dreamed', 2136: 'u2:', 2137: 'consoling', 2138: 'cakes', 2139: 'bounced', 2140: 'exquisite', 2141: 'illegal', 2142: 'philosophical', 2143: 'renee:', 2144: 'contract', 2145: 'confidentially', 2146: 'drop-off', 2147: 'remember', 2148: 'problem', 2149: 'meeting', 2150: 'detail', 2151: 'merchants', 2152: 'radiation', 2153: 'holding', 2154: 'drove', 2155: 'boyhood', 2156: 'lead', 2157: 'depressant', 2158: 'polygon', 2159: 'thirty-thousand', 2160: 'pained', 2161: 'cool', 2162: 'necklace', 2163: 'jail', 2164: 'a-lug', 2165: 'rainier_wolfcastle:', 2166: 'experience', 2167: 'saint', 2168: 'pfft', 2169: 'envy-tations', 2170: 'original', 2171: 'professional', 2172: 'steal', 2173: 'hike', 2174: \"plank's\", 2175: 'mafia', 2176: 'businessman_#1:', 2177: 'lindsay', 2178: 'campaign', 2179: 'watered', 2180: 'helicopter', 2181: 'grabs', 2182: 'him', 2183: 'tight', 2184: 'zone', 2185: 'inspiring', 2186: 'cameras', 2187: 'starlets', 2188: 'spread', 2189: 'ventriloquism', 2190: 'would', 2191: 'l', 2192: 'otherwise', 2193: 'longer', 2194: 'poin-dexterous', 2195: 'alcoholism', 2196: 'sunday', 2197: 'warn', 2198: 'personal', 2199: 'rims', 2200: 'boring', 2201: 'bees', 2202: 'fudd', 2203: 'gently', 2204: 'dressing', 2205: 'ironed', 2206: \"pressure's\", 2207: 'cecil_terwilliger:', 2208: 'nuclear', 2209: 'jackson', 2210: 'lear', 2211: 'britannia', 2212: 'managed', 2213: 'damned', 2214: 'hello', 2215: 'absentminded', 2216: 'terrified', 2217: \"she's\", 2218: 'onions', 2219: 'filed', 2220: 'hotel', 2221: 'guiltily', 2222: 'lost', 2223: 'heartily', 2224: 'unlocked', 2225: 'store', 2226: 'darjeeling', 2227: 'frozen', 2228: 'again', 2229: 'plane', 2230: 'bon', 2231: 'sounded', 2232: 'vehicle', 2233: 'dryer', 2234: 'bono:', 2235: 'stares', 2236: \"doctor's\", 2237: 'soaking', 2238: 'lance', 2239: \"homer'll\", 2240: 'liver', 2241: 'ron_howard:', 2242: 'genuinely', 2243: 'one-hour', 2244: 'pink', 2245: 'simp-sonnnn', 2246: 'scum-sucking', 2247: 'period', 2248: 'reliable', 2249: 'mm', 2250: 'duff', 2251: 'played', 2252: 'nitwit', 2253: 'luxury', 2254: 'sister', 2255: 'general', 2256: 'count', 2257: 'lie', 2258: 'recreate', 2259: \"hadn't\", 2260: \"moe's\", 2261: 'caper', 2262: 'togetherness', 2263: 'novel', 2264: 'har', 2265: 'pews', 2266: 'singers:', 2267: 'a-a-b-b-a', 2268: 'elephants', 2269: 'tragedy', 2270: 'lugs', 2271: 'horns', 2272: 'killing', 2273: 'pizza', 2274: \"shouldn't\", 2275: 'gives', 2276: 'tv_daughter:', 2277: 'looooooooooooooooooong', 2278: 'other', 2279: 'wildfever', 2280: 'pretentious_rat_lover:', 2281: 'eight', 2282: 'tv-station_announcer:', 2283: 'singing', 2284: 'david', 2285: 'license', 2286: 'proposing', 2287: 'clientele', 2288: 'commission', 2289: 'advance', 2290: 'grin', 2291: 'frink-y', 2292: 'clandestine', 2293: 'followed', 2294: 'justify', 2295: 'dignity', 2296: 'weekly', 2297: 'instantly', 2298: 'fritz', 2299: 'actor', 2300: 'art', 2301: 'moan', 2302: 'bottom', 2303: 'muscle', 2304: 'savvy', 2305: 'boy', 2306: 'once', 2307: 'shoo', 2308: 'babar', 2309: 'twenty-six', 2310: 'revenge', 2311: 'soothing', 2312: 'self-satisfied', 2313: 'may', 2314: 'man', 2315: 'thank', 2316: 'chug', 2317: 'self-centered', 2318: 'hooch', 2319: 'soap', 2320: 'calculate', 2321: 'cat', 2322: 'urban', 2323: 'universe', 2324: 'non-american', 2325: 'paid', 2326: 'his', 2327: 'byrne', 2328: 'collateral', 2329: 'toss', 2330: 'wade_boggs:', 2331: 'dunno', 2332: 'prison', 2333: 'worldly', 2334: 'other_book_club_member:', 2335: 'result', 2336: 'forty-five', 2337: 'price', 2338: 'sloppy', 2339: 'schorr', 2340: 'superhero', 2341: 'jumping', 2342: 'fishing', 2343: 'though:', 2344: 'that', 2345: 'captain:', 2346: 'rusty', 2347: 'snout', 2348: 'jack_larson:', 2349: 'mobile', 2350: 'gordon', 2351: 'incarcerated', 2352: \"murphy's\", 2353: 'bulked', 2354: 'spiritual', 2355: 'continuum', 2356: 'dig', 2357: 'offense', 2358: 'earrings', 2359: 'sleigh-horses', 2360: 'disguised', 2361: 'scores', 2362: \"thinkin'\", 2363: 'skoal', 2364: 'chuckles', 2365: 'outside', 2366: 'yet', 2367: 'prime', 2368: 'jacks', 2369: 'dentist', 2370: 'rat-like', 2371: 'penny', 2372: 'ceremony', 2373: 'disposal', 2374: 'sack', 2375: 'frenchman', 2376: 'law', 2377: 'handsome', 2378: 'go', 2379: 'bring', 2380: 'belches', 2381: 'spelling', 2382: 'far', 2383: 'turlet', 2384: 'respect', 2385: 'offended', 2386: 'shrugging', 2387: 'donate', 2388: 'done:', 2389: \"grandmother's\", 2390: 'cowboy', 2391: 'grimly', 2392: 'gift', 2393: 'email', 2394: 'ebullient', 2395: 'pool', 2396: 'billion', 2397: 'bashir', 2398: \"tomorrow's\", 2399: 'banquet', 2400: 'slice', 2401: \"bart's\", 2402: \"where's\", 2403: 'screws', 2404: 'ha-ha', 2405: 'sucking', 2406: 'apartment', 2407: 'in-in-in', 2408: 'terrace', 2409: 'fortress', 2410: 'bars', 2411: 'doom', 2412: 'lay', 2413: 'ridiculous', 2414: 'renew', 2415: 'leave', 2416: 'meaningless', 2417: 'kill', 2418: 'destroyed', 2419: 'procedure', 2420: 'steely-eyed', 2421: 'voyager', 2422: 'weapon', 2423: 'freshened', 2424: 'haplessly', 2425: 'irs', 2426: 'soul-crushing', 2427: 'brewed', 2428: 'scientific', 2429: 'mind-numbing', 2430: 'finding', 2431: 'pyramid', 2432: 'pictured', 2433: \"how're\", 2434: 'kenny', 2435: 'huggenkiss', 2436: 'knuckle-dragging', 2437: 'flowers', 2438: 'willing', 2439: 'country', 2440: 'artist', 2441: 'welcome', 2442: 'somebody', 2443: 'yak', 2444: 'citizens', 2445: 'item', 2446: \"here's\", 2447: 'peabody', 2448: 'however', 2449: 'cheat', 2450: 'donuts', 2451: 'tick', 2452: 'sings', 2453: 'person', 2454: 'knows', 2455: 'avenue', 2456: 'where', 2457: 'spits', 2458: 'conspiracy', 2459: 'fumigated', 2460: 'each', 2461: 'confused', 2462: 'pile', 2463: 'odor', 2464: \"liftin'\", 2465: 'label', 2466: 'hotline', 2467: 'gums', 2468: 'conditioner', 2469: 'than', 2470: 'mulder', 2471: 'applicant', 2472: 'halfway', 2473: 'transfer', 2474: 'slim', 2475: 'slugger', 2476: 'atari', 2477: 'superdad', 2478: \"tab's\", 2479: 'together', 2480: \"monroe's\", 2481: 'spellbinding', 2482: 'meals', 2483: 'tom', 2484: 'seymour_skinner:', 2485: 'darkness', 2486: 'scum', 2487: 'toledo', 2488: 'thunder', 2489: 'begin', 2490: 'pinchpenny', 2491: 'expression', 2492: 'manfred', 2493: 'slurps', 2494: 'toward', 2495: 'ironic', 2496: 'waitress', 2497: 'betcha', 2498: \"duff's\", 2499: 'booze', 2500: 'sugar-free', 2501: 'whatsit', 2502: 'protestantism', 2503: 'wad', 2504: 'everything', 2505: 'pretends', 2506: 'burg', 2507: 'stool', 2508: 'southern', 2509: 'makes', 2510: 'broadway', 2511: 'whose', 2512: 'guts', 2513: 'dank', 2514: 'prep', 2515: 'bothered', 2516: 'fierce', 2517: 'painted', 2518: \"nothin'\", 2519: 'diddilies', 2520: 'super', 2521: 'almost', 2522: 'beloved', 2523: 'yelp', 2524: 'falsetto', 2525: 'jimmy', 2526: 'sucker', 2527: 'falcons', 2528: 'panicky', 2529: 'macaulay', 2530: 'mirror', 2531: 'dance', 2532: 'carefully', 2533: 'wednesday', 2534: 'fast-paced', 2535: 'declare', 2536: 'listening', 2537: \"soakin's\", 2538: 'achem', 2539: 'gentleman:', 2540: 'third', 2541: 'skills', 2542: 'throwing', 2543: '||period||', 2544: 'billboard', 2545: \"makin'\", 2546: 'jewish', 2547: 'read:', 2548: \"c'mom\", 2549: 'crinkly', 2550: 'beards', 2551: 'i', 2552: 'smiling', 2553: 'must', 2554: 'hibbert', 2555: 'choice:', 2556: 'nine', 2557: 'nascar', 2558: 'splash', 2559: 'occurs', 2560: 'beating', 2561: 'inherent', 2562: 'take-back', 2563: 'look', 2564: 'infatuation', 2565: 'felt', 2566: 'knuckles', 2567: 'sadly', 2568: 'plucked', 2569: 'swe-ee-ee-ee-eet', 2570: \"puttin'\", 2571: 'stickers', 2572: 'notch', 2573: 'happen', 2574: 'gary_chalmers:', 2575: 'need', 2576: 'wake', 2577: 'pretzel', 2578: 'businessman_#2:', 2579: 'grateful', 2580: 'goods', 2581: 'dã¼ff', 2582: 'kick-ass', 2583: 'promotion', 2584: 'few', 2585: 'tonight', 2586: 'scrutinizes', 2587: 'reminds', 2588: 'sacrifice', 2589: 'vacation', 2590: 'distraught', 2591: 'scatter', 2592: 'priceless', 2593: 'diablo', 2594: 'choose', 2595: 'yourse', 2596: 'la', 2597: 'formico:', 2598: 'sport', 2599: 'camera', 2600: \"men's\", 2601: 'out', 2602: 'kako:', 2603: 'illegally', 2604: 'growing', 2605: 'airport', 2606: 'producers', 2607: 'yello', 2608: 'ore', 2609: 'winning', 2610: 'options', 2611: 'considers', 2612: 'upset', 2613: 'close', 2614: 'popped', 2615: 'streetcorner', 2616: 'anarchy', 2617: 'easter', 2618: 'archaeologist', 2619: 'hiring', 2620: 'keeping', 2621: 'droning', 2622: 'fonda', 2623: 'sprawl', 2624: 'fondly', 2625: 'betty:', 2626: 'kneeling', 2627: \"lookin'\", 2628: 'ze-ro', 2629: 'jets', 2630: 'marriage', 2631: 'crippling', 2632: 'meant', 2633: \"'em\", 2634: 'getaway', 2635: 'wishful', 2636: 'title', 2637: 'los', 2638: 'clips', 2639: 'fools', 2640: 'touched', 2641: 'head-gunk', 2642: \"summer's\", 2643: 'woodchucks', 2644: 'beast', 2645: 'gentle', 2646: 'throw', 2647: 'application', 2648: 'edge', 2649: 'shock', 2650: 'marched', 2651: 'unexplained', 2652: 'therapist', 2653: 'ivory', 2654: 'craft', 2655: 'mmmmm', 2656: 'weak', 2657: 'plotz', 2658: 'wreck', 2659: 'recall', 2660: 'american', 2661: 'jerk-ass', 2662: 'stinks', 2663: 'breaking', 2664: 'appreciate', 2665: 'masks', 2666: 'bubbles-in-my-nose-y', 2667: 'choke', 2668: 'boned', 2669: 'character', 2670: 'says', 2671: 'composite', 2672: 'beans', 2673: 'join', 2674: 'murdoch', 2675: 'aggravated', 2676: 'louie:', 2677: 'tab', 2678: 'prayer', 2679: 'fifth', 2680: 'connection', 2681: 'remembered', 2682: 'five-fifteen', 2683: 'attitude', 2684: 'mail', 2685: 'yammering', 2686: 'y', 2687: 'winded', 2688: 'enveloped', 2689: \"poundin'\", 2690: 'shareholder', 2691: 'starters', 2692: 'roomy', 2693: 'scout', 2694: 'self-esteem', 2695: 'feelings', 2696: 'k-zug', 2697: 'life-sized', 2698: \"chewin'\", 2699: 'private', 2700: 'problems', 2701: 'super-tough', 2702: 'rather', 2703: \"school's\", 2704: 'wheeeee', 2705: 'end', 2706: 'presumir', 2707: 'nards', 2708: 'motto', 2709: 'sampler', 2710: 'hawaii', 2711: 'ew', 2712: 'do', 2713: 'traitor', 2714: 'ivy-covered', 2715: 'champ', 2716: 'rutabaga', 2717: 'germany', 2718: 'club', 2719: 'started', 2720: 'announcer:', 2721: 'bad', 2722: 'skinny', 2723: 'angry', 2724: 'breaks', 2725: 'moxie', 2726: 'zeal', 2727: 'heavyweight', 2728: 'academy', 2729: 'dramatic', 2730: 'puff', 2731: 'pridesters:', 2732: 'walks', 2733: 'country-fried', 2734: 'flanders:', 2735: 'vermont', 2736: 'tabooger', 2737: 'yard', 2738: 'cheapskates', 2739: 'involved', 2740: 'batmobile', 2741: 'woman_bystander:', 2742: 'repressed', 2743: 'midge', 2744: 'ways', 2745: 'feminist', 2746: 'intervention', 2747: 'ninety-six', 2748: 'vin', 2749: 'refreshing', 2750: 'szyslak', 2751: 'aah', 2752: 'i-i-i', 2753: 'easier', 2754: 'hubub', 2755: 'silent', 2756: 'drunks', 2757: '_eugene_blatz:', 2758: 'stationery', 2759: 'bartending', 2760: 'betrayed', 2761: 'doreen:', 2762: 'mini-beret', 2763: 'assumed', 2764: \"meanin'\", 2765: 'vulnerable', 2766: 'innocuous', 2767: 'move', 2768: 'spirit', 2769: 'shelf', 2770: 'twins', 2771: 'designer', 2772: 'alec_baldwin:', 2773: 'stan', 2774: 'fumes', 2775: 'youth', 2776: 'kidneys', 2777: 'threw', 2778: 'insured', 2779: 'c', 2780: 'brine', 2781: 'rings', 2782: 'bail', 2783: 'old-time', 2784: 'conversations', 2785: 'present', 2786: 'roz', 2787: 'ten', 2788: 'ball-sized', 2789: 'fevered', 2790: 'joey_kramer:', 2791: \"i'm\", 2792: 'ken:', 2793: 'handwriting', 2794: 'exasperated', 2795: 'rupert_murdoch:', 2796: \"who'da\", 2797: 'getup', 2798: 'crime', 2799: 'gulliver_dark:', 2800: 'involving', 2801: 'lemme', 2802: 'check', 2803: 'haiti', 2804: 'background', 2805: 'moe-heads', 2806: 'passenger', 2807: 'standards', 2808: 'sweetheart', 2809: 'harvesting', 2810: 'thighs', 2811: 'radiator', 2812: 'sudoku', 2813: 'grains', 2814: 'reaching', 2815: 'quero', 2816: 'earth', 2817: 'infiltrate', 2818: 'upn', 2819: 'crazy', 2820: 'golden', 2821: 'grind', 2822: 'coms', 2823: 'halloween', 2824: 'cleaner', 2825: 'popular', 2826: 'careful', 2827: 'rumaki', 2828: 'dancing', 2829: 'shifty', 2830: 'sly', 2831: 'freeze', 2832: 'julienne', 2833: 'geyser', 2834: 'proper', 2835: 'blubberino', 2836: 'wolfcastle', 2837: 'employment', 2838: 'inflated', 2839: 'extremely', 2840: 'reason', 2841: 'brick', 2842: 'sun', 2843: 'heaving', 2844: 'non-losers', 2845: 'full-bodied', 2846: 'uncle', 2847: 'bachelor', 2848: 'results', 2849: 'eu', 2850: 'manuel', 2851: \"doesn't\", 2852: 'comedies', 2853: 'tax', 2854: 'election', 2855: 'young', 2856: 'liven', 2857: 'mouths', 2858: 'thought_bubble_homer:', 2859: 'failed', 2860: 'planted', 2861: 'replace', 2862: 'continued', 2863: 'muffled', 2864: 'diminish', 2865: 'holiday', 2866: 'kent', 2867: 'waltz', 2868: 'surprised/thrilled', 2869: 'alive', 2870: 'occupation', 2871: 'cartoons', 2872: 'hooters', 2873: 'amazing', 2874: 'allowance', 2875: 'hoo', 2876: 'dirty', 2877: 'brave', 2878: 'until', 2879: 'books', 2880: 'tones', 2881: 'sen', 2882: 'carb', 2883: 'judge_snyder:', 2884: 'outta', 2885: 'brunswick', 2886: 'glitterati', 2887: 'pure', 2888: 'married', 2889: 'imported-sounding', 2890: 'tied', 2891: 'allow', 2892: 'lodge', 2893: 'won', 2894: 'fellow', 2895: 'japanese', 2896: 'unison', 2897: 'whiny', 2898: 'absentmindedly', 2899: 'texas', 2900: 'lifts', 2901: 'wrecking', 2902: 'matter', 2903: 'twerpy', 2904: 'sounds', 2905: 'believe', 2906: 'calm', 2907: 'anybody', 2908: \"'roids\", 2909: 'moe-clone:', 2910: 'gore', 2911: 'reflected', 2912: 'direction', 2913: 'peanut', 2914: 'lips', 2915: 'j', 2916: 'talking', 2917: 'negative', 2918: 'fresco', 2919: 'louder', 2920: 'pigs', 2921: 'pin', 2922: 'worse', 2923: 'stupidest', 2924: 'beverage', 2925: '50%', 2926: 'brakes', 2927: 'exciting', 2928: 'laws', 2929: \"countin'\", 2930: 'lindsay_naegle:', 2931: 'pugilist', 2932: 'examines', 2933: 'putty', 2934: \"knockin'\", 2935: 'guard', 2936: 'soft', 2937: 'disappointment', 2938: 'disillusioned', 2939: 'space-time', 2940: 'saget', 2941: \"president's\", 2942: 'wolveriskey', 2943: 'sixty-nine', 2944: 'dear', 2945: 'brought', 2946: 'gotten', 2947: 'hand', 2948: 'gardens', 2949: 'neck', 2950: 'fountain', 2951: 'speaking', 2952: 'terrorizing', 2953: 'audience', 2954: 'reunion', 2955: 'rafters', 2956: 'backward', 2957: 'whoever', 2958: 'suspect', 2959: 'civic', 2960: 'gang', 2961: 'lushmore', 2962: 'control', 2963: 'series', 2964: 'cream', 2965: \"lisa's\", 2966: 'manboobs', 2967: 'junior', 2968: 'hellhole', 2969: 'sleep', 2970: 'balloon', 2971: 'helps', 2972: 'counter', 2973: 'counterfeit', 2974: 'politics', 2975: 'gunter', 2976: 'grope', 2977: 'wittgenstein', 2978: 'face', 2979: 'shutting', 2980: 'totalitarians', 2981: 'enforced', 2982: 'waters', 2983: 'unusually', 2984: 'pub', 2985: 'culkin', 2986: 'located', 2987: 'animals', 2988: 'impatient', 2989: 'food', 2990: \"bein'\", 2991: 'tune', 2992: 'smelly', 2993: 'depository', 2994: 'selection', 2995: 'chuck', 2996: 'eat', 2997: 'states', 2998: 'rolls', 2999: 'supplying', 3000: 'changes', 3001: 'somehow', 3002: 'care', 3003: 'quite', 3004: 'ring', 3005: 'find', 3006: 'painting', 3007: 'excuse', 3008: 'artie', 3009: 'america', 3010: 'hilton', 3011: 'cash', 3012: \"who's\", 3013: 'guessing', 3014: 'fly', 3015: 'sooo', 3016: 'kisses', 3017: 'managing', 3018: 'british', 3019: \"ladies'\", 3020: 'coat', 3021: 'enthusiasm', 3022: 'pigtown', 3023: 'castle', 3024: 'premiering', 3025: 'new', 3026: 'twenty-two', 3027: 'sanctuary', 3028: 'aquafresh', 3029: 'dang', 3030: 'sober', 3031: 'nothing', 3032: 'oblongata', 3033: \"lovers'\", 3034: 'wanna', 3035: 'willy', 3036: 'winner', 3037: 'down', 3038: 'mother', 3039: 'flew', 3040: 'foodie', 3041: 'knives', 3042: 'waist', 3043: 'inexorable', 3044: 'open-casket', 3045: 'from', 3046: 'grunts', 3047: 'huge', 3048: \"america's\", 3049: 'idiots', 3050: 'encouraging', 3051: 'diet', 3052: 'rancid', 3053: \"i-i'm\", 3054: 'squashing', 3055: 'trivia', 3056: 'disgraceful', 3057: 'dejected_barfly:', 3058: 'beam', 3059: 'alfred', 3060: 'germs', 3061: 'society_matron:', 3062: 'named', 3063: 'menace', 3064: 'delicate', 3065: 'depressing', 3066: 'dessert', 3067: 'work', 3068: 'hushed', 3069: 'progress', 3070: 'lately', 3071: \"'morning\", 3072: 'round', 3073: \"stallin'\", 3074: 'doug:', 3075: 'rebuttal', 3076: 'sight', 3077: 'quimbys:', 3078: 'lincoln', 3079: 'hats', 3080: 'pawed', 3081: 'mostly', 3082: 'tenor:', 3083: 'philip', 3084: 'interested', 3085: 'fat', 3086: 'bowl', 3087: 'natural', 3088: 'thinking', 3089: 'south', 3090: 'marjorie', 3091: \"round's\", 3092: 'beanbag', 3093: 'smile', 3094: 'ripcord', 3095: 'dallas', 3096: \"getting'\", 3097: 'listened', 3098: 'mirthless', 3099: 'badmouth', 3100: 'ingredient', 3101: \"something's\", 3102: 'darkest', 3103: 'paintings', 3104: 'bottomless', 3105: 'automobiles', 3106: 'solo', 3107: 'marquee', 3108: 'mole', 3109: 'bow', 3110: 'ura', 3111: 'noble', 3112: 'might', 3113: 'ratio', 3114: \"s'okay\", 3115: 'sec_agent_#1:', 3116: 'mock', 3117: 'fragile', 3118: 'playoff', 3119: 'subject', 3120: 'mccarthy', 3121: 'donation', 3122: 'curiosity', 3123: 'especially', 3124: 'restaurants', 3125: 'bury', 3126: 'brightening', 3127: 'jerks', 3128: 'sheets', 3129: 'wiener', 3130: 'exchange', 3131: 'inquiries', 3132: 'peach', 3133: 'cop', 3134: 'hate', 3135: 'in-ground', 3136: 'crappy', 3137: 'cowboys', 3138: 'tha', 3139: 'moved', 3140: 'coach:', 3141: \"livin'\", 3142: 'feast', 3143: 'saved', 3144: 'xx', 3145: 'book_club_member:', 3146: 'sniffs', 3147: 'recommend', 3148: 'least', 3149: 'pleased', 3150: 'bulldozing', 3151: 'lovelorn', 3152: 'snapping', 3153: 'faiths', 3154: 'consciousness', 3155: 'neil_gaiman:', 3156: 'tasimeter', 3157: 'organ', 3158: 'challenge', 3159: 'sweat', 3160: 'sexton', 3161: 'dirge-like', 3162: 'telling', 3163: 'sketching', 3164: 'steam', 3165: 'groans', 3166: 'gay', 3167: 'stern', 3168: 'wham', 3169: 'reach', 3170: 'carl_carlson:', 3171: 'nearly', 3172: 'burger', 3173: 'helen', 3174: 'outlook', 3175: 'risquã©', 3176: 'promise', 3177: 'alva', 3178: 'conclusions', 3179: 'write', 3180: 'pack', 3181: 'gasp', 3182: 'pays', 3183: 'ball', 3184: 'increasingly', 3185: \"drexel's\", 3186: 'informant', 3187: 'skeptical', 3188: 'madonna', 3189: 'broke', 3190: 'anywhere', 3191: 'new_health_inspector:', 3192: 'jay:', 3193: 'way', 3194: \"floatin'\", 3195: 'looks', 3196: '_kissingher:', 3197: 'liable', 3198: \"talkin'\", 3199: 'cocoa', 3200: 'dump', 3201: 'staying', 3202: 'hardy', 3203: 'short', 3204: 'century', 3205: 'hungry', 3206: 'eaten', 3207: 'sugar', 3208: 'fix', 3209: 'raining', 3210: 'wooden', 3211: 'triple-sec', 3212: 'appendectomy', 3213: 'yelling', 3214: 'taylor', 3215: 'cerebral', 3216: 'kept', 3217: 'innocent', 3218: 'remorseful', 3219: 'inning', 3220: 'storms', 3221: 'also', 3222: 'early', 3223: 'junebug', 3224: 'candles', 3225: 'eyeing', 3226: \"secret's\", 3227: 'woulda', 3228: 'miserable', 3229: 'lobster-based', 3230: \"we'd\", 3231: 'stops', 3232: 'unable', 3233: \"year's\", 3234: 'future', 3235: 'forty-nine', 3236: 'men', 3237: \"tonight's\", 3238: '8', 3239: 'star', 3240: 'age', 3241: 'tons', 3242: 'well', 3243: 'awesome', 3244: 'nonsense', 3245: 'afraid', 3246: 'ees', 3247: 'shotgun', 3248: 'plywood', 3249: 'hemoglobin', 3250: 'forget', 3251: 'ruled', 3252: 'neat', 3253: 'vodka', 3254: 'ha', 3255: \"homer's\", 3256: 'mechanical', 3257: 'finally', 3258: 'glee', 3259: 'missed', 3260: 'nicer', 3261: 'cherry', 3262: 'candidate', 3263: 'available', 3264: 'doreen', 3265: 'happened', 3266: 'swallowed', 3267: 'leno', 3268: 'elizabeth', 3269: '250', 3270: 'lloyd', 3271: 'adventure', 3272: 'damn', 3273: 'grumpy', 3274: 'serious', 3275: 'hear', 3276: \"that's\", 3277: 'infor', 3278: 'blank', 3279: 'defected', 3280: 'record', 3281: 'lone', 3282: 'drug', 3283: 'drinks', 3284: 'bret', 3285: 'admirer', 3286: 'hooked', 3287: 'shower', 3288: 'blokes', 3289: 'bubbles', 3290: 'manage', 3291: 'friends', 3292: 'listen', 3293: 'sick', 3294: '||dash||', 3295: 'concerned', 3296: 'blackjack', 3297: 'appreciated', 3298: 'cab', 3299: \"beer's\", 3300: 'dies', 3301: 'panties', 3302: 'still', 3303: 'wieners', 3304: 'congratulations', 3305: 'struggling', 3306: 'stupid', 3307: 'comes', 3308: 'augustus', 3309: 'clammy', 3310: 'junkyard', 3311: 'sour', 3312: 'north', 3313: 'choked-up', 3314: 'rip', 3315: 'mortal', 3316: 'flat', 3317: 'krabappel', 3318: 'eating', 3319: 'mid-seventies', 3320: 'bumblebee_man:', 3321: 'greatest', 3322: 'boxers', 3323: 'taste', 3324: 'sob', 3325: 'troy', 3326: 'virile', 3327: 'sneak', 3328: 'el', 3329: 'ah', 3330: 'religion', 3331: 'term', 3332: 'edison', 3333: 'gruff', 3334: 'music', 3335: 'break-up', 3336: 'takes', 3337: 'ziffcorp', 3338: \"spaghetti-o's\", 3339: \"nick's\", 3340: 'middle', 3341: 'installed', 3342: 'disco_stu:', 3343: 'monorails', 3344: 'we', 3345: 'gumbo', 3346: 'vampires', 3347: 'sweater', 3348: 'smoker', 3349: 'landlord', 3350: 'urinal', 3351: 'wave', 3352: 'loud', 3353: 'amid', 3354: 'sanitation', 3355: 'headhunters', 3356: 'rafter', 3357: 'suds', 3358: 'repeated', 3359: 'moe-clone', 3360: 'snail', 3361: 'decide', 3362: 'my-y-y-y-y-y', 3363: 'duel', 3364: 'poet', 3365: 'pus-bucket', 3366: \"plaster's\", 3367: 'hail', 3368: 'everybody', 3369: \"fans'll\", 3370: 'donated', 3371: 'flame', 3372: 'frankly', 3373: 'sauce', 3374: 'uninhibited', 3375: 'ing', 3376: 'swelling', 3377: 'attached', 3378: 'forever', 3379: 'think', 3380: 'data', 3381: 'sitar', 3382: 'sector', 3383: 'terrific', 3384: 'volunteer', 3385: 'aww', 3386: 'inanely', 3387: 'kramer', 3388: 'breakdown', 3389: 'steinbrenner', 3390: 'pep', 3391: 'meditative', 3392: 'pontiff', 3393: \"tv'll\", 3394: 'plums', 3395: 'mac-who', 3396: 'settled', 3397: 'beeps', 3398: 'whistling', 3399: 'trolls', 3400: 'braun:', 3401: 'issues', 3402: 'low', 3403: 'lazy', 3404: \"you're\", 3405: 'she-pu', 3406: 'photographer', 3407: 'cable', 3408: 'cursed', 3409: 'piece', 3410: 'angrily', 3411: 'fork', 3412: 'woman', 3413: 'homeland', 3414: 'puzzled', 3415: 'aisle', 3416: \"someone's\", 3417: 'wrestling', 3418: 'shoe', 3419: 'farthest', 3420: \"y'know\", 3421: 'cares', 3422: 'not', 3423: 'advantage', 3424: 'ears', 3425: 'limits', 3426: 'hans:', 3427: 'brotherhood', 3428: 'robot', 3429: 'sickens', 3430: \"burnin'\", 3431: 'sugar-me-do', 3432: 'because', 3433: 'smugglers', 3434: 'spilled', 3435: \"could've\", 3436: 'continuing', 3437: 'accident', 3438: 'scotch', 3439: 'normals', 3440: 'quebec', 3441: 'cueball', 3442: 'already', 3443: 'splendid', 3444: 'showered', 3445: 'klingon', 3446: 'fence', 3447: 'temporarily', 3448: 'effects', 3449: \"g'on\", 3450: 'pats', 3451: 'journey', 3452: 'courage', 3453: 'snort', 3454: \"industry's\", 3455: 'disappointed', 3456: 'buzziness', 3457: 'whaddya', 3458: 'funeral', 3459: 'killer', 3460: 'toasting', 3461: 'just', 3462: 'links', 3463: 'teenage_bart:', 3464: 'put', 3465: \"havin'\", 3466: 'mater', 3467: 'grave', 3468: 'shut', 3469: 'hollye', 3470: 'loaded', 3471: 'voted', 3472: 'astonishment', 3473: 'complete', 3474: 'closing', 3475: 'zoomed', 3476: 'wipe', 3477: 'judges', 3478: 'project', 3479: 'shoes', 3480: 'cleaned', 3481: 'gr-aargh', 3482: 'amazed', 3483: 'please/', 3484: 'chipped', 3485: 'cozies', 3486: 'customers', 3487: 'cocks', 3488: 'cousin', 3489: 'jobs', 3490: 'harvard', 3491: 'celebration', 3492: 'understood:', 3493: 'father', 3494: 'laughing', 3495: 'fire', 3496: 'mason', 3497: 'dude', 3498: 'use', 3499: 'limericks', 3500: 'way:', 3501: 'birth', 3502: 'intoxicants', 3503: 'twenty-four', 3504: 'churchy', 3505: 'now', 3506: 'brains', 3507: \"treatin'\", 3508: 'sigh', 3509: 'entirely', 3510: 'yawns', 3511: 'killarney', 3512: 'die-hard', 3513: 'tony', 3514: 'part-time', 3515: \"brady's\", 3516: 'bucket', 3517: 'president', 3518: 'aiden', 3519: 'nope', 3520: 'eye-gouger', 3521: 'noises', 3522: 'abolish', 3523: 'propose', 3524: 'mamma', 3525: 'gin', 3526: 'punk', 3527: 'blood', 3528: 'rocks', 3529: 'heart', 3530: 'rounds', 3531: 'about', 3532: '35', 3533: 'soaps', 3534: 'rolled', 3535: 'scram', 3536: 'gasoline', 3537: \"it'd\", 3538: 'bear', 3539: 'nature', 3540: 'drawing', 3541: 'problemo', 3542: 'touch', 3543: 'fridge', 3544: 'prefer', 3545: 'screw', 3546: 'tapestry', 3547: 'frosty', 3548: 'watch', 3549: 'loan', 3550: 'spied', 3551: 'wudgy', 3552: 'tow-joes', 3553: 'hmmm', 3554: 'wondering', 3555: 'chain', 3556: 'susie-q', 3557: 'apron', 3558: 'shout', 3559: 'polls', 3560: 'pop', 3561: 'ehhhhhhhh', 3562: 'ballclub', 3563: 'stuff', 3564: 'harrowing', 3565: 'klown', 3566: 'andrew', 3567: 'course', 3568: 'swamp', 3569: 'brockelstein', 3570: 'fold', 3571: 'door', 3572: 'blessing', 3573: 'gentles', 3574: 'bras', 3575: 'any', 3576: 'barney', 3577: \"we'll\", 3578: 'breakfast', 3579: 'attack', 3580: 'goblins', 3581: 'glummy', 3582: 'wagering', 3583: 'over-pronouncing', 3584: 'remain', 3585: 'this', 3586: 'players', 3587: 'times', 3588: 'snitch', 3589: 'inserted', 3590: 'horrible', 3591: 'aside', 3592: 'obsessive-compulsive', 3593: 'reserve', 3594: 'rainier', 3595: 'politician', 3596: 'something', 3597: 'presents', 3598: 'booze-bags', 3599: 'asses', 3600: 'teacher', 3601: 'weeks', 3602: 'effervescent', 3603: 'friendship', 3604: 'indeedy', 3605: 'patterns', 3606: 'weather', 3607: 'alley', 3608: 'alky', 3609: 'cuckoo', 3610: 'walk', 3611: 'war', 3612: 'popping', 3613: \"what'd\", 3614: 'kissing', 3615: 'spouses', 3616: \"don't\", 3617: 'patting', 3618: 'bunch', 3619: 'tonic', 3620: 'maiden', 3621: 'effigy', 3622: 'thirty-three', 3623: 'cauliflower', 3624: 'brusque', 3625: 'television', 3626: 'sets', 3627: 'walther_hotenhoffer:', 3628: 'since', 3629: 'site', 3630: 'match', 3631: 'stalking', 3632: 'broken:', 3633: 're-al', 3634: 'nation', 3635: 'hall', 3636: 'read', 3637: 'bid', 3638: 'wussy', 3639: 'housework', 3640: 'gibson', 3641: 'confidential', 3642: 'firmly', 3643: 'should', 3644: 'online', 3645: 'selling', 3646: 'conclude', 3647: 'reentering', 3648: 'starts', 3649: 'mozzarella', 3650: 'effect', 3651: 'winnings', 3652: 'ask', 3653: 'youngsters', 3654: 'conditioning', 3655: 'cover', 3656: 'reads', 3657: \"they'd\", 3658: 'pumping', 3659: 'stepped', 3660: 'scratching', 3661: 'richer', 3662: 'in', 3663: 'event', 3664: 'grammar', 3665: 'statue', 3666: 'shirt', 3667: 'explaining', 3668: 'apulina', 3669: 'smallest', 3670: 'dracula', 3671: 'stranger:', 3672: 'replaced', 3673: 'ungrateful', 3674: 'encore', 3675: 'agent_johnson:', 3676: 'afterglow', 3677: \"tester's\", 3678: 'pharmaceutical', 3679: 'studio', 3680: 'settles', 3681: 'dismissive', 3682: 'student', 3683: 'pretending', 3684: 'sell', 3685: 'salary', 3686: 'zack', 3687: 'typing', 3688: 'rest', 3689: 'coughs', 3690: 'brilliant', 3691: 'naegle', 3692: 'voice:', 3693: 'dennis', 3694: 'coined', 3695: 'familiar', 3696: 'shakes', 3697: 'drives', 3698: 'ratted', 3699: 'prices', 3700: 'protesters', 3701: 'fourth', 3702: 'occupied', 3703: 'no', 3704: 'pine', 3705: 'fish', 3706: 'enemy', 3707: 'usual', 3708: 'strategizing', 3709: 'edner', 3710: 'our', 3711: 'jubilation', 3712: '100', 3713: 'smile:', 3714: 'voodoo', 3715: 'bart_simpson:', 3716: 'ahead', 3717: 'appropriate', 3718: 'bull', 3719: 'princesses', 3720: \"springfield's\", 3721: 'plants', 3722: 'methinks', 3723: 'george', 3724: 'knew', 3725: 'pusillanimous', 3726: 'moe_szyslak:', 3727: 'hunky', 3728: 'super-nice', 3729: \"weren't\", 3730: 'hanh', 3731: 'right', 3732: 'massage', 3733: 'oughta', 3734: 'massive', 3735: 'accent', 3736: 'howya', 3737: 'thorough', 3738: 'heartless', 3739: \"'your\", 3740: 'made', 3741: 'chew', 3742: 'grandkids', 3743: 'gil_gunderson:', 3744: 'unrelated', 3745: 'sassy', 3746: 'greedy', 3747: 'hang', 3748: 'someplace', 3749: 'squad', 3750: 'plum', 3751: 'kick', 3752: 'kinds', 3753: 'longest', 3754: 'stealings', 3755: 'supply', 3756: \"i'unno\", 3757: 'neighborhood', 3758: 'cliff', 3759: 'realized', 3760: 'lee', 3761: 'fifteen', 3762: 'buy', 3763: 'whole', 3764: 'chairman', 3765: 'roof', 3766: 'flips', 3767: 'bold', 3768: 'rummy', 3769: 'pall', 3770: 'virility', 3771: \"fishin'\", 3772: 'set', 3773: 'overflowing', 3774: 'hyper-credits', 3775: 'jack', 3776: 'sending', 3777: 'deal', 3778: 'go-near-', 3779: \"shootin'\", 3780: 'hurt', 3781: 'donut', 3782: '_hooper:', 3783: 'uh', 3784: 'outrageous', 3785: 'boxcars', 3786: 'sec_agent_#2:', 3787: 'buyer', 3788: 'mindless', 3789: \"ain't\", 3790: 'furious', 3791: 'bus', 3792: '14', 3793: 'highway', 3794: 'drinking', 3795: 'corporate', 3796: 'supermodel', 3797: \"we've\", 3798: 'robbers', 3799: 'minute', 3800: 'magnanimous', 3801: \"should've\", 3802: 'shriners', 3803: 'supermarket', 3804: 'fuss', 3805: 'toe', 3806: 'toms', 3807: 'rom', 3808: 'motel', 3809: 'thinks', 3810: 'three-man', 3811: 'harv:', 3812: 'answer', 3813: 'fixes', 3814: 'meaningfully', 3815: \"'n'\", 3816: 'admiring', 3817: 'asks', 3818: 'hundred', 3819: 'upbeat', 3820: 'benjamin:', 3821: 'expired', 3822: 'reed', 3823: 'specials', 3824: 'miss_lois_pennycandy:', 3825: 'white', 3826: 'smug', 3827: 'cards', 3828: \"callin'\", 3829: 'slobs', 3830: 'incredible', 3831: 'usually', 3832: 'sissy', 3833: 'branding', 3834: 'selfish', 3835: 'bonding', 3836: 'suspenders', 3837: 'swimmers', 3838: 'fiction', 3839: 'eh', 3840: 'class', 3841: 'mexican_duffman:', 3842: 'working', 3843: 'lucky', 3844: \"d'\", 3845: 'sumatran', 3846: 'slick', 3847: 'surprised', 3848: 'habit', 3849: 'scientists', 3850: 'stengel', 3851: 'leak', 3852: 'perplexed', 3853: \"collector's\", 3854: 'blues', 3855: 'average-looking', 3856: \"team's\", 3857: 'insensitive', 3858: 'wiggle', 3859: 'krusty_the_clown:', 3860: 'nurse', 3861: 'jewelry', 3862: 'hearts', 3863: 'load', 3864: 'finishing', 3865: 'ford', 3866: 'actually', 3867: 'gifts', 3868: 'twenty-nine', 3869: 'simpsons', 3870: 'sat', 3871: 'courteous', 3872: 'i-i', 3873: 'hunter', 3874: 'amber', 3875: 'acceptance', 3876: 'idea', 3877: 'connor-politan', 3878: 'jukebox', 3879: 'queer', 3880: \"you'll\", 3881: 'looting', 3882: \"must've\", 3883: 'motorcycle', 3884: 'bird', 3885: 'bets', 3886: 'finger', 3887: 'homunculus', 3888: 'behind', 3889: 'disgusted', 3890: 'barn', 3891: 'ruined', 3892: 'bumbling', 3893: 'mr', 3894: 'cooker', 3895: 'henry', 3896: 'wedding', 3897: 'jelly', 3898: \"'er\", 3899: 'fox_mulder:', 3900: 'hired', 3901: 'defensive', 3902: 'population', 3903: 'u', 3904: 'handed', 3905: 'arse', 3906: 'poulet', 3907: 'mexicans', 3908: 'pushes', 3909: '1979', 3910: 'favor', 3911: 'disappear', 3912: 'feel', 3913: 'curds', 3914: 'skinheads', 3915: 'statistician', 3916: 'maybe', 3917: 'sensitivity', 3918: 'calvin', 3919: 'juice', 3920: 'socialize', 3921: 'ignorance', 3922: '/', 3923: 'skunk', 3924: 'vacations', 3925: 'troy:', 3926: 'uneasy', 3927: 'orgasmville', 3928: 'blame', 3929: 'pickles', 3930: 'madman', 3931: 'toxins', 3932: 'snow', 3933: 'compete', 3934: 'bourbon', 3935: 'exhaust', 3936: 'with', 3937: 'opens', 3938: 'richard:', 3939: 'important', 3940: 'don', 3941: 'john', 3942: 'startup', 3943: 'badly', 3944: 'sausage', 3945: 'paste', 3946: 'ehhh', 3947: 'foil', 3948: 'gotta', 3949: 'did', 3950: 'racially-diverse', 3951: 'ease', 3952: 'harv', 3953: 'calls', 3954: 'jumps', 3955: 'ninety-seven', 3956: 'pull', 3957: 'acquaintance', 3958: 'cletus_spuckler:', 3959: 'endorsement', 3960: 'tsking', 3961: '91', 3962: 'multi-purpose', 3963: 'nameless', 3964: 'tough', 3965: 'whoops', 3966: \"you'd\", 3967: 'putting', 3968: 'renee', 3969: 'frazier', 3970: 'closet', 3971: 'verdict', 3972: 'belts', 3973: 'bald', 3974: 'cap', 3975: 'laid', 3976: 'itchy', 3977: 'cure', 3978: 'ape-like', 3979: 'picture', 3980: 'misconstrue', 3981: 'passports', 3982: 'driving', 3983: 'tells', 3984: 'yours', 3985: 'multiple', 3986: 'st', 3987: 'alpha-crow', 3988: \"s'cuse\", 3989: 'express', 3990: 'cruel', 3991: 'soot', 3992: 'dying', 3993: \"tree's\", 3994: 'mmm-hmm', 3995: 'choices', 3996: 'customers-slash-only', 3997: 'grampa', 3998: 'firm', 3999: 'charges', 4000: 'bookie', 4001: 'jaegermeister', 4002: 'alibi', 4003: 'judge', 4004: 'andy', 4005: 'scornfully', 4006: 'chained', 4007: 'combination', 4008: 'gheet', 4009: \"somethin's\", 4010: 'left', 4011: 'duffman', 4012: 'kidney', 4013: \"hell's\", 4014: 'pre-columbian', 4015: 'smiles', 4016: 'punch', 4017: 'helpless', 4018: 'spend', 4019: 'aristotle:', 4020: 'flower', 4021: 'hounds', 4022: 'understand', 4023: 'awkwardly', 4024: 'parking', 4025: 'spamming', 4026: \"show's\", 4027: 'gosh', 4028: 'plaintive', 4029: 'midge:', 4030: 'retain', 4031: 'badmouths', 4032: 'assume', 4033: 'shooting', 4034: 'planned', 4035: 'spite', 4036: 'loyal', 4037: 'text', 4038: 'cutting', 4039: \"children's\", 4040: 'enabling', 4041: 'fulla', 4042: 'contractors', 4043: 'into', 4044: 'shrugs', 4045: 'today', 4046: 'repay', 4047: 'mortgage', 4048: 'burt', 4049: 'irrelevant', 4050: 'pointedly', 4051: 'normal', 4052: 'seething', 4053: 'lotsa', 4054: 'talkative', 4055: \"'topes\", 4056: 'giggle', 4057: 'supreme', 4058: 'schmoe', 4059: 'caused', 4060: 'fail', 4061: 'tribute', 4062: 'fuzzlepitch', 4063: 'goo', 4064: 'yep', 4065: 'level', 4066: 'expose', 4067: 'sense', 4068: 'barkeeps', 4069: 'bash', 4070: 'rough', 4071: 'jesus', 4072: \"watchin'\", 4073: 'lighting', 4074: 'musta', 4075: 'extra', 4076: 'sits', 4077: 'fills', 4078: 'ninety-eight', 4079: 'aid', 4080: 'sunglasses', 4081: 'forget-me-shot', 4082: 'shuts', 4083: 'coma', 4084: 'strap', 4085: 'trapping', 4086: 'peeping', 4087: \"they've\", 4088: 'seats', 4089: 'director', 4090: 'ladies', 4091: \"that'd\", 4092: 'expect', 4093: 'pregnancy', 4094: \"rasputin's\", 4095: 'pleading', 4096: 'ripping', 4097: 'permitting', 4098: 'anyhow', 4099: 'rent', 4100: 'rickles', 4101: 'safer', 4102: 'jeez', 4103: \"wonderin'\", 4104: 'noosey', 4105: 'macgregor', 4106: 'likes', 4107: 'perch', 4108: 'perfected', 4109: 'commanding', 4110: 'six', 4111: 'flush-town', 4112: 'mushy', 4113: 'very', 4114: 'completely', 4115: 'allowed', 4116: 'bob', 4117: 'vestigial', 4118: 'patented', 4119: 'dollars', 4120: 'thomas', 4121: 'breathtaking', 4122: 'eaters', 4123: \"elmo's\", 4124: 'colossal', 4125: \"gentleman's\", 4126: 'bedtime', 4127: 'woe:', 4128: 'grand', 4129: 'pennies', 4130: 'open', 4131: 'flush', 4132: 'jockey', 4133: 'paramedic:', 4134: 'thoughts', 4135: 'full-blooded', 4136: 'three', 4137: 'stalwart', 4138: 'sent', 4139: 'compromise:', 4140: 'full-time', 4141: 'ripper', 4142: 'sitting', 4143: 'cricket', 4144: 'wok', 4145: 'else', 4146: 'compels', 4147: 'front', 4148: 'handler', 4149: 'people', 4150: 'stillwater:', 4151: 'frogs', 4152: 'aggie', 4153: 'planning', 4154: 'neon', 4155: 'royal', 4156: 'terminated', 4157: 'hollywood', 4158: 'champignons', 4159: 'better', 4160: 'sneering', 4161: 'billingsley', 4162: 'internet', 4163: 'became', 4164: \"g'night\", 4165: 'awkward', 4166: 'oblivious', 4167: 'deep', 4168: 'bathed', 4169: 'ali', 4170: 'sieben-gruben', 4171: 'pulls', 4172: 'abandon', 4173: 'wheel', 4174: 'bannister', 4175: 'democrats', 4176: 'pages', 4177: \"crawlin'\", 4178: 'bachelorette', 4179: 'able', 4180: 'decided', 4181: 'called', 4182: 'eye', 4183: 'lessons', 4184: 'unjustly', 4185: 'domed', 4186: 'past', 4187: 'railroads', 4188: 'without', 4189: 'reluctant', 4190: 'same', 4191: 'fighting', 4192: 'mystery', 4193: 'attractive_woman_#2:', 4194: \"buffalo's\", 4195: 'nap', 4196: 'butter', 4197: 'denser', 4198: 'arrest', 4199: 'window', 4200: 'f', 4201: 'delivery_man:', 4202: 'belt', 4203: 'radical', 4204: 'dizer', 4205: \"dad's\", 4206: 'order', 4207: 'love', 4208: 'quimby_#2:', 4209: 'bright', 4210: 'morose', 4211: 'marge', 4212: 'ominous', 4213: 'pity', 4214: 'double', 4215: 'finest', 4216: 'snackie', 4217: 'heck', 4218: 'quarter', 4219: 'gallon', 4220: 'total', 4221: 'raccoons', 4222: 'threatening', 4223: 'hexa-', 4224: 'trench', 4225: 'moans', 4226: 'fink', 4227: 'pocket', 4228: 'flash-fry', 4229: 'fluoroscope', 4230: 'nauseous', 4231: 'turned', 4232: 'heart-broken', 4233: 'schedule', 4234: 'wars', 4235: 'homer', 4236: 'elaborate', 4237: 'charlie:', 4238: 'bigger', 4239: \"what's\", 4240: 'finale', 4241: 'theme', 4242: 'degradation', 4243: 'whining', 4244: \"wino's\", 4245: 'million', 4246: 'lofty', 4247: 'th-th-th-the', 4248: 'temple', 4249: 'kool', 4250: 'pickle', 4251: 'bums', 4252: 'till', 4253: 'horribilis', 4254: 'spectacular', 4255: 'arm', 4256: 'make:', 4257: \"dyin'\", 4258: 'louisiana', 4259: \"world's\", 4260: \"man'd\", 4261: 'clap', 4262: 'urge', 4263: 'phone', 4264: 'utensils', 4265: 'couch', 4266: 'which', 4267: 'prince', 4268: 'shill', 4269: 'joke', 4270: 'prejudice', 4271: 'all', 4272: 'worth', 4273: 'lives', 4274: 'correction', 4275: 'indeed', 4276: 'wide', 4277: \"wallet's\", 4278: 'sam:', 4279: 'professor', 4280: 'spanish', 4281: 'pushing', 4282: 'wrong', 4283: 'virtual', 4284: 'fault', 4285: 'deer', 4286: 'fun', 4287: 'suicide', 4288: 'salad', 4289: \"homer's_brain:\", 4290: 'rasputin', 4291: 'hunger', 4292: 'wing', 4293: 'gabriel', 4294: 'local', 4295: 'young_moe:', 4296: 'confident', 4297: \"c'mon\", 4298: 'arabs', 4299: 'filled', 4300: 'opening', 4301: 'hostages', 4302: 'estranged', 4303: 'took', 4304: 'specialists', 4305: 'difficult', 4306: 'competitive', 4307: 'playful', 4308: \"breakin'\", 4309: 'stink', 4310: 'tense', 4311: 'names', 4312: \"ball's\", 4313: 'cock', 4314: 'christmas', 4315: 'un-sults', 4316: 'gee', 4317: 'mouth', 4318: 'snotty', 4319: 'windshield', 4320: 'sheriff', 4321: 'uses', 4322: 'sells', 4323: 'film', 4324: 'fights', 4325: 'crotch', 4326: 'plan', 4327: 'index', 4328: 'tv_wife:', 4329: 'fresh', 4330: 'mayor_joe_quimby:', 4331: 'childless', 4332: 'temples', 4333: 'lovely', 4334: 'senator', 4335: 'slender', 4336: 'sadistic_barfly:', 4337: 'anguished', 4338: 'comeback', 4339: 'pian-ee', 4340: 'relative', 4341: 'died', 4342: \"how'd\", 4343: 'amnesia', 4344: 'lachrymose', 4345: 'fat_tony:', 4346: 'sagacity', 4347: 'torn', 4348: 'underbridge', 4349: 'allegiance', 4350: 'crossed', 4351: 'locked', 4352: 'pay', 4353: 'moe-near-now', 4354: 'team', 4355: 'civilization', 4356: 'shares', 4357: 'bupkus', 4358: 'information', 4359: 'bucks', 4360: 'day', 4361: 'trusted', 4362: 'billy_the_kid:', 4363: 'heatherton', 4364: 't-shirt', 4365: 'wiggum', 4366: 'help', 4367: 'remaining', 4368: 'rueful', 4369: 'sees/', 4370: 'girl', 4371: 'hate-hugs', 4372: 'deny', 4373: 'jerry', 4374: 'disaster', 4375: 'log', 4376: 'groan', 4377: 'purveyor', 4378: 'flourish', 4379: 'walked', 4380: 'bust', 4381: \"daughter's\", 4382: \"somethin'\", 4383: 'rain', 4384: \"c'mere\", 4385: 'jerking', 4386: 'summer', 4387: 'shtick', 4388: 'si-lent', 4389: 'combines', 4390: 'higher', 4391: 'clearing', 4392: 'nods', 4393: 'mostrar', 4394: 'sneaky', 4395: 'want', 4396: 'wife-swapping', 4397: 'youse', 4398: 'kirk_voice_milhouse:', 4399: 'getting', 4400: 'delightfully', 4401: \"wearin'\", 4402: \"gettin'\", 4403: 'right-handed', 4404: 'carl', 4405: 'die', 4406: 'ruint', 4407: 'presto:', 4408: 'salvation', 4409: 'magic', 4410: 'chastity', 4411: 'exclusive:', 4412: 'notorious', 4413: 'meatpies', 4414: 'gel', 4415: 'perking', 4416: 'fool', 4417: 'suddenly', 4418: 'exhale', 4419: 'scent', 4420: 'gave', 4421: 'metal', 4422: 'geez', 4423: 'view', 4424: 'cajun', 4425: 'blowfish', 4426: 'funny', 4427: 'peaked', 4428: 'presidents', 4429: 'easily', 4430: 'safe', 4431: 'affectations', 4432: 'police', 4433: 'irishman', 4434: 'jã¤germeister', 4435: 'administration', 4436: 'beep', 4437: 'be-stainã¨d', 4438: 'comforting', 4439: 'lise:', 4440: \"they're\", 4441: 'achebe', 4442: 'compadre', 4443: 'body', 4444: 'steel', 4445: 'sale', 4446: '21', 4447: 'buzz', 4448: 'shaky', 4449: 'religious', 4450: 'wangs', 4451: 'their', 4452: 'sabermetrics', 4453: 'strong', 4454: 'when', 4455: 'take', 4456: 'matter-of-fact', 4457: 'dean', 4458: 'rub', 4459: 'crack', 4460: \"fryer's\", 4461: 'forward', 4462: 'sizes', 4463: 'joy', 4464: 'cobbling', 4465: 'frankenstein', 4466: 'bugging', 4467: 'actors', 4468: 'sticking-place', 4469: 'stairs', 4470: 'investment', 4471: 'joining', 4472: 'shhh', 4473: 'puffy', 4474: 'complicated', 4475: 'simple', 4476: 'celebrate', 4477: 'paper', 4478: 'pants', 4479: 'winch', 4480: 'lanes', 4481: 'beautiful', 4482: 'belong', 4483: 'blurbs', 4484: 'exchanged', 4485: 'connor', 4486: \"stinkin'\", 4487: 'unfamiliar', 4488: 'amanda', 4489: 'youuu', 4490: 'game', 4491: 'glove', 4492: 'packets', 4493: 'founded', 4494: 'ahh', 4495: 'squirrels', 4496: \"haven't\", 4497: 'dint', 4498: 'persia', 4499: 'seen', 4500: 'lifters', 4501: 'raise', 4502: 'moron', 4503: 'dignified', 4504: 'wild', 4505: '_julius_hibbert:', 4506: 'chill', 4507: 'ralph', 4508: 'saucy', 4509: 'honeys', 4510: \"d'ya\", 4511: 'boyfriend', 4512: 'advertise', 4513: 'waylon', 4514: 'nor', 4515: 'stumble', 4516: 'butt', 4517: 'lucius:', 4518: 'raking', 4519: 'extreme', 4520: 'paparazzo', 4521: 'corkscrews', 4522: 'years', 4523: 'fox', 4524: 'driveability', 4525: 'washer', 4526: 'blossoming', 4527: 'perverse', 4528: 'cavern', 4529: 'mayor', 4530: 'barkeep', 4531: 'bones', 4532: 'low-life', 4533: 'fires', 4534: 'totally', 4535: 'wire', 4536: 'cutest', 4537: 'rubs', 4538: \"pope's\", 4539: 'clinton', 4540: 'sweeter', 4541: 'attach', 4542: 'cent', 4543: 'floating', 4544: 'manjula', 4545: 'courts', 4546: 'thesaurus', 4547: 'disguise', 4548: \"she'll\", 4549: 'yell', 4550: 'side:', 4551: 'dating', 4552: 'dã¼ffenbraus', 4553: 'guys', 4554: 'wrote', 4555: \"'evening\", 4556: 'snatch', 4557: 'wants', 4558: 'swine', 4559: 'sue', 4560: 'cars', 4561: \"hangin'\", 4562: 'portentous', 4563: 'addiction', 4564: 'beefs', 4565: 'phony', 4566: 'stinky', 4567: 'eighty-one', 4568: 'park', 4569: 'entrance', 4570: 'jam', 4571: 'approval', 4572: 'speed', 4573: 'wobbly', 4574: 'resolution', 4575: 'cigars', 4576: \"clancy's\", 4577: 'legally', 4578: 'championship', 4579: 'discuss', 4580: 'shesh', 4581: 'girlfriend', 4582: 'ninth', 4583: 'landfill', 4584: 'and:', 4585: 'chinese_restaurateur:', 4586: 'reviews', 4587: 'protesting', 4588: 'who-o-oa', 4589: \"pullin'\", 4590: 'drag', 4591: 'barflies', 4592: 'transylvania', 4593: 'helpful', 4594: 'rump', 4595: 'remains', 4596: 'fuhgetaboutit', 4597: 'plans', 4598: 'huddle', 4599: 'promised', 4600: 'buddha', 4601: 'something:', 4602: 'africanized', 4603: 'morlocks', 4604: 'neighbor', 4605: 'padre', 4606: 'button', 4607: 'conversation', 4608: 'eighty-three', 4609: 'red', 4610: 'kid', 4611: 'riveting', 4612: 'her', 4613: 'cleveland', 4614: 'someday', 4615: 'bill_james:', 4616: 'sangre', 4617: 'grammys', 4618: 'rector', 4619: 'based', 4620: 'four', 4621: 'cheesecake', 4622: 'idiot', 4623: 'arm-pittish', 4624: 'semi-imported', 4625: 'faulkner', 4626: 'manatee', 4627: 'mistakes', 4628: 'yesterday', 4629: 'mob', 4630: 'husband', 4631: 'ons', 4632: 'fantasy', 4633: 'flexible', 4634: \"son's\", 4635: 'monkey', 4636: 'nineteen', 4637: \"dimwit's\", 4638: 'barney_gumble:', 4639: 'justice', 4640: 'spender', 4641: 'grabbing', 4642: 'sucks', 4643: 'except', 4644: 'ping-pong', 4645: 'dime', 4646: 'gambler', 4647: 'health_inspector:', 4648: 'indigenous', 4649: 'uniforms', 4650: 'devastated', 4651: 'checks', 4652: 'sobs', 4653: 'schizophrenia', 4654: 'friction', 4655: 'guff', 4656: 'those', 4657: '||leftparentheses||', 4658: 'astronauts', 4659: 'baloney', 4660: 'whale', 4661: 'mate', 4662: '7g', 4663: 'versus', 4664: 'can', 4665: 'bushes', 4666: 'aged_moe:', 4667: 'mabel', 4668: \"bettin'\", 4669: 'dumbest', 4670: 'further', 4671: 'cops', 4672: 'transmission', 4673: 'an', 4674: 'mountain', 4675: 'reporter', 4676: 'meet', 4677: '_babcock:', 4678: \"they'll\", 4679: 'shopping', 4680: 'daddy', 4681: \"isn't\", 4682: 'carlotta:', 4683: 'oooo', 4684: 'salt', 4685: 'corporation', 4686: 'espousing', 4687: 'paints', 4688: 'busted', 4689: 'instead', 4690: 'come', 4691: 'escort', 4692: 'stools', 4693: 'crushed', 4694: 'strips', 4695: 'forbids', 4696: 'nail', 4697: 'around', 4698: 'gimme', 4699: 'elect', 4700: 'cotton', 4701: 'dressed', 4702: 'hat', 4703: 'deliberately', 4704: 'compliment', 4705: \"kiddin'\", 4706: 'shutup', 4707: 'sobriety', 4708: 'delighted', 4709: 'debonair', 4710: \"ma'am\", 4711: 'brace', 4712: 'neighboreeno', 4713: 'bit', 4714: 'ear', 4715: 'hurts', 4716: \"this'll\", 4717: 'monkeyshines', 4718: 'umm', 4719: \"comin'\", 4720: 'verticality', 4721: 'contemplates', 4722: 'afternoon', 4723: 'cheers', 4724: 'asked', 4725: 'bart', 4726: 'engine', 4727: 'many', 4728: 'bought', 4729: 'festival', 4730: 'jay_leno:', 4731: 'attraction', 4732: 'nailed', 4733: 'potatoes', 4734: 'tactful', 4735: 'so', 4736: 'occurrence', 4737: 'judgments', 4738: \"coffee'll\", 4739: 'small', 4740: 'sticker', 4741: 'blood-thirsty', 4742: 'bitterly', 4743: 'ding-a-ding-ding-ding-ding-ding-ding', 4744: 'scare', 4745: 'dyspeptic', 4746: 'hateful', 4747: 'artie_ziff:', 4748: 'harvey', 4749: 'faces', 4750: 'scoffs', 4751: \"won't\", 4752: 'white_rabbit:', 4753: 'jovial', 4754: 'limber', 4755: \"jimbo's_dad:\", 4756: 'fatty', 4757: 'as', 4758: 'americans', 4759: 'joey', 4760: 'stripes', 4761: 'grandiose', 4762: 'noggin', 4763: \"city's\", 4764: 'bell', 4765: 'wow', 4766: 'tasty', 4767: 'force', 4768: 'doing', 4769: 'wish', 4770: 'tooth', 4771: 'gus', 4772: 'th', 4773: 'ragtime', 4774: 'contemplated', 4775: 'breathalyzer', 4776: 'suits', 4777: 'apart', 4778: 'grocery', 4779: 'blaze', 4780: 'change', 4781: 'relaxed', 4782: 'seductive', 4783: 'lennyy', 4784: 'make', 4785: 'according', 4786: 'agh', 4787: 'despite', 4788: 'title:', 4789: 'perfunctory', 4790: 'six-barrel', 4791: 'learn', 4792: 'renders', 4793: 'percent', 4794: 'sealed', 4795: 'grienke', 4796: 'rem', 4797: 'blocked', 4798: 'lump', 4799: 'kemi', 4800: 'act', 4801: 'crying', 4802: 'profiling', 4803: 'lurleen', 4804: 'bottle', 4805: 'moon', 4806: 'toys', 4807: 'mines', 4808: 'accounta', 4809: 'college', 4810: 'attracted', 4811: 'fustigate', 4812: 'hooray', 4813: 'taxes', 4814: 'truck', 4815: 'midnight', 4816: 'tickets', 4817: 'single', 4818: \"fine-lookin'\", 4819: 'chocolate', 4820: 'pulled', 4821: 'given', 4822: 'distance', 4823: 'anthony_kiedis:', 4824: 'frankie', 4825: 'layer', 4826: 'emotion', 4827: 'beatings', 4828: 'lady_duff:', 4829: 'absolutely', 4830: 'foibles', 4831: 'linda_ronstadt:', 4832: 'mid-conversation', 4833: 'charge', 4834: 'veteran', 4835: 'lend', 4836: 'months', 4837: 'languages', 4838: 'sass', 4839: 'faceful', 4840: 'binoculars', 4841: 'tree', 4842: 'warren', 4843: 'sighs', 4844: 'shreda', 4845: 'sticking', 4846: 'and/or', 4847: 'sincere', 4848: 'moments', 4849: 'delicious', 4850: 'labels', 4851: 'telegraph', 4852: 'good-looking', 4853: 'beady', 4854: 'ticks', 4855: 'faint', 4856: 'excitement', 4857: 'maximum', 4858: 'script', 4859: 'weird', 4860: 'electronic', 4861: 'santa', 4862: 'see', 4863: 'eggshell', 4864: 'tell', 4865: 'spot', 4866: 'bonfire', 4867: 'cross-country', 4868: 'oil', 4869: 'noticing', 4870: 'babe', 4871: 'stingy', 4872: 'why', 4873: 'chunky', 4874: 'victory', 4875: 'milhouse', 4876: 'restaurant', 4877: 'bronco', 4878: 'streetlights', 4879: 'stalin', 4880: 'optimistic', 4881: 'flying', 4882: \"somebody's\", 4883: 'tar-paper', 4884: 'ditched', 4885: 'stir', 4886: 'hollowed-out', 4887: 'wood', 4888: 'koji', 4889: 'hi', 4890: 'lady', 4891: 'per', 4892: 'heavyset', 4893: 'dumbass', 4894: 'carney', 4895: 'women', 4896: 'punkin', 4897: 'said:', 4898: 'using', 4899: 'director:', 4900: 'sales', 4901: 'compliments', 4902: 'clenched', 4903: \"couldn't\", 4904: 'hobo', 4905: 'support', 4906: 'reciting', 4907: 'finish', 4908: 'ourselves', 4909: 'barney-type', 4910: 'ollie', 4911: 'fifty', 4912: 'oof', 4913: 'lucius', 4914: 'satisfied', 4915: 'waste', 4916: 'release', 4917: 'pretzels', 4918: 'quadruple-sec', 4919: 'thawing', 4920: 'starla', 4921: 'focus', 4922: 'authorized', 4923: 'unhappy', 4924: 'finished', 4925: 'losers', 4926: 'insurance', 4927: 'ech', 4928: 'dads', 4929: 'upsetting', 4930: 'kucinich', 4931: 'most:', 4932: 'week', 4933: 'frustrated', 4934: 'pancakes', 4935: 'absorbent', 4936: 'duff_announcer:', 4937: 'jubilant', 4938: \"other's\", 4939: 'lady-free', 4940: 'sneeze', 4941: 'soul', 4942: 'ã', 4943: 'anti-lock', 4944: \"tellin'\", 4945: 'literary', 4946: 'savings', 4947: 'talkers', 4948: \"ridin'\", 4949: 'village', 4950: 'oddest', 4951: 'island', 4952: 'stones', 4953: 'disappointing', 4954: 'more', 4955: 'kang:', 4956: 'gees', 4957: 'perfume', 4958: 'equivalent', 4959: 'ron', 4960: 'dials', 4961: 'lingus', 4962: 'serve', 4963: 'year', 4964: 'dive', 4965: 'violations', 4966: 'chip', 4967: 'tomahto', 4968: 'flashbacks', 4969: 'wall', 4970: 'kahlua', 4971: 'program', 4972: 'show', 4973: 'trashed', 4974: 'number', 4975: 'led', 4976: 'filthy', 4977: 'annus', 4978: 'happier', 4979: \"tap-pullin'\", 4980: 'ho', 4981: 'hitchhike', 4982: 'mind', 4983: 'cyrano', 4984: 'talk', 4985: 'newsletter', 4986: 'tapered', 4987: 'jacksons', 4988: 'paint', 4989: 'resist', 4990: 'jasper_beardly:', 4991: 'wiggle-frowns', 4992: 'haw', 4993: 'martini', 4994: 'half-beer', 4995: 'cronies', 4996: 'cough', 4997: 'arrived', 4998: 'author', 4999: 'foundation', 5000: 'terrifying', 5001: 'penmanship', 5002: 'duty', 5003: \"robbin'\", 5004: 'mention', 5005: 'je', 5006: 'life-partner', 5007: 'health', 5008: 'mailbox', 5009: 'abercrombie', 5010: 'audience:', 5011: 'misfire', 5012: 'asking', 5013: 'crew', 5014: 'games', 5015: 'really', 5016: 'wasted', 5017: 'beef', 5018: 'wings', 5019: 'jerk', 5020: 'impressed', 5021: 'fabulous', 5022: 'giving', 5023: 'various', 5024: 'world-class', 5025: 'house', 5026: 'ugliness', 5027: 'newly-published', 5028: 'dan', 5029: 'behavior', 5030: 'wolfe', 5031: 'hub', 5032: 'liser', 5033: 'wazoo', 5034: 'singer', 5035: \"smokin'\", 5036: 'human', 5037: 'sistine', 5038: 'medical', 5039: 'thought', 5040: 'traffic', 5041: 'clone', 5042: 'grade', 5043: \"santa's\", 5044: 'ecru', 5045: 'driver', 5046: 'none', 5047: 'accurate', 5048: 'thoughtfully', 5049: 'business', 5050: \"you've\", 5051: 'glyco-load', 5052: 'horrified', 5053: 'aboard', 5054: 'expensive', 5055: 'imitating', 5056: 'fontaine', 5057: 'clear', 5058: 'hitler', 5059: 'eve', 5060: 'eyeball', 5061: 'hug', 5062: 'phase', 5063: 'kentucky', 5064: 'ralphie', 5065: 'thirty-five', 5066: 'sink', 5067: 'ivanna', 5068: 'friday', 5069: 'instrument', 5070: 'holidays', 5071: 'crystal', 5072: 'snaps', 5073: 'wally', 5074: 'yellow-belly', 5075: 'nelson', 5076: 'chance', 5077: 'kindly', 5078: 'oww', 5079: 'inspection', 5080: 'windowshade', 5081: 'stadium', 5082: 'brandy', 5083: 'tolerable', 5084: 'pledge', 5085: 'date', 5086: 'laugh', 5087: 'failure', 5088: 'anything', 5089: '||quotationmark||', 5090: 'champs', 5091: 'foam', 5092: 'package', 5093: 'bless', 5094: '_zander:', 5095: 'bites', 5096: 'rip-off', 5097: 'correcting', 5098: 'yee-haw', 5099: 'throats', 5100: 'hammer', 5101: 'golf', 5102: 'stupidly', 5103: 'vigilante', 5104: 'maya:', 5105: 'ineffective', 5106: 'fingers', 5107: 'beat', 5108: 'mission', 5109: 'cocking', 5110: 'rev', 5111: 'bathing', 5112: \"tony's\", 5113: 'stonewall', 5114: 'grunt', 5115: 'chick', 5116: 'mocking', 5117: 'phasing', 5118: 'fell', 5119: 'sorts', 5120: 'romance', 5121: 'smart', 5122: 'snake_jailbird:', 5123: 'ails', 5124: 'giggles', 5125: 'neighbors', 5126: 'frescas', 5127: 'upon', 5128: 'whispers', 5129: 'shop', 5130: 'choked', 5131: \"'kay-zugg'\", 5132: 'address', 5133: 'by', 5134: 'cage', 5135: 'blow', 5136: 'trip', 5137: 'morning', 5138: 'fbi_agent:', 5139: \"cuckold's\", 5140: 'collette:', 5141: 'bachelorhood', 5142: 'chinua', 5143: 'victim', 5144: \"aristotle's\", 5145: 'figured', 5146: 'peeved', 5147: 'safecracker', 5148: 'guy', 5149: 'dogs', 5150: 'corner', 5151: 'yo', 5152: 'swigmore', 5153: 'heard', 5154: 'screams', 5155: 'edna', 5156: 'ehhhhhh', 5157: 'glass', 5158: 'favorite', 5159: 'shores', 5160: 'emporium', 5161: 'it', 5162: 'sedaris', 5163: 'payback', 5164: 'cost', 5165: 'coast', 5166: 'lord', 5167: 'rebuilt', 5168: 'ab', 5169: 'doy', 5170: 'sideshow_bob:', 5171: 'drink', 5172: 'brainiac', 5173: 'prettiest', 5174: 'ringing', 5175: 'turkey', 5176: 'store-bought', 5177: 'two-drink', 5178: 'enterprising', 5179: \"football's\", 5180: 'doctor', 5181: 'dice', 5182: \"'now\", 5183: 'encouraged', 5184: 'flack', 5185: 'flophouse', 5186: 'rob', 5187: 'legs', 5188: 'skins', 5189: 'shortcomings', 5190: 'ned', 5191: 'say', 5192: 'slop', 5193: \"neighbor's\", 5194: \"disrobin'\", 5195: 'being', 5196: 'vanities', 5197: 'banned', 5198: 'dislike', 5199: 'seas', 5200: \"drivin'\", 5201: 'square', 5202: 'toilet', 5203: 'mix', 5204: 'jebediah', 5205: 'correct', 5206: 'was', 5207: 'disdainful', 5208: 'nick', 5209: 'hoping', 5210: 'telephone', 5211: 'swings', 5212: 'ooo', 5213: 'effervescence', 5214: 'adeleine', 5215: 'rude', 5216: 'spine', 5217: 'stick', 5218: 'pick', 5219: 'lloyd:', 5220: 'musical', 5221: 'lenses', 5222: 'phrase', 5223: 'hah', 5224: \"somethin':\", 5225: 'gol-dangit', 5226: 'bum:', 5227: '6', 5228: 'bride', 5229: 'video', 5230: \"workin'\", 5231: 'whatchamacallit', 5232: 'fixed', 5233: 'night', 5234: 'increased', 5235: 'adjust', 5236: 'detective_homer_simpson:', 5237: 'unless', 5238: 'fdic', 5239: 'complaint', 5240: 'decadent', 5241: 'microphone', 5242: 'symphonies', 5243: 'malfeasance', 5244: 'desire', 5245: 'diets', 5246: 'probably', 5247: 'dash', 5248: \"o'\", 5249: 'slipped', 5250: 'beard', 5251: 'sternly', 5252: \"snappin'\", 5253: 'ideas', 5254: 'peanuts', 5255: 'hooky', 5256: 'disgracefully', 5257: 'farewell', 5258: 'tradition', 5259: 'ruby-studded', 5260: 'beings', 5261: 'natured', 5262: 'ohhhh', 5263: 'hiya', 5264: 'simpson', 5265: 'came', 5266: \"tryin'\", 5267: 'expert', 5268: 'strongly', 5269: 'buffet', 5270: 'lists', 5271: 'affection', 5272: 'west', 5273: 'tablecloth', 5274: 'root', 5275: 'falling', 5276: 'nursemaid', 5277: 'routine', 5278: 'besides', 5279: 'cookies', 5280: 'own', 5281: 'navy', 5282: 'career', 5283: 'beer', 5284: 'kearney_zzyzwicz:', 5285: 'eleven', 5286: 'onto', 5287: 'proof', 5288: 'donor', 5289: \"mcstagger's\", 5290: 'strawberry', 5291: 'lard', 5292: \"larry's\", 5293: 'preparation', 5294: 'clock', 5295: 'sharps', 5296: 'court', 5297: 'insist', 5298: 'mice', 5299: 'insecure', 5300: 'lovejoy', 5301: 'starve', 5302: 'scrutinizing', 5303: 'browns', 5304: 'federal', 5305: 'broken', 5306: 'coins', 5307: 'horror', 5308: 'pour', 5309: 'nerd', 5310: 'laughter', 5311: 'jackass', 5312: 'kiss', 5313: 'occupancy', 5314: 'twelve-step', 5315: 'palmerston', 5316: 'chili', 5317: 'gutenberg', 5318: 'reality', 5319: 'switch', 5320: 'theater', 5321: 'or', 5322: \"it's\", 5323: 'wipes', 5324: '||exclamationmark||', 5325: 'squirrel', 5326: 'getcha', 5327: 'powers', 5328: 'offensive', 5329: 'beer-dorf', 5330: 'nevada', 5331: \"'cause\", 5332: 'bragging', 5333: 'bags', 5334: 'roll', 5335: 'sincerely', 5336: \"buyin'\", 5337: 'english', 5338: 'albert', 5339: 'supports', 5340: 'chapstick', 5341: 'forgotten', 5342: 'share', 5343: 'balls', 5344: 'bam', 5345: 'all:', 5346: 'mop', 5347: 'monroe', 5348: 'register', 5349: 'plus', 5350: 'provide', 5351: 'squishee', 5352: 'tv_husband:', 5353: 'absolut', 5354: 'victorious', 5355: 'unattractive', 5356: 'miles', 5357: 'conspiratorial', 5358: 'overturned', 5359: 'burglary', 5360: 'awful', 5361: 'christopher', 5362: 'pride', 5363: 'half-day', 5364: 'depending', 5365: \"family's\", 5366: 'padres', 5367: 'hold', 5368: 'met', 5369: \"cont'd:\", 5370: 'lease', 5371: 'dealie', 5372: \"ol'\", 5373: \"mtv's\", 5374: 'juan', 5375: \"sittin'\", 5376: 'sooner', 5377: 'big', 5378: 'taps', 5379: 'theory', 5380: 'palm', 5381: 'ruin', 5382: 'grants', 5383: 'kind', 5384: 'permanent', 5385: 'gig', 5386: 'mccall', 5387: 'shack', 5388: 'crayola', 5389: 'disco', 5390: 'steampunk', 5391: 'atlanta', 5392: 'patrons:', 5393: 'table', 5394: 'medicine', 5395: 'lift', 5396: 'catching', 5397: 'whatchacallit', 5398: 'johnny', 5399: 'proposition', 5400: 'minors', 5401: 'sweet', 5402: \"high-falutin'\", 5403: 'kings', 5404: 'cold', 5405: 'rich', 5406: 'chilly', 5407: 'excavating', 5408: 'family', 5409: 'herself', 5410: 'will', 5411: 'wound', 5412: 'chicks', 5413: 'nose', 5414: 'brooklyn', 5415: 'conditioners', 5416: 'reptile', 5417: 'under', 5418: 'everyday', 5419: 'stand', 5420: 'dirt', 5421: \"rentin'\", 5422: 'shaker', 5423: 'picked', 5424: 'precious', 5425: 'soup', 5426: 'greetings', 5427: 'insulted', 5428: 'key', 5429: 'fine', 5430: 'forecast', 5431: 'tip', 5432: 'world', 5433: 'buds', 5434: 'sequel', 5435: 'sleeping', 5436: 'although', 5437: 'savagely', 5438: 'button-pusher', 5439: 'legs:', 5440: 'fellas', 5441: 'channel', 5442: 'softer', 5443: 'pair', 5444: 'julep', 5445: \"queen's\", 5446: 'hot-rod', 5447: 'fans', 5448: 'positive', 5449: 'winces', 5450: 'perã³n', 5451: 'partially', 5452: 'troy_mcclure:', 5453: 'entire', 5454: 'smooth', 5455: 'drive', 5456: 'barbara', 5457: 'contented', 5458: 'carpet', 5459: 'flea:', 5460: 'chosen', 5461: '_marvin_monroe:', 5462: 'little_man:', 5463: 'ahhh', 5464: 'hits', 5465: 'woooooo', 5466: 'sledge-hammer', 5467: 'news', 5468: 'barney-shaped_form:', 5469: 'ancestors', 5470: 'protecting', 5471: 'salvador', 5472: 'goodnight', 5473: 'needy', 5474: 'proves', 5475: 'chow', 5476: 'distinct', 5477: 'fraud', 5478: 'canyoner-oooo', 5479: 'refreshment', 5480: 'al_gore:', 5481: 'jokes', 5482: 'become', 5483: 'cruise', 5484: 'high', 5485: 'military', 5486: \"others'\", 5487: 'shush', 5488: 'fancy', 5489: 'annoyed', 5490: 'eighteen', 5491: 'nominated', 5492: 'knowledge', 5493: 'inches', 5494: 'kennedy', 5495: 'worked', 5496: 'ralph_wiggum:', 5497: 'handoff', 5498: 'jamaican', 5499: 'scratcher', 5500: 'cummerbund', 5501: 'dog', 5502: \"fallin'\", 5503: 'drown', 5504: 'capuchin', 5505: \"jackpot's\", 5506: 'website', 5507: 'bread', 5508: 'canoodling', 5509: 'closes', 5510: 'launch', 5511: 'arms', 5512: 'eats', 5513: 'geysir', 5514: 'crunch', 5515: 'heavens', 5516: 'bike', 5517: 'unusual', 5518: 'saturday', 5519: 'eyes', 5520: 'possibly', 5521: 'intrigued', 5522: 'tale', 5523: 'town', 5524: 'thrilled', 5525: 'therapy', 5526: 'enthused', 5527: 'bauer', 5528: 'grandmother', 5529: 'sniffles', 5530: 'sir', 5531: 'stewart', 5532: 'startled', 5533: 'seeing', 5534: 'investor', 5535: \"costume's\", 5536: 'searching', 5537: 'smoke', 5538: 'forty-seven', 5539: 'blew', 5540: 'thoughtless', 5541: 'operation', 5542: 'fayed', 5543: 'venom', 5544: 'hates', 5545: \"bartender's\", 5546: 'mickey', 5547: 'gone', 5548: 'last', 5549: 'lighter', 5550: 'alphabet', 5551: 'taking', 5552: 'delightful', 5553: \"challengin'\", 5554: 'tubman', 5555: 'furiously', 5556: 'macho', 5557: 'honey', 5558: 'rife', 5559: 'invited', 5560: \"patrick's\", 5561: 'charm', 5562: \"i-i'll\", 5563: 'briefly', 5564: 'stopped', 5565: 'mudflap', 5566: \"neat's-foot\", 5567: 'divine', 5568: 'sometimes', 5569: 'jolly', 5570: 'christian', 5571: 'uglier', 5572: 'comic_book_guy:', 5573: 'fury', 5574: 'gunk', 5575: 'shot', 5576: 'wiping', 5577: 'spending', 5578: 'whoopi', 5579: 'affects', 5580: 'plant', 5581: 'derisive', 5582: 'whatcha', 5583: 'suru', 5584: 'jukebox_record:', 5585: 'incapable', 5586: 'fast-food', 5587: 'pint', 5588: 'prohibit', 5589: 'kemi:', 5590: 'cooler', 5591: 'skydiving', 5592: 'month', 5593: 'dramatically', 5594: 'easy', 5595: 'naively', 5596: 'barely', 5597: 'drinker', 5598: 'ugliest', 5599: 'hoagie', 5600: 'cuddling', 5601: 'best', 5602: 'grammy', 5603: 'burnside', 5604: 'poetics', 5605: 'certainly', 5606: 'minimum', 5607: 'showing', 5608: 'naked', 5609: 'hibachi', 5610: 'ahhhh', 5611: 'lowering', 5612: 'oh-ho', 5613: 'rhode', 5614: '_powers:', 5615: \"'cept\", 5616: 'child', 5617: 'initially', 5618: 'heh', 5619: 'all-american', 5620: 'talked', 5621: 'question', 5622: 'bloodiest', 5623: \"listenin'\", 5624: 'deliberate', 5625: '7-year-old_brockman:', 5626: 'yourselves', 5627: \"payin'\", 5628: \"moe's_thoughts:\", 5629: 'daniel', 5630: 'shaken', 5631: 'value', 5632: 'eurotrash', 5633: 'be', 5634: 'bye', 5635: 'road', 5636: 'due', 5637: 'learned', 5638: 'owes', 5639: 'ninety-nine', 5640: 'fat_in_the_hat:', 5641: 'sometime', 5642: 'perhaps', 5643: 'ancient', 5644: 'assent', 5645: 'ass', 5646: 'doors', 5647: 'decision', 5648: 'anyone', 5649: 'macbeth', 5650: 'sheet', 5651: 'pathetic', 5652: 'professor_jonathan_frink:', 5653: 'ideal', 5654: 'breathless', 5655: 'sniper', 5656: 'e', 5657: 'generously', 5658: 'de-scramble', 5659: 'solid', 5660: 'puke-holes', 5661: 'poisoning', 5662: 'smithers', 5663: 'watashi', 5664: 'necessary', 5665: 'draw', 5666: 'catch-phrase', 5667: 'intention', 5668: 'crapmore', 5669: 'shape', 5670: 'mags', 5671: 'slightly', 5672: 'menlo', 5673: 'cushions', 5674: 'gary:', 5675: \"renovatin'\", 5676: 'mediterranean', 5677: 'deacon', 5678: 'pageant', 5679: 'realize', 5680: 'german', 5681: 'throat', 5682: 'gesture', 5683: 'annie', 5684: 'spoken', 5685: 'ointment', 5686: \"bar's\", 5687: 'clincher', 5688: 'contact', 5689: 'knocks', 5690: 'bunion', 5691: \"renee's\", 5692: 'greystash', 5693: 'legend', 5694: 'examples', 5695: 'murmurs', 5696: 'rule', 5697: 'veux', 5698: 'civil', 5699: 'wenceslas', 5700: 'after', 5701: 'material', 5702: 'feisty', 5703: 'pussycat', 5704: 'rat', 5705: 'invented', 5706: 'perfect', 5707: 'convenient', 5708: 'psst', 5709: 'handle', 5710: 'stein-stengel-', 5711: 'creepy', 5712: 'breath', 5713: 'list', 5714: 'moonshine', 5715: 'system', 5716: 'water', 5717: 'twentieth', 5718: 'snap', 5719: 'leonard', 5720: 'cockroaches', 5721: 'reaction', 5722: 'field', 5723: 'nemo', 5724: 'eighty-six', 5725: 'sloe', 5726: \"carl's\", 5727: 'coal', 5728: 'gator:', 5729: 'officer', 5730: 'odd', 5731: 'dreamy', 5732: 'death', 5733: 'para', 5734: 'refund', 5735: 'oooh', 5736: 'homer_doubles:', 5737: 'published', 5738: 'hammy', 5739: 'modestly', 5740: 'venture', 5741: 'secrets', 5742: 'sweetly', 5743: 'isle', 5744: 'grub', 5745: \"showin'\", 5746: 'difference', 5747: 'warily', 5748: 'birthday', 5749: 'exactly', 5750: 'bindle', 5751: 'hafta', 5752: 'lizard', 5753: 'tourist', 5754: 'plug', 5755: 'triangle', 5756: 'save', 5757: 'hours', 5758: 'blows', 5759: 'hose', 5760: 'cowardly', 5761: 'latour', 5762: 'newsies', 5763: 'vengeful', 5764: 'wife', 5765: 'written', 5766: 'albeit', 5767: 'its', 5768: \"donatin'\", 5769: 'invite', 5770: 'teenage_homer:', 5771: 'notices', 5772: 'vulgar', 5773: 'hyahh', 5774: 'appealing', 5775: 'madison', 5776: 'imaginary', 5777: 'ad', 5778: 'elmer', 5779: 'griffith', 5780: 'wang', 5781: 'lewis', 5782: 'dan_gillick:', 5783: 'does', 5784: 'trustworthy', 5785: 'get', 5786: 'agents', 5787: 'cushion', 5788: 'homeless', 5789: 'lipo', 5790: 'mariah', 5791: 'spit', 5792: 'half-back', 5793: 'pepper', 5794: 'democracy', 5795: 'girl-bart', 5796: 'suave', 5797: 'eight-year-old', 5798: 'stands', 5799: 'male_inspector:', 5800: 'hoax', 5801: 'charlie', 5802: 'recipe', 5803: 'seat', 5804: 'detecting', 5805: 'ding-a-ding-ding-a-ding-ding', 5806: 'sobbing', 5807: 'awww', 5808: 'shorter', 5809: 'cuff', 5810: 'secret', 5811: 'knees', 5812: 'beligerent', 5813: 'sharing', 5814: 'limited', 5815: 'larson', 5816: 'pizzicato', 5817: 'lorre', 5818: 'ultimate', 5819: \"father's\", 5820: 'turn', 5821: 'drunkening', 5822: 'cloudy', 5823: 'products', 5824: 'banquo', 5825: 'admit', 5826: '||rightparentheses||', 5827: 'slow', 5828: 'signal', 5829: \"swishifyin'\", 5830: 'watching', 5831: 'low-blow', 5832: 'activity', 5833: 'assassination', 5834: 'wonderful', 5835: 'tenuous', 5836: 'alien', 5837: 'trees', 5838: 'sustain', 5839: 'raggie', 5840: 'goal', 5841: 'looser', 5842: 'suspicious', 5843: \"nothin's\", 5844: 'speech', 5845: 'dimly', 5846: 'refreshingness', 5847: 'often', 5848: 'mic', 5849: 'modern', 5850: 'ref', 5851: 'twelveball', 5852: 'whip', 5853: 'oh', 5854: 'long', 5855: 're:', 5856: 'indignant', 5857: 'decide:', 5858: 'tape', 5859: 'slaves', 5860: 'crowbar', 5861: 'hunting', 5862: 'moment', 5863: 'occurred', 5864: 'bullet-proof', 5865: 'zero', 5866: 'thousands', 5867: 'watt', 5868: 'blinded', 5869: 'unforgettable', 5870: 'the_rich_texan:', 5871: 'gator', 5872: 'thousand', 5873: 'righ', 5874: 'happily:', 5875: 'clothes', 5876: 'amount', 5877: \"kearney's_dad:\", 5878: 'spinning', 5879: 'brief', 5880: 'nagurski', 5881: 'glitz', 5882: 'deeper', 5883: 'little', 5884: 'outs', 5885: 'funds', 5886: 'koi', 5887: 'roses', 5888: 'generous', 5889: 'dawning', 5890: 'lenny:', 5891: 'maude', 5892: 'bridges', 5893: 'army', 5894: 'post-suicide', 5895: 'baby', 5896: 'tobacky', 5897: 'tracks', 5898: 'attend', 5899: 'my', 5900: 'videotaped', 5901: 'highest', 5902: 'disturbance', 5903: 'jig', 5904: 'memories', 5905: 'lottery', 5906: 'joking', 5907: 'anti-crime', 5908: 'complaining', 5909: 'detective', 5910: 'done', 5911: 'been', 5912: \"boy's\", 5913: 'bobo', 5914: 'pig', 5915: 'duffman:', 5916: 'capitalists', 5917: 'kidnaps', 5918: 'devils:', 5919: 'executive', 5920: 'caricature', 5921: 'himself', 5922: 'runaway', 5923: 'evil', 5924: 'anti-intellectualism', 5925: 'x-men', 5926: 'thirty', 5927: 'entertainer', 5928: 'snake-handler', 5929: '1-800-555-hugs', 5930: '2nd_voice_on_transmitter:', 5931: 'priority', 5932: 'cockroach', 5933: 'relationship', 5934: 'pockets', 5935: 'numeral', 5936: 'terror', 5937: 'powerful', 5938: 'mitts', 5939: 'race', 5940: 'james', 5941: 'land', 5942: 'inspire', 5943: 'predecessor', 5944: 'tearfully', 5945: 'stars', 5946: 'partners', 5947: 'cobra', 5948: 'two-thirds-empty', 5949: 'drawer', 5950: 'hare-brained', 5951: \"cat's\", 5952: 'family-owned', 5953: 'jackpot-thief', 5954: 'stamps', 5955: 'caught', 5956: 'menacing', 5957: 'teriyaki', 5958: 'co-sign', 5959: 'p', 5960: 'fledgling', 5961: 'went', 5962: 'rash', 5963: 'lou', 5964: 'murdered', 5965: 'car:', 5966: 'charity', 5967: 'drains', 5968: 'enemies', 5969: 'gear-head', 5970: 'ducked', 5971: 'puke-pail', 5972: 'works', 5973: 'slays', 5974: 'hurting', 5975: 'coherent', 5976: 'moesy', 5977: 'drop', 5978: 'power', 5979: 'aggravazes', 5980: 'buttons', 5981: 'recruiter', 5982: 'icelandic', 5983: 'unfresh', 5984: 'run', 5985: 'back', 5986: 'oopsie', 5987: 'intakes', 5988: 'saving', 5989: 'resenting', 5990: 'onassis', 5991: 'presidential', 5992: 'enjoys', 5993: 'associate', 5994: 'hispanic_crowd:', 5995: 'puke', 5996: 'luckiest', 5997: 'conference', 5998: 'declan', 5999: 'melodramatic', 6000: 'murderously', 6001: 'hosting', 6002: 'jeff', 6003: 'apu', 6004: 'punches', 6005: 'at', 6006: 'powered', 6007: 'peter', 6008: 'rugged', 6009: 'poker', 6010: 'enter', 6011: 'pepsi', 6012: 'distaste', 6013: 'terrible', 6014: \"tootin'\", 6015: 'what-for', 6016: 'statesmanlike', 6017: 'thnord', 6018: 'bagged', 6019: 'bliss', 6020: 'frat', 6021: 'sideshow', 6022: 'sunny', 6023: 'dateline', 6024: 'donut-shaped', 6025: 'alright', 6026: 'quotes', 6027: 'parenting', 6028: 'file', 6029: \"heat's\", 6030: 'wildest', 6031: 'son', 6032: 'mumbling', 6033: 'strains', 6034: 'pitcher', 6035: 'type', 6036: 'happens', 6037: 'marmaduke', 6038: 'man_with_tree_hat:', 6039: 'backing', 6040: 'heads', 6041: 'closer', 6042: 'poster', 6043: 'begging', 6044: 'luv', 6045: 'celebrities', 6046: 'vacuum', 6047: 'lenny_leonard:', 6048: 'whenever', 6049: 'feat', 6050: 'dory', 6051: 'um', 6052: 'nobel', 6053: \"liberty's\", 6054: 'sit', 6055: 'forgive', 6056: '50-60', 6057: 'name', 6058: 'presided', 6059: 'elves:', 6060: 'compared', 6061: 'portfolium', 6062: 'placing', 6063: 'tender', 6064: 'nightmares', 6065: 'thoughtful', 6066: \"usin'\", 6067: 'guide', 6068: 'dum-dum', 6069: 'whaaa', 6070: 'surgery', 6071: 'face-macer', 6072: 'pause', 6073: 'there', 6074: 'regretted', 6075: 'predictable', 6076: 'the', 6077: 'empty', 6078: 'boxer:', 6079: 'show-off', 6080: 'reasons', 6081: 'tie', 6082: 'undies', 6083: 'm', 6084: 'naval', 6085: 'suspiciously', 6086: 'enthusiastically', 6087: 'shindig', 6088: 'ones', 6089: 'legal', 6090: 'hammock', 6091: 'shag', 6092: 'job', 6093: 'sips', 6094: 'simplest', 6095: 'portuguese', 6096: 'nonchalant', 6097: \"ma's\", 6098: \"don'tcha\", 6099: 'beers', 6100: 'convinced', 6101: 'leathery', 6102: 'mcbain', 6103: 'cologne', 6104: 'pleasure', 6105: 'numbers', 6106: 'joined', 6107: 'push', 6108: 'mural', 6109: 'enjoy', 6110: \"edna's\", 6111: 'side', 6112: 'tease', 6113: 'model', 6114: 'boston', 6115: 'assistant', 6116: 'bully', 6117: 'weep', 6118: 'libraries', 6119: 'updated', 6120: 'polenta', 6121: 'bulletin', 6122: 'squeezed', 6123: 'gossipy', 6124: 'daughter', 6125: 'passes', 6126: 'grow', 6127: 'patron_#2:', 6128: 'exact', 6129: 'ugly', 6130: 'cecil', 6131: 'frightened', 6132: 'self-made', 6133: 'alma', 6134: 'mm-hmm', 6135: \"guy's\", 6136: 'them', 6137: 'badges', 6138: 'gas', 6139: 'goes', 6140: 'insulin', 6141: 'scam', 6142: 'smitty:', 6143: 'european', 6144: 'defiantly', 6145: 'awed', 6146: 'switched', 6147: 'nantucket', 6148: 'suffering', 6149: 'chapel', 6150: 'pretty', 6151: 'margarita', 6152: 'twenty', 6153: 'onion', 6154: 'engraved', 6155: 'cozy', 6156: 'press', 6157: 'grace', 6158: 'humanity', 6159: 'overstressed', 6160: 'tiny', 6161: 'worldview', 6162: 'it:', 6163: 'bleacher', 6164: 'survive', 6165: 'unearth', 6166: 'benefits', 6167: 'dictating', 6168: 'faced', 6169: 'everyone', 6170: 'determined', 6171: 'nigeria', 6172: 'grease', 6173: 'ingested', 6174: 'temper', 6175: 'yee-ha', 6176: 'nickels', 6177: 'unintelligent', 6178: 'fwooof', 6179: 'drift', 6180: \"poisonin'\", 6181: 'appointment', 6182: 'point', 6183: 'worry', 6184: 'influence', 6185: 'reader', 6186: 'pantry', 6187: 'contest', 6188: 'pronounce', 6189: 'me', 6190: 'expecting', 6191: 'government', 6192: \"o'reilly\", 6193: 'swimming', 6194: 'vengeance', 6195: 'travel', 6196: 'characteristic', 6197: 'committing', 6198: 'combine', 6199: 'remodel', 6200: 'somewhere', 6201: 'patrons', 6202: 'improv', 6203: \"messin'\", 6204: 'lifestyle', 6205: 'arts', 6206: 'hearing', 6207: 'urine', 6208: 'western', 6209: 'crap', 6210: 'feed', 6211: 'enough', 6212: 'tummies', 6213: 'africa', 6214: 'arrested:', 6215: 'oughtta', 6216: 'commit', 6217: 'step', 6218: 'stayed', 6219: '-ry', 6220: 'cell-ee', 6221: 'mimes', 6222: 'banks', 6223: 'graveyard', 6224: 'points', 6225: 'host', 6226: 'lessee', 6227: 'brawled', 6228: 'serum', 6229: 'answered', 6230: 'lot', 6231: 'carolina', 6232: 'treat', 6233: 'going', 6234: 'fausto', 6235: 'truth', 6236: \"when's\", 6237: 'please', 6238: 'writers', 6239: 'you-need-man', 6240: \"aren'tcha\", 6241: 'improved', 6242: 'dames', 6243: 'hears', 6244: 'foot', 6245: 'jay', 6246: 'harmony', 6247: 'nobody', 6248: \"professor's\", 6249: 'researching', 6250: 'steamed', 6251: 'angel', 6252: 'nightmare', 6253: 'crab', 6254: 'admitting', 6255: 'lib', 6256: 'healthier', 6257: 'isotopes', 6258: 'showed', 6259: 'wrap', 6260: 'explanation', 6261: 'choices:', 6262: 'wait', 6263: 'der', 6264: 'guinea', 6265: 'full', 6266: 'investigating', 6267: 'pasta', 6268: \"hobo's\", 6269: 'bible', 6270: 'invulnerable', 6271: 'page', 6272: 'inspired', 6273: 'premise', 6274: 'sudden', 6275: 'outlive', 6276: \"idea's\", 6277: 'catholic', 6278: 'hurry', 6279: 'safety', 6280: 'authenticity', 6281: \"spyin'\", 6282: 'gotcha', 6283: 'prizefighters', 6284: 'talk-sings', 6285: 'freed', 6286: 'wally:', 6287: 'pulitzer', 6288: \"what're\", 6289: 'swig', 6290: 'garbage', 6291: 'test-', 6292: \"'bout\", 6293: 'accelerating', 6294: 'guest', 6295: 'thumb', 6296: 'nfl_narrator:', 6297: 'lover', 6298: 'mellow', 6299: 'kicks', 6300: 'smell', 6301: 'nordiques', 6302: 'test', 6303: \"sippin'\", 6304: 'during', 6305: 'beginning', 6306: 'sail', 6307: 'dreary', 6308: 'hippies', 6309: 'carve', 6310: 'injury', 6311: \"feelin's\", 6312: 'emphasis', 6313: 'hops', 6314: 'employees', 6315: 'comedy', 6316: 'forgot', 6317: 'black', 6318: 'fireworks', 6319: 'glen:', 6320: 'desperately', 6321: 'forbidden', 6322: 'hard', 6323: 'patty_bouvier:', 6324: '$42', 6325: 'ã€', 6326: 'maintenance', 6327: 'schabadoo', 6328: 'thru', 6329: 'sees', 6330: \"wait'll\", 6331: 'bartholomã©:', 6332: 'stood', 6333: 'coney', 6334: 'loudly', 6335: 'motor', 6336: 'stolen', 6337: 'short_man:', 6338: 'smokes', 6339: 'shyly', 6340: \"'til\", 6341: 'shard', 6342: 'darn', 6343: 'privacy', 6344: 'depressed', 6345: 'solely', 6346: 'knock-up', 6347: 'vance', 6348: 'morning-after', 6349: 'dry', 6350: 'robin', 6351: 'grenky', 6352: 'saga', 6353: 'peppers', 6354: 'carl:', 6355: 'hunka', 6356: \"blowin'\", 6357: 'drapes', 6358: 'bedroom', 6359: 'yup', 6360: 'case', 6361: 'rice', 6362: 'sketch', 6363: 'bar', 6364: 'charter', 6365: 'jer', 6366: 'musketeers', 6367: \"didn't\", 6368: 'feels', 6369: 'broad', 6370: 'felony', 6371: 'thing:', 6372: 'idealistic', 6373: 'marvin', 6374: 'other_player:', 6375: 'slapped', 6376: 'ihop', 6377: 'steaming', 6378: 'cause', 6379: 'linda', 6380: 'tastes', 6381: 'try', 6382: 'is:', 6383: \"fightin'\", 6384: 'piling', 6385: 'score', 6386: 'held', 6387: 'seven', 6388: 'wuss', 6389: 'pointless', 6390: 'home', 6391: 'nã£o', 6392: 'yoink', 6393: 'severe', 6394: 'fourteen:', 6395: 'espn', 6396: 'nucular', 6397: 'kim_basinger:', 6398: 'benjamin', 6399: 'frontrunner', 6400: 'ashamed', 6401: 'super-genius', 6402: 'company', 6403: 'stirrers', 6404: 'knowing', 6405: 'stay-puft', 6406: 'honor', 6407: 'tv', 6408: 'birthplace', 6409: 'minutes', 6410: 'grain', 6411: 'feet', 6412: 'painless', 6413: 'lawyer', 6414: 'over', 6415: 'chateau', 6416: 'mmmm', 6417: 'sap', 6418: 'swishkabobs', 6419: 'wind', 6420: 'releases', 6421: 'botanical', 6422: 'perverted', 6423: 'sued', 6424: 'punishment', 6425: 'helllp', 6426: 'catty', 6427: 'shall', 6428: 'quiet', 6429: 'seriously', 6430: 'phlegm', 6431: 'band', 6432: 'wear', 6433: 'choice', 6434: 'taunting', 6435: 'carll', 6436: 'washouts', 6437: 'tongue', 6438: 'backbone', 6439: 'restroom', 6440: 'delivery_boy:', 6441: 'dinner', 6442: 'liquor', 6443: 'species', 6444: \"number's\", 6445: 'dilemma', 6446: 'larry', 6447: \"mopin'\", 6448: \"'round\", 6449: 'displeased', 6450: 'underwear', 6451: 'spitting', 6452: 'infestation', 6453: 'dealer', 6454: 'tap', 6455: 'safely', 6456: 'ohmygod', 6457: 'exit', 6458: 'mill', 6459: \"wouldn't\", 6460: 'romantic', 6461: 'here-here-here', 6462: 'kegs', 6463: 'reckless', 6464: 'superior', 6465: 'turning', 6466: 'standing', 6467: 'dealt', 6468: 'strain', 6469: 'unsourced', 6470: 'flown', 6471: 'crony', 6472: 'give', 6473: 'uncreeped-out', 6474: 'eva', 6475: 'upgrade', 6476: 'traitors', 6477: 'reporter:', 6478: 'grey', 6479: 'hopeful', 6480: 'emergency', 6481: 'rhyme', 6482: 'oak', 6483: 'gun', 6484: 'na', 6485: 'fat-free', 6486: 'feedbag', 6487: 'moonnnnnnnn', 6488: 'exits', 6489: 'impending', 6490: 'gabriel:', 6491: 'yellow', 6492: 'iddilies', 6493: 'hydrant', 6494: 'meanwhile', 6495: 'disgrace', 6496: 'guilt', 6497: 'whisper', 6498: 'loved', 6499: 'manager', 6500: 'most', 6501: \"calf's\", 6502: 'narrator:', 6503: 'brother-in-law', 6504: 'femininity', 6505: 'blinds', 6506: 'public', 6507: 'soir', 6508: 'yuh-huh', 6509: 'message', 6510: 'wallet', 6511: 'rewound', 6512: 'worthless', 6513: 'hilarious', 6514: 'issuing', 6515: 'accusing', 6516: 'avalanche', 6517: 'train', 6518: 'wears', 6519: 'boozebag', 6520: 'noooooooooo', 6521: 'digging', 6522: 'grubby', 6523: 'maxed', 6524: 'slyly', 6525: 'montrer', 6526: 'horrors', 6527: 'tidy', 6528: \"valentine's\", 6529: 'stays', 6530: \"let's\", 6531: 'janette', 6532: 'texan', 6533: 'drivers', 6534: 'hillary', 6535: 'jeers', 6536: 'cracked', 6537: 'folks', 6538: 'rage', 6539: 'start', 6540: 'hostile', 6541: 'drunk', 6542: 'polite', 6543: 'haws', 6544: 'hop', 6545: 'holds', 6546: 'goodbye', 6547: 'france', 6548: \"can't-believe-how-bald-he-is\", 6549: 'kadlubowski', 6550: 'jeter', 6551: 'pen', 6552: 'sang', 6553: 'captain', 6554: \"kid's\", 6555: 'recap:', 6556: \"cupid's\", 6557: 'whether', 6558: 'immiggants', 6559: 'ooh', 6560: 'david_byrne:', 6561: 'arguing', 6562: 'lonely', 6563: 'pantsless', 6564: 'parrot', 6565: 'ignoring', 6566: 'sagely', 6567: 'rig', 6568: \"b-52's:\", 6569: 'folk', 6570: 'lis', 6571: 'bleeding', 6572: 'laramie', 6573: 'expense', 6574: 'quick', 6575: 'pronto', 6576: 'crow', 6577: 'ga', 6578: 'bar-boy', 6579: 'needs', 6580: 'pee', 6581: 'squeal', 6582: 'cigarette', 6583: 'told', 6584: 'lied', 6585: 'ripped', 6586: 'paris', 6587: 'lookalike:', 6588: 'wa', 6589: 'frink', 6590: 'tropical', 6591: 'trust', 6592: 'wearing', 6593: 'williams', 6594: 'ignorant', 6595: ':', 6596: 'derek', 6597: 'call', 6598: 'catch', 6599: 'wealthy', 6600: 'assert', 6601: \"can't\", 6602: 'amiable', 6603: 'lousy', 6604: 'thankful', 6605: 'eightball', 6606: 'am', 6607: 'sacrilicious', 6608: 'orifice', 6609: 'nigel_bakerbutcher:', 6610: 'huhza', 6611: 'dea-d-d-dead', 6612: 'teeth', 6613: 'microwave', 6614: 'ingrates', 6615: 'vomit', 6616: 'tips', 6617: 'looked', 6618: 'slobbo', 6619: 'abe', 6620: 'moving', 6621: 'calling', 6622: \"cheerin'\", 6623: \"goin'\", 6624: 'fighter', 6625: 'supposed', 6626: 'plow', 6627: 'specified', 6628: 'stirring', 6629: 'couple', 6630: 'cheap', 6631: \"lefty's\", 6632: \"coaster's\", 6633: 'forget-me-drinks', 6634: 'eliminate', 6635: 'brain-switching', 6636: 'gift:', 6637: 'itself', 6638: 'kent_brockman:', 6639: 'cheaped', 6640: 'ram', 6641: 'disturbing', 6642: 'dumb', 6643: 'bouquet', 6644: 'dna', 6645: 'up-bup-bup', 6646: 'hangover', 6647: \"there's\", 6648: 'yards', 6649: 'beneath', 6650: 'panicked', 6651: 'saying', 6652: 'sweetie', 6653: 'fruit', 6654: 'uhhhh', 6655: 'needed', 6656: 'heave-ho', 6657: 'gag', 6658: 'got', 6659: 'of', 6660: 'environment', 6661: \"'\", 6662: 'reached', 6663: 'grim', 6664: 'roach', 6665: \"narratin'\", 6666: \"drawin'\", 6667: 'leftover', 6668: 'regretful', 6669: 'color', 6670: 'swan', 6671: 'much', 6672: 'labor', 6673: 'special', 6674: 'fist', 6675: 'bar_rag:', 6676: 'ayyy', 6677: 'minister', 6678: 'ivana', 6679: 'goodwill', 6680: 'lookalike', 6681: 'aidens', 6682: 'partly', 6683: 'dingy', 6684: 'burn', 6685: 'some', 6686: 'fake', 6687: 'lisa_simpson:', 6688: 'sold', 6689: 'season', 6690: \"depressin'\", 6691: 'industry', 6692: 'pal', 6693: 'space', 6694: 'cries', 6695: 'giant', 6696: 'crestfallen', 6697: 'factor', 6698: 'referee', 6699: 'proudly', 6700: 'plain', 6701: 'illustrates', 6702: 'parked', 6703: 'thanksgiving', 6704: 'could', 6705: 'rats', 6706: 'vegas', 6707: 'anyhoo', 6708: 'hillbillies', 6709: 'yea', 6710: 'name:', 6711: 'ballot', 6712: 'refinanced', 6713: 'looking', 6714: 'shred', 6715: 'harder', 6716: 'life', 6717: 'liar', 6718: 'waterfront', 6719: 'how', 6720: 'mcclure', 6721: 'boat', 6722: 'center', 6723: 'love-matic', 6724: 'unlike', 6725: 'quickly', 6726: 'politicians', 6727: 'hands', 6728: 'handing', 6729: 'acting', 6730: \"'ere\", 6731: 'example', 6732: 'solved', 6733: 'humiliation', 6734: 'deals', 6735: 'two', 6736: 'gets', 6737: 'housewife', 6738: 'alternative', 6739: 'but', 6740: 'today/', 6741: 'only', 6742: 'photo', 6743: 'dennis_kucinich:', 6744: 'thousand-year', 6745: 'one', 6746: 'yogurt', 6747: 'brassiest', 6748: 'teenage_barney:', 6749: 'faith', 6750: 'words', 6751: 'covers', 6752: 'guzzles', 6753: 'singing/pushing', 6754: 'glen', 6755: 'keep', 6756: 'bill', 6757: 'patron_#1:', 6758: 'moe_recording:', 6759: 'box', 6760: 'malibu', 6761: 'mess', 6762: 'community', 6763: 'embarrassed', 6764: 'edna_krabappel-flanders:', 6765: 'grudgingly', 6766: 'mom', 6767: 'nooo', 6768: 'handling', 6769: 'gestated', 6770: 'oils', 6771: \"stealin'\", 6772: 'dreamily', 6773: 'arimasen', 6774: \"takin'\", 6775: 'dutch', 6776: 'hourly', 6777: 'slogan', 6778: 'pressure', 6779: 'evening'}\n"
     ]
    }
   ],
   "source": [
    "\"\"\"\n",
    "DON'T MODIFY ANYTHING IN THIS CELL\n",
    "\"\"\"\n",
    "# Preprocess Training, Validation, and Testing Data\n",
    "helper.preprocess_and_save_data(data_dir, token_lookup, create_lookup_tables)"
   ]
  },
  {
   "cell_type": "markdown",
   "metadata": {},
   "source": [
    "# Check Point\n",
    "This is your first checkpoint. If you ever decide to come back to this notebook or have to restart the notebook, you can start from here. The preprocessed data has been saved to disk."
   ]
  },
  {
   "cell_type": "code",
   "execution_count": 27,
   "metadata": {
    "collapsed": true
   },
   "outputs": [],
   "source": [
    "\"\"\"\n",
    "DON'T MODIFY ANYTHING IN THIS CELL\n",
    "\"\"\"\n",
    "import helper\n",
    "import numpy as np\n",
    "import problem_unittests as tests\n",
    "\n",
    "int_text, vocab_to_int, int_to_vocab, token_dict = helper.load_preprocess()"
   ]
  },
  {
   "cell_type": "markdown",
   "metadata": {},
   "source": [
    "## Build the Neural Network\n",
    "You'll build the components necessary to build a RNN by implementing the following functions below:\n",
    "- get_inputs\n",
    "- get_init_cell\n",
    "- get_embed\n",
    "- build_rnn\n",
    "- build_nn\n",
    "- get_batches\n",
    "\n",
    "### Check the Version of TensorFlow and Access to GPU"
   ]
  },
  {
   "cell_type": "code",
   "execution_count": 41,
   "metadata": {},
   "outputs": [
    {
     "name": "stdout",
     "output_type": "stream",
     "text": [
      "TensorFlow Version: 1.2.0\n"
     ]
    },
    {
     "name": "stderr",
     "output_type": "stream",
     "text": [
      "C:\\Users\\ajayv\\Anaconda3\\envs\\tensorflow\\lib\\site-packages\\ipykernel_launcher.py:14: UserWarning: No GPU found. Please use a GPU to train your neural network.\n",
      "  \n"
     ]
    }
   ],
   "source": [
    "\"\"\"\n",
    "DON'T MODIFY ANYTHING IN THIS CELL\n",
    "\"\"\"\n",
    "from distutils.version import LooseVersion\n",
    "import warnings\n",
    "import tensorflow as tf\n",
    "\n",
    "# Check TensorFlow Version\n",
    "assert LooseVersion(tf.__version__) >= LooseVersion('1.0'), 'Please use TensorFlow version 1.0 or newer'\n",
    "print('TensorFlow Version: {}'.format(tf.__version__))\n",
    "\n",
    "# Check for a GPU\n",
    "if not tf.test.gpu_device_name():\n",
    "    warnings.warn('No GPU found. Please use a GPU to train your neural network.')\n",
    "else:\n",
    "    print('Default GPU Device: {}'.format(tf.test.gpu_device_name()))"
   ]
  },
  {
   "cell_type": "markdown",
   "metadata": {},
   "source": [
    "### Input\n",
    "Implement the `get_inputs()` function to create TF Placeholders for the Neural Network.  It should create the following placeholders:\n",
    "- Input text placeholder named \"input\" using the [TF Placeholder](https://www.tensorflow.org/api_docs/python/tf/placeholder) `name` parameter.\n",
    "- Targets placeholder\n",
    "- Learning Rate placeholder\n",
    "\n",
    "Return the placeholders in the following tuple `(Input, Targets, LearningRate)`"
   ]
  },
  {
   "cell_type": "code",
   "execution_count": 42,
   "metadata": {},
   "outputs": [
    {
     "name": "stdout",
     "output_type": "stream",
     "text": [
      "Tests Passed\n"
     ]
    }
   ],
   "source": [
    "def get_inputs():\n",
    "    \"\"\"\n",
    "    Create TF Placeholders for input, targets, and learning rate.\n",
    "    :return: Tuple (input, targets, learning rate)\n",
    "    \"\"\"\n",
    "    # TODO: Implement Function\n",
    "    Input = tf.placeholder(tf.int32,shape=(None,None),name='input')\n",
    "    targets = tf.placeholder(tf.int32,shape=(None,None), name='Targets')\n",
    "    LearningRate = tf.placeholder(tf.float32,name='Learningrate')    \n",
    "    \n",
    "    return Input, targets, LearningRate\n",
    "\n",
    "\n",
    "\"\"\"\n",
    "DON'T MODIFY ANYTHING IN THIS CELL THAT IS BELOW THIS LINE\n",
    "\"\"\"\n",
    "tests.test_get_inputs(get_inputs)"
   ]
  },
  {
   "cell_type": "markdown",
   "metadata": {},
   "source": [
    "### Build RNN Cell and Initialize\n",
    "Stack one or more [`BasicLSTMCells`](https://www.tensorflow.org/api_docs/python/tf/contrib/rnn/BasicLSTMCell) in a [`MultiRNNCell`](https://www.tensorflow.org/api_docs/python/tf/contrib/rnn/MultiRNNCell).\n",
    "- The Rnn size should be set using `rnn_size`\n",
    "- Initalize Cell State using the MultiRNNCell's [`zero_state()`](https://www.tensorflow.org/api_docs/python/tf/contrib/rnn/MultiRNNCell#zero_state) function\n",
    "    - Apply the name \"initial_state\" to the initial state using [`tf.identity()`](https://www.tensorflow.org/api_docs/python/tf/identity)\n",
    "\n",
    "Return the cell and initial state in the following tuple `(Cell, InitialState)`"
   ]
  },
  {
   "cell_type": "code",
   "execution_count": 54,
   "metadata": {},
   "outputs": [
    {
     "ename": "ValueError",
     "evalue": "prefix tensor must be either a scalar or vector, but saw tensor: Tensor(\"Placeholder:0\", dtype=int32)",
     "output_type": "error",
     "traceback": [
      "\u001b[1;31m---------------------------------------------------------------------------\u001b[0m",
      "\u001b[1;31mValueError\u001b[0m                                Traceback (most recent call last)",
      "\u001b[1;32m<ipython-input-54-980095cd89f6>\u001b[0m in \u001b[0;36m<module>\u001b[1;34m()\u001b[0m\n\u001b[0;32m     19\u001b[0m \u001b[0mDON\u001b[0m\u001b[0;31m'\u001b[0m\u001b[0mT\u001b[0m \u001b[0mMODIFY\u001b[0m \u001b[0mANYTHING\u001b[0m \u001b[0mIN\u001b[0m \u001b[0mTHIS\u001b[0m \u001b[0mCELL\u001b[0m \u001b[0mTHAT\u001b[0m \u001b[0mIS\u001b[0m \u001b[0mBELOW\u001b[0m \u001b[0mTHIS\u001b[0m \u001b[0mLINE\u001b[0m\u001b[1;33m\u001b[0m\u001b[0m\n\u001b[0;32m     20\u001b[0m \"\"\"\n\u001b[1;32m---> 21\u001b[1;33m \u001b[0mtests\u001b[0m\u001b[1;33m.\u001b[0m\u001b[0mtest_get_init_cell\u001b[0m\u001b[1;33m(\u001b[0m\u001b[0mget_init_cell\u001b[0m\u001b[1;33m)\u001b[0m\u001b[1;33m\u001b[0m\u001b[0m\n\u001b[0m",
      "\u001b[1;32m~\\Desktop\\Aj\\Ai\\deep-learning\\tv-script-generation\\problem_unittests.py\u001b[0m in \u001b[0;36mtest_get_init_cell\u001b[1;34m(get_init_cell)\u001b[0m\n\u001b[0;32m    186\u001b[0m         \u001b[0mtest_rnn_size\u001b[0m \u001b[1;33m=\u001b[0m \u001b[1;36m256\u001b[0m\u001b[1;33m\u001b[0m\u001b[0m\n\u001b[0;32m    187\u001b[0m \u001b[1;33m\u001b[0m\u001b[0m\n\u001b[1;32m--> 188\u001b[1;33m         \u001b[0mcell\u001b[0m\u001b[1;33m,\u001b[0m \u001b[0minit_state\u001b[0m \u001b[1;33m=\u001b[0m \u001b[0mget_init_cell\u001b[0m\u001b[1;33m(\u001b[0m\u001b[0mtest_batch_size_ph\u001b[0m\u001b[1;33m,\u001b[0m \u001b[0mtest_rnn_size\u001b[0m\u001b[1;33m)\u001b[0m\u001b[1;33m\u001b[0m\u001b[0m\n\u001b[0m\u001b[0;32m    189\u001b[0m \u001b[1;33m\u001b[0m\u001b[0m\n\u001b[0;32m    190\u001b[0m         \u001b[1;31m# Check type\u001b[0m\u001b[1;33m\u001b[0m\u001b[1;33m\u001b[0m\u001b[0m\n",
      "\u001b[1;32m<ipython-input-54-980095cd89f6>\u001b[0m in \u001b[0;36mget_init_cell\u001b[1;34m(batch_size, rnn_size)\u001b[0m\n\u001b[0;32m     10\u001b[0m     \u001b[0mlstm\u001b[0m \u001b[1;33m=\u001b[0m \u001b[0mtf\u001b[0m\u001b[1;33m.\u001b[0m\u001b[0mcontrib\u001b[0m\u001b[1;33m.\u001b[0m\u001b[0mrnn\u001b[0m\u001b[1;33m.\u001b[0m\u001b[0mBasicLSTMCell\u001b[0m\u001b[1;33m(\u001b[0m\u001b[0mrnn_size\u001b[0m\u001b[1;33m)\u001b[0m\u001b[1;33m\u001b[0m\u001b[0m\n\u001b[0;32m     11\u001b[0m     \u001b[0mcell\u001b[0m \u001b[1;33m=\u001b[0m \u001b[0mtf\u001b[0m\u001b[1;33m.\u001b[0m\u001b[0mcontrib\u001b[0m\u001b[1;33m.\u001b[0m\u001b[0mrnn\u001b[0m\u001b[1;33m.\u001b[0m\u001b[0mMultiRNNCell\u001b[0m\u001b[1;33m(\u001b[0m\u001b[1;33m[\u001b[0m\u001b[0mlstm\u001b[0m\u001b[1;33m]\u001b[0m \u001b[1;33m*\u001b[0m \u001b[0mlstm_layers\u001b[0m\u001b[1;33m)\u001b[0m\u001b[1;33m\u001b[0m\u001b[0m\n\u001b[1;32m---> 12\u001b[1;33m     \u001b[0minitial_state\u001b[0m \u001b[1;33m=\u001b[0m \u001b[0mcell\u001b[0m\u001b[1;33m.\u001b[0m\u001b[0mzero_state\u001b[0m\u001b[1;33m(\u001b[0m\u001b[0mbatch_size\u001b[0m\u001b[1;33m,\u001b[0m \u001b[0mtf\u001b[0m\u001b[1;33m.\u001b[0m\u001b[0mplaceholder\u001b[0m\u001b[1;33m(\u001b[0m\u001b[0mtf\u001b[0m\u001b[1;33m.\u001b[0m\u001b[0mint32\u001b[0m\u001b[1;33m,\u001b[0m \u001b[1;33m[\u001b[0m\u001b[1;33m]\u001b[0m\u001b[1;33m)\u001b[0m\u001b[1;33m)\u001b[0m\u001b[1;33m\u001b[0m\u001b[0m\n\u001b[0m\u001b[0;32m     13\u001b[0m     \u001b[0minitial_state\u001b[0m \u001b[1;33m=\u001b[0m \u001b[0mtf\u001b[0m\u001b[1;33m.\u001b[0m\u001b[0midentity\u001b[0m\u001b[1;33m(\u001b[0m\u001b[0minitial_state\u001b[0m\u001b[1;33m,\u001b[0m \u001b[0mname\u001b[0m\u001b[1;33m=\u001b[0m\u001b[1;34m'initial_state'\u001b[0m\u001b[1;33m)\u001b[0m\u001b[1;33m\u001b[0m\u001b[0m\n\u001b[0;32m     14\u001b[0m \u001b[1;33m\u001b[0m\u001b[0m\n",
      "\u001b[1;32m~\\Anaconda3\\envs\\tensorflow\\lib\\site-packages\\tensorflow\\python\\ops\\rnn_cell_impl.py\u001b[0m in \u001b[0;36mzero_state\u001b[1;34m(self, batch_size, dtype)\u001b[0m\n\u001b[0;32m    891\u001b[0m     \u001b[1;32mwith\u001b[0m \u001b[0mops\u001b[0m\u001b[1;33m.\u001b[0m\u001b[0mname_scope\u001b[0m\u001b[1;33m(\u001b[0m\u001b[0mtype\u001b[0m\u001b[1;33m(\u001b[0m\u001b[0mself\u001b[0m\u001b[1;33m)\u001b[0m\u001b[1;33m.\u001b[0m\u001b[0m__name__\u001b[0m \u001b[1;33m+\u001b[0m \u001b[1;34m\"ZeroState\"\u001b[0m\u001b[1;33m,\u001b[0m \u001b[0mvalues\u001b[0m\u001b[1;33m=\u001b[0m\u001b[1;33m[\u001b[0m\u001b[0mbatch_size\u001b[0m\u001b[1;33m]\u001b[0m\u001b[1;33m)\u001b[0m\u001b[1;33m:\u001b[0m\u001b[1;33m\u001b[0m\u001b[0m\n\u001b[0;32m    892\u001b[0m       \u001b[1;32mif\u001b[0m \u001b[0mself\u001b[0m\u001b[1;33m.\u001b[0m\u001b[0m_state_is_tuple\u001b[0m\u001b[1;33m:\u001b[0m\u001b[1;33m\u001b[0m\u001b[0m\n\u001b[1;32m--> 893\u001b[1;33m         \u001b[1;32mreturn\u001b[0m \u001b[0mtuple\u001b[0m\u001b[1;33m(\u001b[0m\u001b[0mcell\u001b[0m\u001b[1;33m.\u001b[0m\u001b[0mzero_state\u001b[0m\u001b[1;33m(\u001b[0m\u001b[0mbatch_size\u001b[0m\u001b[1;33m,\u001b[0m \u001b[0mdtype\u001b[0m\u001b[1;33m)\u001b[0m \u001b[1;32mfor\u001b[0m \u001b[0mcell\u001b[0m \u001b[1;32min\u001b[0m \u001b[0mself\u001b[0m\u001b[1;33m.\u001b[0m\u001b[0m_cells\u001b[0m\u001b[1;33m)\u001b[0m\u001b[1;33m\u001b[0m\u001b[0m\n\u001b[0m\u001b[0;32m    894\u001b[0m       \u001b[1;32melse\u001b[0m\u001b[1;33m:\u001b[0m\u001b[1;33m\u001b[0m\u001b[0m\n\u001b[0;32m    895\u001b[0m         \u001b[1;31m# We know here that state_size of each cell is not a tuple and\u001b[0m\u001b[1;33m\u001b[0m\u001b[1;33m\u001b[0m\u001b[0m\n",
      "\u001b[1;32m~\\Anaconda3\\envs\\tensorflow\\lib\\site-packages\\tensorflow\\python\\ops\\rnn_cell_impl.py\u001b[0m in \u001b[0;36m<genexpr>\u001b[1;34m(.0)\u001b[0m\n\u001b[0;32m    891\u001b[0m     \u001b[1;32mwith\u001b[0m \u001b[0mops\u001b[0m\u001b[1;33m.\u001b[0m\u001b[0mname_scope\u001b[0m\u001b[1;33m(\u001b[0m\u001b[0mtype\u001b[0m\u001b[1;33m(\u001b[0m\u001b[0mself\u001b[0m\u001b[1;33m)\u001b[0m\u001b[1;33m.\u001b[0m\u001b[0m__name__\u001b[0m \u001b[1;33m+\u001b[0m \u001b[1;34m\"ZeroState\"\u001b[0m\u001b[1;33m,\u001b[0m \u001b[0mvalues\u001b[0m\u001b[1;33m=\u001b[0m\u001b[1;33m[\u001b[0m\u001b[0mbatch_size\u001b[0m\u001b[1;33m]\u001b[0m\u001b[1;33m)\u001b[0m\u001b[1;33m:\u001b[0m\u001b[1;33m\u001b[0m\u001b[0m\n\u001b[0;32m    892\u001b[0m       \u001b[1;32mif\u001b[0m \u001b[0mself\u001b[0m\u001b[1;33m.\u001b[0m\u001b[0m_state_is_tuple\u001b[0m\u001b[1;33m:\u001b[0m\u001b[1;33m\u001b[0m\u001b[0m\n\u001b[1;32m--> 893\u001b[1;33m         \u001b[1;32mreturn\u001b[0m \u001b[0mtuple\u001b[0m\u001b[1;33m(\u001b[0m\u001b[0mcell\u001b[0m\u001b[1;33m.\u001b[0m\u001b[0mzero_state\u001b[0m\u001b[1;33m(\u001b[0m\u001b[0mbatch_size\u001b[0m\u001b[1;33m,\u001b[0m \u001b[0mdtype\u001b[0m\u001b[1;33m)\u001b[0m \u001b[1;32mfor\u001b[0m \u001b[0mcell\u001b[0m \u001b[1;32min\u001b[0m \u001b[0mself\u001b[0m\u001b[1;33m.\u001b[0m\u001b[0m_cells\u001b[0m\u001b[1;33m)\u001b[0m\u001b[1;33m\u001b[0m\u001b[0m\n\u001b[0m\u001b[0;32m    894\u001b[0m       \u001b[1;32melse\u001b[0m\u001b[1;33m:\u001b[0m\u001b[1;33m\u001b[0m\u001b[0m\n\u001b[0;32m    895\u001b[0m         \u001b[1;31m# We know here that state_size of each cell is not a tuple and\u001b[0m\u001b[1;33m\u001b[0m\u001b[1;33m\u001b[0m\u001b[0m\n",
      "\u001b[1;32m~\\Anaconda3\\envs\\tensorflow\\lib\\site-packages\\tensorflow\\python\\ops\\rnn_cell_impl.py\u001b[0m in \u001b[0;36mzero_state\u001b[1;34m(self, batch_size, dtype)\u001b[0m\n\u001b[0;32m    227\u001b[0m     \u001b[1;32mwith\u001b[0m \u001b[0mops\u001b[0m\u001b[1;33m.\u001b[0m\u001b[0mname_scope\u001b[0m\u001b[1;33m(\u001b[0m\u001b[0mtype\u001b[0m\u001b[1;33m(\u001b[0m\u001b[0mself\u001b[0m\u001b[1;33m)\u001b[0m\u001b[1;33m.\u001b[0m\u001b[0m__name__\u001b[0m \u001b[1;33m+\u001b[0m \u001b[1;34m\"ZeroState\"\u001b[0m\u001b[1;33m,\u001b[0m \u001b[0mvalues\u001b[0m\u001b[1;33m=\u001b[0m\u001b[1;33m[\u001b[0m\u001b[0mbatch_size\u001b[0m\u001b[1;33m]\u001b[0m\u001b[1;33m)\u001b[0m\u001b[1;33m:\u001b[0m\u001b[1;33m\u001b[0m\u001b[0m\n\u001b[0;32m    228\u001b[0m       \u001b[0mstate_size\u001b[0m \u001b[1;33m=\u001b[0m \u001b[0mself\u001b[0m\u001b[1;33m.\u001b[0m\u001b[0mstate_size\u001b[0m\u001b[1;33m\u001b[0m\u001b[0m\n\u001b[1;32m--> 229\u001b[1;33m       \u001b[1;32mreturn\u001b[0m \u001b[0m_zero_state_tensors\u001b[0m\u001b[1;33m(\u001b[0m\u001b[0mstate_size\u001b[0m\u001b[1;33m,\u001b[0m \u001b[0mbatch_size\u001b[0m\u001b[1;33m,\u001b[0m \u001b[0mdtype\u001b[0m\u001b[1;33m)\u001b[0m\u001b[1;33m\u001b[0m\u001b[0m\n\u001b[0m\u001b[0;32m    230\u001b[0m \u001b[1;33m\u001b[0m\u001b[0m\n\u001b[0;32m    231\u001b[0m \u001b[1;33m\u001b[0m\u001b[0m\n",
      "\u001b[1;32m~\\Anaconda3\\envs\\tensorflow\\lib\\site-packages\\tensorflow\\python\\ops\\rnn_cell_impl.py\u001b[0m in \u001b[0;36m_zero_state_tensors\u001b[1;34m(state_size, batch_size, dtype)\u001b[0m\n\u001b[0;32m    128\u001b[0m     \u001b[0msize\u001b[0m\u001b[1;33m.\u001b[0m\u001b[0mset_shape\u001b[0m\u001b[1;33m(\u001b[0m\u001b[0mc_static\u001b[0m\u001b[1;33m)\u001b[0m\u001b[1;33m\u001b[0m\u001b[0m\n\u001b[0;32m    129\u001b[0m     \u001b[1;32mreturn\u001b[0m \u001b[0msize\u001b[0m\u001b[1;33m\u001b[0m\u001b[0m\n\u001b[1;32m--> 130\u001b[1;33m   \u001b[1;32mreturn\u001b[0m \u001b[0mnest\u001b[0m\u001b[1;33m.\u001b[0m\u001b[0mmap_structure\u001b[0m\u001b[1;33m(\u001b[0m\u001b[0mget_state_shape\u001b[0m\u001b[1;33m,\u001b[0m \u001b[0mstate_size\u001b[0m\u001b[1;33m)\u001b[0m\u001b[1;33m\u001b[0m\u001b[0m\n\u001b[0m\u001b[0;32m    131\u001b[0m \u001b[1;33m\u001b[0m\u001b[0m\n\u001b[0;32m    132\u001b[0m \u001b[1;33m\u001b[0m\u001b[0m\n",
      "\u001b[1;32m~\\Anaconda3\\envs\\tensorflow\\lib\\site-packages\\tensorflow\\python\\util\\nest.py\u001b[0m in \u001b[0;36mmap_structure\u001b[1;34m(func, *structure, **check_types_dict)\u001b[0m\n\u001b[0;32m    323\u001b[0m \u001b[1;33m\u001b[0m\u001b[0m\n\u001b[0;32m    324\u001b[0m   return pack_sequence_as(\n\u001b[1;32m--> 325\u001b[1;33m       structure[0], [func(*x) for x in entries])\n\u001b[0m\u001b[0;32m    326\u001b[0m \u001b[1;33m\u001b[0m\u001b[0m\n\u001b[0;32m    327\u001b[0m \u001b[1;33m\u001b[0m\u001b[0m\n",
      "\u001b[1;32m~\\Anaconda3\\envs\\tensorflow\\lib\\site-packages\\tensorflow\\python\\util\\nest.py\u001b[0m in \u001b[0;36m<listcomp>\u001b[1;34m(.0)\u001b[0m\n\u001b[0;32m    323\u001b[0m \u001b[1;33m\u001b[0m\u001b[0m\n\u001b[0;32m    324\u001b[0m   return pack_sequence_as(\n\u001b[1;32m--> 325\u001b[1;33m       structure[0], [func(*x) for x in entries])\n\u001b[0m\u001b[0;32m    326\u001b[0m \u001b[1;33m\u001b[0m\u001b[0m\n\u001b[0;32m    327\u001b[0m \u001b[1;33m\u001b[0m\u001b[0m\n",
      "\u001b[1;32m~\\Anaconda3\\envs\\tensorflow\\lib\\site-packages\\tensorflow\\python\\ops\\rnn_cell_impl.py\u001b[0m in \u001b[0;36mget_state_shape\u001b[1;34m(s)\u001b[0m\n\u001b[0;32m    123\u001b[0m   \u001b[1;32mdef\u001b[0m \u001b[0mget_state_shape\u001b[0m\u001b[1;33m(\u001b[0m\u001b[0ms\u001b[0m\u001b[1;33m)\u001b[0m\u001b[1;33m:\u001b[0m\u001b[1;33m\u001b[0m\u001b[0m\n\u001b[0;32m    124\u001b[0m     \u001b[1;34m\"\"\"Combine s with batch_size to get a proper tensor shape.\"\"\"\u001b[0m\u001b[1;33m\u001b[0m\u001b[0m\n\u001b[1;32m--> 125\u001b[1;33m     \u001b[0mc\u001b[0m \u001b[1;33m=\u001b[0m \u001b[0m_concat\u001b[0m\u001b[1;33m(\u001b[0m\u001b[0mbatch_size\u001b[0m\u001b[1;33m,\u001b[0m \u001b[0ms\u001b[0m\u001b[1;33m)\u001b[0m\u001b[1;33m\u001b[0m\u001b[0m\n\u001b[0m\u001b[0;32m    126\u001b[0m     \u001b[0mc_static\u001b[0m \u001b[1;33m=\u001b[0m \u001b[0m_concat\u001b[0m\u001b[1;33m(\u001b[0m\u001b[0mbatch_size\u001b[0m\u001b[1;33m,\u001b[0m \u001b[0ms\u001b[0m\u001b[1;33m,\u001b[0m \u001b[0mstatic\u001b[0m\u001b[1;33m=\u001b[0m\u001b[1;32mTrue\u001b[0m\u001b[1;33m)\u001b[0m\u001b[1;33m\u001b[0m\u001b[0m\n\u001b[0;32m    127\u001b[0m     \u001b[0msize\u001b[0m \u001b[1;33m=\u001b[0m \u001b[0marray_ops\u001b[0m\u001b[1;33m.\u001b[0m\u001b[0mzeros\u001b[0m\u001b[1;33m(\u001b[0m\u001b[0mc\u001b[0m\u001b[1;33m,\u001b[0m \u001b[0mdtype\u001b[0m\u001b[1;33m=\u001b[0m\u001b[0mdtype\u001b[0m\u001b[1;33m)\u001b[0m\u001b[1;33m\u001b[0m\u001b[0m\n",
      "\u001b[1;32m~\\Anaconda3\\envs\\tensorflow\\lib\\site-packages\\tensorflow\\python\\ops\\rnn_cell_impl.py\u001b[0m in \u001b[0;36m_concat\u001b[1;34m(prefix, suffix, static)\u001b[0m\n\u001b[0;32m     88\u001b[0m     \u001b[1;32melif\u001b[0m \u001b[0mp\u001b[0m\u001b[1;33m.\u001b[0m\u001b[0mshape\u001b[0m\u001b[1;33m.\u001b[0m\u001b[0mndims\u001b[0m \u001b[1;33m!=\u001b[0m \u001b[1;36m1\u001b[0m\u001b[1;33m:\u001b[0m\u001b[1;33m\u001b[0m\u001b[0m\n\u001b[0;32m     89\u001b[0m       raise ValueError(\"prefix tensor must be either a scalar or vector, \"\n\u001b[1;32m---> 90\u001b[1;33m                        \"but saw tensor: %s\" % p)\n\u001b[0m\u001b[0;32m     91\u001b[0m   \u001b[1;32melse\u001b[0m\u001b[1;33m:\u001b[0m\u001b[1;33m\u001b[0m\u001b[0m\n\u001b[0;32m     92\u001b[0m     \u001b[0mp\u001b[0m \u001b[1;33m=\u001b[0m \u001b[0mtensor_shape\u001b[0m\u001b[1;33m.\u001b[0m\u001b[0mas_shape\u001b[0m\u001b[1;33m(\u001b[0m\u001b[0mprefix\u001b[0m\u001b[1;33m)\u001b[0m\u001b[1;33m\u001b[0m\u001b[0m\n",
      "\u001b[1;31mValueError\u001b[0m: prefix tensor must be either a scalar or vector, but saw tensor: Tensor(\"Placeholder:0\", dtype=int32)"
     ]
    }
   ],
   "source": [
    "def get_init_cell(batch_size, rnn_size):\n",
    "    \"\"\"\n",
    "    Create an RNN Cell and initialize it.\n",
    "    :param batch_size: Size of batches\n",
    "    :param rnn_size: Size of RNNs\n",
    "    :return: Tuple (cell, initialize state)\n",
    "    \"\"\"\n",
    "    lstm_layers = 2\n",
    "    # TODO: Implement Function\n",
    "    lstm = tf.contrib.rnn.BasicLSTMCell(rnn_size)\n",
    "    cell = tf.contrib.rnn.MultiRNNCell([lstm] * lstm_layers)\n",
    "    initial_state = cell.zero_state(batch_size, tf.placeholder(tf.int32, []))\n",
    "    initial_state = tf.identity(initial_state, name='initial_state')\n",
    "    \n",
    "    return cell,initial_state\n",
    "\n",
    "\n",
    "\"\"\"\n",
    "DON'T MODIFY ANYTHING IN THIS CELL THAT IS BELOW THIS LINE\n",
    "\"\"\"\n",
    "tests.test_get_init_cell(get_init_cell)"
   ]
  },
  {
   "cell_type": "markdown",
   "metadata": {},
   "source": [
    "### Word Embedding\n",
    "Apply embedding to `input_data` using TensorFlow.  Return the embedded sequence."
   ]
  },
  {
   "cell_type": "code",
   "execution_count": null,
   "metadata": {
    "collapsed": true
   },
   "outputs": [],
   "source": [
    "def get_embed(input_data, vocab_size, embed_dim):\n",
    "    \"\"\"\n",
    "    Create embedding for <input_data>.\n",
    "    :param input_data: TF placeholder for text input.\n",
    "    :param vocab_size: Number of words in vocabulary.\n",
    "    :param embed_dim: Number of embedding dimensions\n",
    "    :return: Embedded input.\n",
    "    \"\"\"\n",
    "    # TODO: Implement Function\n",
    "    embedding = tf.Variable(tf.random_uniform([vocab_size,embed_dim],-1.0,1.0), dtype=tf.float32)\n",
    "    return tf.nn.embedding_lookup(embedding,input_data)\n",
    "\n",
    "\n",
    "\"\"\"\n",
    "DON'T MODIFY ANYTHING IN THIS CELL THAT IS BELOW THIS LINE\n",
    "\"\"\"\n",
    "tests.test_get_embed(get_embed)"
   ]
  },
  {
   "cell_type": "markdown",
   "metadata": {},
   "source": [
    "### Build RNN\n",
    "You created a RNN Cell in the `get_init_cell()` function.  Time to use the cell to create a RNN.\n",
    "- Build the RNN using the [`tf.nn.dynamic_rnn()`](https://www.tensorflow.org/api_docs/python/tf/nn/dynamic_rnn)\n",
    " - Apply the name \"final_state\" to the final state using [`tf.identity()`](https://www.tensorflow.org/api_docs/python/tf/identity)\n",
    "\n",
    "Return the outputs and final_state state in the following tuple `(Outputs, FinalState)` "
   ]
  },
  {
   "cell_type": "code",
   "execution_count": null,
   "metadata": {
    "collapsed": true
   },
   "outputs": [],
   "source": [
    "def build_rnn(cell, inputs):\n",
    "    \"\"\"\n",
    "    Create a RNN using a RNN Cell\n",
    "    :param cell: RNN Cell\n",
    "    :param inputs: Input text data\n",
    "    :return: Tuple (Outputs, Final State)\n",
    "    \"\"\"\n",
    "    # TODO: Implement Function\n",
    "    tf.nn.dynamicrnn\n",
    "    \n",
    "    return None, None\n",
    "\n",
    "\n",
    "\"\"\"\n",
    "DON'T MODIFY ANYTHING IN THIS CELL THAT IS BELOW THIS LINE\n",
    "\"\"\"\n",
    "tests.test_build_rnn(build_rnn)"
   ]
  },
  {
   "cell_type": "markdown",
   "metadata": {},
   "source": [
    "### Build the Neural Network\n",
    "Apply the functions you implemented above to:\n",
    "- Apply embedding to `input_data` using your `get_embed(input_data, vocab_size, embed_dim)` function.\n",
    "- Build RNN using `cell` and your `build_rnn(cell, inputs)` function.\n",
    "- Apply a fully connected layer with a linear activation and `vocab_size` as the number of outputs.\n",
    "\n",
    "Return the logits and final state in the following tuple (Logits, FinalState) "
   ]
  },
  {
   "cell_type": "code",
   "execution_count": null,
   "metadata": {
    "collapsed": true
   },
   "outputs": [],
   "source": [
    "def build_nn(cell, rnn_size, input_data, vocab_size, embed_dim):\n",
    "    \"\"\"\n",
    "    Build part of the neural network\n",
    "    :param cell: RNN cell\n",
    "    :param rnn_size: Size of rnns\n",
    "    :param input_data: Input data\n",
    "    :param vocab_size: Vocabulary size\n",
    "    :param embed_dim: Number of embedding dimensions\n",
    "    :return: Tuple (Logits, FinalState)\n",
    "    \"\"\"\n",
    "    # TODO: Implement Function\n",
    "    return None, None\n",
    "\n",
    "\n",
    "\"\"\"\n",
    "DON'T MODIFY ANYTHING IN THIS CELL THAT IS BELOW THIS LINE\n",
    "\"\"\"\n",
    "tests.test_build_nn(build_nn)"
   ]
  },
  {
   "cell_type": "markdown",
   "metadata": {},
   "source": [
    "### Batches\n",
    "Implement `get_batches` to create batches of input and targets using `int_text`.  The batches should be a Numpy array with the shape `(number of batches, 2, batch size, sequence length)`. Each batch contains two elements:\n",
    "- The first element is a single batch of **input** with the shape `[batch size, sequence length]`\n",
    "- The second element is a single batch of **targets** with the shape `[batch size, sequence length]`\n",
    "\n",
    "If you can't fill the last batch with enough data, drop the last batch.\n",
    "\n",
    "For exmple, `get_batches([1, 2, 3, 4, 5, 6, 7, 8, 9, 10, 11, 12, 13, 14, 15, 16, 17, 18, 19, 20], 3, 2)` would return a Numpy array of the following:\n",
    "```\n",
    "[\n",
    "  # First Batch\n",
    "  [\n",
    "    # Batch of Input\n",
    "    [[ 1  2], [ 7  8], [13 14]]\n",
    "    # Batch of targets\n",
    "    [[ 2  3], [ 8  9], [14 15]]\n",
    "  ]\n",
    "\n",
    "  # Second Batch\n",
    "  [\n",
    "    # Batch of Input\n",
    "    [[ 3  4], [ 9 10], [15 16]]\n",
    "    # Batch of targets\n",
    "    [[ 4  5], [10 11], [16 17]]\n",
    "  ]\n",
    "\n",
    "  # Third Batch\n",
    "  [\n",
    "    # Batch of Input\n",
    "    [[ 5  6], [11 12], [17 18]]\n",
    "    # Batch of targets\n",
    "    [[ 6  7], [12 13], [18  1]]\n",
    "  ]\n",
    "]\n",
    "```\n",
    "\n",
    "Notice that the last target value in the last batch is the first input value of the first batch. In this case, `1`. This is a common technique used when creating sequence batches, although it is rather unintuitive."
   ]
  },
  {
   "cell_type": "code",
   "execution_count": null,
   "metadata": {
    "collapsed": true
   },
   "outputs": [],
   "source": [
    "def get_batches(int_text, batch_size, seq_length):\n",
    "    \"\"\"\n",
    "    Return batches of input and target\n",
    "    :param int_text: Text with the words replaced by their ids\n",
    "    :param batch_size: The size of batch\n",
    "    :param seq_length: The length of sequence\n",
    "    :return: Batches as a Numpy array\n",
    "    \"\"\"\n",
    "    # TODO: Implement Function\n",
    "    return None\n",
    "\n",
    "\n",
    "\"\"\"\n",
    "DON'T MODIFY ANYTHING IN THIS CELL THAT IS BELOW THIS LINE\n",
    "\"\"\"\n",
    "tests.test_get_batches(get_batches)"
   ]
  },
  {
   "cell_type": "markdown",
   "metadata": {},
   "source": [
    "## Neural Network Training\n",
    "### Hyperparameters\n",
    "Tune the following parameters:\n",
    "\n",
    "- Set `num_epochs` to the number of epochs.\n",
    "- Set `batch_size` to the batch size.\n",
    "- Set `rnn_size` to the size of the RNNs.\n",
    "- Set `embed_dim` to the size of the embedding.\n",
    "- Set `seq_length` to the length of sequence.\n",
    "- Set `learning_rate` to the learning rate.\n",
    "- Set `show_every_n_batches` to the number of batches the neural network should print progress."
   ]
  },
  {
   "cell_type": "code",
   "execution_count": null,
   "metadata": {
    "collapsed": true
   },
   "outputs": [],
   "source": [
    "# Number of Epochs\n",
    "num_epochs = None\n",
    "# Batch Size\n",
    "batch_size = None\n",
    "# RNN Size\n",
    "rnn_size = None\n",
    "# Embedding Dimension Size\n",
    "embed_dim = None\n",
    "# Sequence Length\n",
    "seq_length = None\n",
    "# Learning Rate\n",
    "learning_rate = None\n",
    "# Show stats for every n number of batches\n",
    "show_every_n_batches = None\n",
    "\n",
    "\"\"\"\n",
    "DON'T MODIFY ANYTHING IN THIS CELL THAT IS BELOW THIS LINE\n",
    "\"\"\"\n",
    "save_dir = './save'"
   ]
  },
  {
   "cell_type": "markdown",
   "metadata": {},
   "source": [
    "### Build the Graph\n",
    "Build the graph using the neural network you implemented."
   ]
  },
  {
   "cell_type": "code",
   "execution_count": null,
   "metadata": {
    "collapsed": true
   },
   "outputs": [],
   "source": [
    "\"\"\"\n",
    "DON'T MODIFY ANYTHING IN THIS CELL\n",
    "\"\"\"\n",
    "from tensorflow.contrib import seq2seq\n",
    "\n",
    "train_graph = tf.Graph()\n",
    "with train_graph.as_default():\n",
    "    vocab_size = len(int_to_vocab)\n",
    "    input_text, targets, lr = get_inputs()\n",
    "    input_data_shape = tf.shape(input_text)\n",
    "    cell, initial_state = get_init_cell(input_data_shape[0], rnn_size)\n",
    "    logits, final_state = build_nn(cell, rnn_size, input_text, vocab_size, embed_dim)\n",
    "\n",
    "    # Probabilities for generating words\n",
    "    probs = tf.nn.softmax(logits, name='probs')\n",
    "\n",
    "    # Loss function\n",
    "    cost = seq2seq.sequence_loss(\n",
    "        logits,\n",
    "        targets,\n",
    "        tf.ones([input_data_shape[0], input_data_shape[1]]))\n",
    "\n",
    "    # Optimizer\n",
    "    optimizer = tf.train.AdamOptimizer(lr)\n",
    "\n",
    "    # Gradient Clipping\n",
    "    gradients = optimizer.compute_gradients(cost)\n",
    "    capped_gradients = [(tf.clip_by_value(grad, -1., 1.), var) for grad, var in gradients if grad is not None]\n",
    "    train_op = optimizer.apply_gradients(capped_gradients)"
   ]
  },
  {
   "cell_type": "markdown",
   "metadata": {},
   "source": [
    "## Train\n",
    "Train the neural network on the preprocessed data.  If you have a hard time getting a good loss, check the [forms](https://discussions.udacity.com/) to see if anyone is having the same problem."
   ]
  },
  {
   "cell_type": "code",
   "execution_count": null,
   "metadata": {
    "collapsed": true
   },
   "outputs": [],
   "source": [
    "\"\"\"\n",
    "DON'T MODIFY ANYTHING IN THIS CELL\n",
    "\"\"\"\n",
    "batches = get_batches(int_text, batch_size, seq_length)\n",
    "\n",
    "with tf.Session(graph=train_graph) as sess:\n",
    "    sess.run(tf.global_variables_initializer())\n",
    "\n",
    "    for epoch_i in range(num_epochs):\n",
    "        state = sess.run(initial_state, {input_text: batches[0][0]})\n",
    "\n",
    "        for batch_i, (x, y) in enumerate(batches):\n",
    "            feed = {\n",
    "                input_text: x,\n",
    "                targets: y,\n",
    "                initial_state: state,\n",
    "                lr: learning_rate}\n",
    "            train_loss, state, _ = sess.run([cost, final_state, train_op], feed)\n",
    "\n",
    "            # Show every <show_every_n_batches> batches\n",
    "            if (epoch_i * len(batches) + batch_i) % show_every_n_batches == 0:\n",
    "                print('Epoch {:>3} Batch {:>4}/{}   train_loss = {:.3f}'.format(\n",
    "                    epoch_i,\n",
    "                    batch_i,\n",
    "                    len(batches),\n",
    "                    train_loss))\n",
    "\n",
    "    # Save Model\n",
    "    saver = tf.train.Saver()\n",
    "    saver.save(sess, save_dir)\n",
    "    print('Model Trained and Saved')"
   ]
  },
  {
   "cell_type": "markdown",
   "metadata": {},
   "source": [
    "## Save Parameters\n",
    "Save `seq_length` and `save_dir` for generating a new TV script."
   ]
  },
  {
   "cell_type": "code",
   "execution_count": null,
   "metadata": {
    "collapsed": true
   },
   "outputs": [],
   "source": [
    "\"\"\"\n",
    "DON'T MODIFY ANYTHING IN THIS CELL\n",
    "\"\"\"\n",
    "# Save parameters for checkpoint\n",
    "helper.save_params((seq_length, save_dir))"
   ]
  },
  {
   "cell_type": "markdown",
   "metadata": {},
   "source": [
    "# Checkpoint"
   ]
  },
  {
   "cell_type": "code",
   "execution_count": null,
   "metadata": {
    "collapsed": true
   },
   "outputs": [],
   "source": [
    "\"\"\"\n",
    "DON'T MODIFY ANYTHING IN THIS CELL\n",
    "\"\"\"\n",
    "import tensorflow as tf\n",
    "import numpy as np\n",
    "import helper\n",
    "import problem_unittests as tests\n",
    "\n",
    "_, vocab_to_int, int_to_vocab, token_dict = helper.load_preprocess()\n",
    "seq_length, load_dir = helper.load_params()"
   ]
  },
  {
   "cell_type": "markdown",
   "metadata": {},
   "source": [
    "## Implement Generate Functions\n",
    "### Get Tensors\n",
    "Get tensors from `loaded_graph` using the function [`get_tensor_by_name()`](https://www.tensorflow.org/api_docs/python/tf/Graph#get_tensor_by_name).  Get the tensors using the following names:\n",
    "- \"input:0\"\n",
    "- \"initial_state:0\"\n",
    "- \"final_state:0\"\n",
    "- \"probs:0\"\n",
    "\n",
    "Return the tensors in the following tuple `(InputTensor, InitialStateTensor, FinalStateTensor, ProbsTensor)` "
   ]
  },
  {
   "cell_type": "code",
   "execution_count": null,
   "metadata": {
    "collapsed": true
   },
   "outputs": [],
   "source": [
    "def get_tensors(loaded_graph):\n",
    "    \"\"\"\n",
    "    Get input, initial state, final state, and probabilities tensor from <loaded_graph>\n",
    "    :param loaded_graph: TensorFlow graph loaded from file\n",
    "    :return: Tuple (InputTensor, InitialStateTensor, FinalStateTensor, ProbsTensor)\n",
    "    \"\"\"\n",
    "    # TODO: Implement Function\n",
    "    return None, None, None, None\n",
    "\n",
    "\n",
    "\"\"\"\n",
    "DON'T MODIFY ANYTHING IN THIS CELL THAT IS BELOW THIS LINE\n",
    "\"\"\"\n",
    "tests.test_get_tensors(get_tensors)"
   ]
  },
  {
   "cell_type": "markdown",
   "metadata": {},
   "source": [
    "### Choose Word\n",
    "Implement the `pick_word()` function to select the next word using `probabilities`."
   ]
  },
  {
   "cell_type": "code",
   "execution_count": null,
   "metadata": {
    "collapsed": true
   },
   "outputs": [],
   "source": [
    "def pick_word(probabilities, int_to_vocab):\n",
    "    \"\"\"\n",
    "    Pick the next word in the generated text\n",
    "    :param probabilities: Probabilites of the next word\n",
    "    :param int_to_vocab: Dictionary of word ids as the keys and words as the values\n",
    "    :return: String of the predicted word\n",
    "    \"\"\"\n",
    "    # TODO: Implement Function\n",
    "    return None\n",
    "\n",
    "\n",
    "\"\"\"\n",
    "DON'T MODIFY ANYTHING IN THIS CELL THAT IS BELOW THIS LINE\n",
    "\"\"\"\n",
    "tests.test_pick_word(pick_word)"
   ]
  },
  {
   "cell_type": "markdown",
   "metadata": {},
   "source": [
    "## Generate TV Script\n",
    "This will generate the TV script for you.  Set `gen_length` to the length of TV script you want to generate."
   ]
  },
  {
   "cell_type": "code",
   "execution_count": null,
   "metadata": {
    "collapsed": true
   },
   "outputs": [],
   "source": [
    "gen_length = 200\n",
    "# homer_simpson, moe_szyslak, or Barney_Gumble\n",
    "prime_word = 'moe_szyslak'\n",
    "\n",
    "\"\"\"\n",
    "DON'T MODIFY ANYTHING IN THIS CELL THAT IS BELOW THIS LINE\n",
    "\"\"\"\n",
    "loaded_graph = tf.Graph()\n",
    "with tf.Session(graph=loaded_graph) as sess:\n",
    "    # Load saved model\n",
    "    loader = tf.train.import_meta_graph(load_dir + '.meta')\n",
    "    loader.restore(sess, load_dir)\n",
    "\n",
    "    # Get Tensors from loaded model\n",
    "    input_text, initial_state, final_state, probs = get_tensors(loaded_graph)\n",
    "\n",
    "    # Sentences generation setup\n",
    "    gen_sentences = [prime_word + ':']\n",
    "    prev_state = sess.run(initial_state, {input_text: np.array([[1]])})\n",
    "\n",
    "    # Generate sentences\n",
    "    for n in range(gen_length):\n",
    "        # Dynamic Input\n",
    "        dyn_input = [[vocab_to_int[word] for word in gen_sentences[-seq_length:]]]\n",
    "        dyn_seq_length = len(dyn_input[0])\n",
    "\n",
    "        # Get Prediction\n",
    "        probabilities, prev_state = sess.run(\n",
    "            [probs, final_state],\n",
    "            {input_text: dyn_input, initial_state: prev_state})\n",
    "        \n",
    "        pred_word = pick_word(probabilities[dyn_seq_length-1], int_to_vocab)\n",
    "\n",
    "        gen_sentences.append(pred_word)\n",
    "    \n",
    "    # Remove tokens\n",
    "    tv_script = ' '.join(gen_sentences)\n",
    "    for key, token in token_dict.items():\n",
    "        ending = ' ' if key in ['\\n', '(', '\"'] else ''\n",
    "        tv_script = tv_script.replace(' ' + token.lower(), key)\n",
    "    tv_script = tv_script.replace('\\n ', '\\n')\n",
    "    tv_script = tv_script.replace('( ', '(')\n",
    "        \n",
    "    print(tv_script)"
   ]
  },
  {
   "cell_type": "markdown",
   "metadata": {},
   "source": [
    "# The TV Script is Nonsensical\n",
    "It's ok if the TV script doesn't make any sense.  We trained on less than a megabyte of text.  In order to get good results, you'll have to use a smaller vocabulary or get more data.  Luckly there's more data!  As we mentioned in the begging of this project, this is a subset of [another dataset](https://www.kaggle.com/wcukierski/the-simpsons-by-the-data).  We didn't have you train on all the data, because that would take too long.  However, you are free to train your neural network on all the data.  After you complete the project, of course.\n",
    "# Submitting This Project\n",
    "When submitting this project, make sure to run all the cells before saving the notebook. Save the notebook file as \"dlnd_tv_script_generation.ipynb\" and save it as a HTML file under \"File\" -> \"Download as\". Include the \"helper.py\" and \"problem_unittests.py\" files in your submission."
   ]
  }
 ],
 "metadata": {
  "kernelspec": {
   "display_name": "Python 3",
   "language": "python",
   "name": "python3"
  },
  "language_info": {
   "codemirror_mode": {
    "name": "ipython",
    "version": 3
   },
   "file_extension": ".py",
   "mimetype": "text/x-python",
   "name": "python",
   "nbconvert_exporter": "python",
   "pygments_lexer": "ipython3",
   "version": "3.5.3"
  },
  "widgets": {
   "state": {},
   "version": "1.1.2"
  }
 },
 "nbformat": 4,
 "nbformat_minor": 1
}
